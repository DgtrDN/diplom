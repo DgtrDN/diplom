{
 "cells": [
  {
   "cell_type": "code",
   "execution_count": null,
   "id": "aef4614e",
   "metadata": {},
   "outputs": [],
   "source": [
    "# ! pip install pandas matplotlib seaborn scikit-learn kagglehub numpy xgboost lightgbm catboost"
   ]
  },
  {
   "cell_type": "code",
   "execution_count": 5,
   "id": "c1f33b22",
   "metadata": {},
   "outputs": [],
   "source": [
    "# ! python.exe -m pip install --upgrade pip"
   ]
  },
  {
   "cell_type": "markdown",
   "id": "8a2cd4b3",
   "metadata": {},
   "source": [
    "# 1. Импорт библиотек и настройка визуализаций"
   ]
  },
  {
   "cell_type": "code",
   "execution_count": null,
   "id": "09de126f",
   "metadata": {},
   "outputs": [],
   "source": [
    "import pandas as pd\n",
    "import numpy as np\n",
    "import matplotlib.pyplot as plt\n",
    "import seaborn as sns\n",
    "import kagglehub\n",
    "\n",
    "from sklearn.model_selection import train_test_split, GridSearchCV, cross_val_score\n",
    "from sklearn.preprocessing import StandardScaler, LabelEncoder\n",
    "from sklearn.linear_model import LogisticRegression\n",
    "from sklearn.ensemble import RandomForestClassifier, GradientBoostingClassifier\n",
    "from sklearn.tree import DecisionTreeClassifier\n",
    "from sklearn.metrics import (accuracy_score, precision_score, recall_score,\n",
    "                             f1_score, roc_auc_score, confusion_matrix,\n",
    "                             classification_report, roc_curve)\n",
    "from sklearn.feature_selection import SelectKBest, f_classif\n",
    "import xgboost as xgb\n",
    "import lightgbm as lgb\n",
    "import catboost as cb\n",
    "import warnings\n",
    "\n",
    "warnings.filterwarnings('ignore')\n",
    "\n",
    "# Настройка визуализаций\n",
    "\n",
    "plt.style.use('ggplot')\n",
    "sns.set_palette(\"Set2\")\n",
    "%matplotlib inline"
   ]
  },
  {
   "cell_type": "markdown",
   "id": "49d8c20c",
   "metadata": {},
   "source": [
    "# 2. Загрузка данных"
   ]
  },
  {
   "cell_type": "markdown",
   "id": "fc20f9e0",
   "metadata": {},
   "source": [
    "## Данные загружаются напрямую из kagglehub, что обеспечивает воспроизводимость. Загрузка датасета с помощью Kaggle API"
   ]
  },
  {
   "cell_type": "code",
   "execution_count": 7,
   "id": "67f4daf9",
   "metadata": {},
   "outputs": [
    {
     "name": "stdout",
     "output_type": "stream",
     "text": [
      "\n",
      "Размер датасета: (7043, 21)\n",
      "\n",
      "Первые 5 строк:\n"
     ]
    },
    {
     "data": {
      "application/vnd.microsoft.datawrangler.viewer.v0+json": {
       "columns": [
        {
         "name": "index",
         "rawType": "int64",
         "type": "integer"
        },
        {
         "name": "customerID",
         "rawType": "object",
         "type": "string"
        },
        {
         "name": "gender",
         "rawType": "object",
         "type": "string"
        },
        {
         "name": "SeniorCitizen",
         "rawType": "int64",
         "type": "integer"
        },
        {
         "name": "Partner",
         "rawType": "object",
         "type": "string"
        },
        {
         "name": "Dependents",
         "rawType": "object",
         "type": "string"
        },
        {
         "name": "tenure",
         "rawType": "int64",
         "type": "integer"
        },
        {
         "name": "PhoneService",
         "rawType": "object",
         "type": "string"
        },
        {
         "name": "MultipleLines",
         "rawType": "object",
         "type": "string"
        },
        {
         "name": "InternetService",
         "rawType": "object",
         "type": "string"
        },
        {
         "name": "OnlineSecurity",
         "rawType": "object",
         "type": "string"
        },
        {
         "name": "OnlineBackup",
         "rawType": "object",
         "type": "string"
        },
        {
         "name": "DeviceProtection",
         "rawType": "object",
         "type": "string"
        },
        {
         "name": "TechSupport",
         "rawType": "object",
         "type": "string"
        },
        {
         "name": "StreamingTV",
         "rawType": "object",
         "type": "string"
        },
        {
         "name": "StreamingMovies",
         "rawType": "object",
         "type": "string"
        },
        {
         "name": "Contract",
         "rawType": "object",
         "type": "string"
        },
        {
         "name": "PaperlessBilling",
         "rawType": "object",
         "type": "string"
        },
        {
         "name": "PaymentMethod",
         "rawType": "object",
         "type": "string"
        },
        {
         "name": "MonthlyCharges",
         "rawType": "float64",
         "type": "float"
        },
        {
         "name": "TotalCharges",
         "rawType": "object",
         "type": "string"
        },
        {
         "name": "Churn",
         "rawType": "object",
         "type": "string"
        }
       ],
       "ref": "f8ade444-7ab8-426d-a75d-6ea8ccdc65eb",
       "rows": [
        [
         "0",
         "7590-VHVEG",
         "Female",
         "0",
         "Yes",
         "No",
         "1",
         "No",
         "No phone service",
         "DSL",
         "No",
         "Yes",
         "No",
         "No",
         "No",
         "No",
         "Month-to-month",
         "Yes",
         "Electronic check",
         "29.85",
         "29.85",
         "No"
        ],
        [
         "1",
         "5575-GNVDE",
         "Male",
         "0",
         "No",
         "No",
         "34",
         "Yes",
         "No",
         "DSL",
         "Yes",
         "No",
         "Yes",
         "No",
         "No",
         "No",
         "One year",
         "No",
         "Mailed check",
         "56.95",
         "1889.5",
         "No"
        ],
        [
         "2",
         "3668-QPYBK",
         "Male",
         "0",
         "No",
         "No",
         "2",
         "Yes",
         "No",
         "DSL",
         "Yes",
         "Yes",
         "No",
         "No",
         "No",
         "No",
         "Month-to-month",
         "Yes",
         "Mailed check",
         "53.85",
         "108.15",
         "Yes"
        ],
        [
         "3",
         "7795-CFOCW",
         "Male",
         "0",
         "No",
         "No",
         "45",
         "No",
         "No phone service",
         "DSL",
         "Yes",
         "No",
         "Yes",
         "Yes",
         "No",
         "No",
         "One year",
         "No",
         "Bank transfer (automatic)",
         "42.3",
         "1840.75",
         "No"
        ],
        [
         "4",
         "9237-HQITU",
         "Female",
         "0",
         "No",
         "No",
         "2",
         "Yes",
         "No",
         "Fiber optic",
         "No",
         "No",
         "No",
         "No",
         "No",
         "No",
         "Month-to-month",
         "Yes",
         "Electronic check",
         "70.7",
         "151.65",
         "Yes"
        ]
       ],
       "shape": {
        "columns": 21,
        "rows": 5
       }
      },
      "text/html": [
       "<div>\n",
       "<style scoped>\n",
       "    .dataframe tbody tr th:only-of-type {\n",
       "        vertical-align: middle;\n",
       "    }\n",
       "\n",
       "    .dataframe tbody tr th {\n",
       "        vertical-align: top;\n",
       "    }\n",
       "\n",
       "    .dataframe thead th {\n",
       "        text-align: right;\n",
       "    }\n",
       "</style>\n",
       "<table border=\"1\" class=\"dataframe\">\n",
       "  <thead>\n",
       "    <tr style=\"text-align: right;\">\n",
       "      <th></th>\n",
       "      <th>customerID</th>\n",
       "      <th>gender</th>\n",
       "      <th>SeniorCitizen</th>\n",
       "      <th>Partner</th>\n",
       "      <th>Dependents</th>\n",
       "      <th>tenure</th>\n",
       "      <th>PhoneService</th>\n",
       "      <th>MultipleLines</th>\n",
       "      <th>InternetService</th>\n",
       "      <th>OnlineSecurity</th>\n",
       "      <th>...</th>\n",
       "      <th>DeviceProtection</th>\n",
       "      <th>TechSupport</th>\n",
       "      <th>StreamingTV</th>\n",
       "      <th>StreamingMovies</th>\n",
       "      <th>Contract</th>\n",
       "      <th>PaperlessBilling</th>\n",
       "      <th>PaymentMethod</th>\n",
       "      <th>MonthlyCharges</th>\n",
       "      <th>TotalCharges</th>\n",
       "      <th>Churn</th>\n",
       "    </tr>\n",
       "  </thead>\n",
       "  <tbody>\n",
       "    <tr>\n",
       "      <th>0</th>\n",
       "      <td>7590-VHVEG</td>\n",
       "      <td>Female</td>\n",
       "      <td>0</td>\n",
       "      <td>Yes</td>\n",
       "      <td>No</td>\n",
       "      <td>1</td>\n",
       "      <td>No</td>\n",
       "      <td>No phone service</td>\n",
       "      <td>DSL</td>\n",
       "      <td>No</td>\n",
       "      <td>...</td>\n",
       "      <td>No</td>\n",
       "      <td>No</td>\n",
       "      <td>No</td>\n",
       "      <td>No</td>\n",
       "      <td>Month-to-month</td>\n",
       "      <td>Yes</td>\n",
       "      <td>Electronic check</td>\n",
       "      <td>29.85</td>\n",
       "      <td>29.85</td>\n",
       "      <td>No</td>\n",
       "    </tr>\n",
       "    <tr>\n",
       "      <th>1</th>\n",
       "      <td>5575-GNVDE</td>\n",
       "      <td>Male</td>\n",
       "      <td>0</td>\n",
       "      <td>No</td>\n",
       "      <td>No</td>\n",
       "      <td>34</td>\n",
       "      <td>Yes</td>\n",
       "      <td>No</td>\n",
       "      <td>DSL</td>\n",
       "      <td>Yes</td>\n",
       "      <td>...</td>\n",
       "      <td>Yes</td>\n",
       "      <td>No</td>\n",
       "      <td>No</td>\n",
       "      <td>No</td>\n",
       "      <td>One year</td>\n",
       "      <td>No</td>\n",
       "      <td>Mailed check</td>\n",
       "      <td>56.95</td>\n",
       "      <td>1889.5</td>\n",
       "      <td>No</td>\n",
       "    </tr>\n",
       "    <tr>\n",
       "      <th>2</th>\n",
       "      <td>3668-QPYBK</td>\n",
       "      <td>Male</td>\n",
       "      <td>0</td>\n",
       "      <td>No</td>\n",
       "      <td>No</td>\n",
       "      <td>2</td>\n",
       "      <td>Yes</td>\n",
       "      <td>No</td>\n",
       "      <td>DSL</td>\n",
       "      <td>Yes</td>\n",
       "      <td>...</td>\n",
       "      <td>No</td>\n",
       "      <td>No</td>\n",
       "      <td>No</td>\n",
       "      <td>No</td>\n",
       "      <td>Month-to-month</td>\n",
       "      <td>Yes</td>\n",
       "      <td>Mailed check</td>\n",
       "      <td>53.85</td>\n",
       "      <td>108.15</td>\n",
       "      <td>Yes</td>\n",
       "    </tr>\n",
       "    <tr>\n",
       "      <th>3</th>\n",
       "      <td>7795-CFOCW</td>\n",
       "      <td>Male</td>\n",
       "      <td>0</td>\n",
       "      <td>No</td>\n",
       "      <td>No</td>\n",
       "      <td>45</td>\n",
       "      <td>No</td>\n",
       "      <td>No phone service</td>\n",
       "      <td>DSL</td>\n",
       "      <td>Yes</td>\n",
       "      <td>...</td>\n",
       "      <td>Yes</td>\n",
       "      <td>Yes</td>\n",
       "      <td>No</td>\n",
       "      <td>No</td>\n",
       "      <td>One year</td>\n",
       "      <td>No</td>\n",
       "      <td>Bank transfer (automatic)</td>\n",
       "      <td>42.30</td>\n",
       "      <td>1840.75</td>\n",
       "      <td>No</td>\n",
       "    </tr>\n",
       "    <tr>\n",
       "      <th>4</th>\n",
       "      <td>9237-HQITU</td>\n",
       "      <td>Female</td>\n",
       "      <td>0</td>\n",
       "      <td>No</td>\n",
       "      <td>No</td>\n",
       "      <td>2</td>\n",
       "      <td>Yes</td>\n",
       "      <td>No</td>\n",
       "      <td>Fiber optic</td>\n",
       "      <td>No</td>\n",
       "      <td>...</td>\n",
       "      <td>No</td>\n",
       "      <td>No</td>\n",
       "      <td>No</td>\n",
       "      <td>No</td>\n",
       "      <td>Month-to-month</td>\n",
       "      <td>Yes</td>\n",
       "      <td>Electronic check</td>\n",
       "      <td>70.70</td>\n",
       "      <td>151.65</td>\n",
       "      <td>Yes</td>\n",
       "    </tr>\n",
       "  </tbody>\n",
       "</table>\n",
       "<p>5 rows × 21 columns</p>\n",
       "</div>"
      ],
      "text/plain": [
       "   customerID  gender  SeniorCitizen Partner Dependents  tenure PhoneService  \\\n",
       "0  7590-VHVEG  Female              0     Yes         No       1           No   \n",
       "1  5575-GNVDE    Male              0      No         No      34          Yes   \n",
       "2  3668-QPYBK    Male              0      No         No       2          Yes   \n",
       "3  7795-CFOCW    Male              0      No         No      45           No   \n",
       "4  9237-HQITU  Female              0      No         No       2          Yes   \n",
       "\n",
       "      MultipleLines InternetService OnlineSecurity  ... DeviceProtection  \\\n",
       "0  No phone service             DSL             No  ...               No   \n",
       "1                No             DSL            Yes  ...              Yes   \n",
       "2                No             DSL            Yes  ...               No   \n",
       "3  No phone service             DSL            Yes  ...              Yes   \n",
       "4                No     Fiber optic             No  ...               No   \n",
       "\n",
       "  TechSupport StreamingTV StreamingMovies        Contract PaperlessBilling  \\\n",
       "0          No          No              No  Month-to-month              Yes   \n",
       "1          No          No              No        One year               No   \n",
       "2          No          No              No  Month-to-month              Yes   \n",
       "3         Yes          No              No        One year               No   \n",
       "4          No          No              No  Month-to-month              Yes   \n",
       "\n",
       "               PaymentMethod MonthlyCharges  TotalCharges Churn  \n",
       "0           Electronic check          29.85         29.85    No  \n",
       "1               Mailed check          56.95        1889.5    No  \n",
       "2               Mailed check          53.85        108.15   Yes  \n",
       "3  Bank transfer (automatic)          42.30       1840.75    No  \n",
       "4           Electronic check          70.70        151.65   Yes  \n",
       "\n",
       "[5 rows x 21 columns]"
      ]
     },
     "metadata": {},
     "output_type": "display_data"
    },
    {
     "name": "stdout",
     "output_type": "stream",
     "text": [
      "\n",
      "Информация о данных:\n",
      "<class 'pandas.core.frame.DataFrame'>\n",
      "RangeIndex: 7043 entries, 0 to 7042\n",
      "Data columns (total 21 columns):\n",
      " #   Column            Non-Null Count  Dtype  \n",
      "---  ------            --------------  -----  \n",
      " 0   customerID        7043 non-null   object \n",
      " 1   gender            7043 non-null   object \n",
      " 2   SeniorCitizen     7043 non-null   int64  \n",
      " 3   Partner           7043 non-null   object \n",
      " 4   Dependents        7043 non-null   object \n",
      " 5   tenure            7043 non-null   int64  \n",
      " 6   PhoneService      7043 non-null   object \n",
      " 7   MultipleLines     7043 non-null   object \n",
      " 8   InternetService   7043 non-null   object \n",
      " 9   OnlineSecurity    7043 non-null   object \n",
      " 10  OnlineBackup      7043 non-null   object \n",
      " 11  DeviceProtection  7043 non-null   object \n",
      " 12  TechSupport       7043 non-null   object \n",
      " 13  StreamingTV       7043 non-null   object \n",
      " 14  StreamingMovies   7043 non-null   object \n",
      " 15  Contract          7043 non-null   object \n",
      " 16  PaperlessBilling  7043 non-null   object \n",
      " 17  PaymentMethod     7043 non-null   object \n",
      " 18  MonthlyCharges    7043 non-null   float64\n",
      " 19  TotalCharges      7043 non-null   object \n",
      " 20  Churn             7043 non-null   object \n",
      "dtypes: float64(1), int64(2), object(18)\n",
      "memory usage: 1.1+ MB\n",
      "\n",
      "Статистика числовых признаков:\n"
     ]
    },
    {
     "data": {
      "application/vnd.microsoft.datawrangler.viewer.v0+json": {
       "columns": [
        {
         "name": "index",
         "rawType": "object",
         "type": "string"
        },
        {
         "name": "SeniorCitizen",
         "rawType": "float64",
         "type": "float"
        },
        {
         "name": "tenure",
         "rawType": "float64",
         "type": "float"
        },
        {
         "name": "MonthlyCharges",
         "rawType": "float64",
         "type": "float"
        }
       ],
       "ref": "e90720c3-4f04-4058-9d8e-81eb607c1800",
       "rows": [
        [
         "count",
         "7043.0",
         "7043.0",
         "7043.0"
        ],
        [
         "mean",
         "0.1621468124378816",
         "32.37114865824223",
         "64.76169246059918"
        ],
        [
         "std",
         "0.3686116056100131",
         "24.55948102309446",
         "30.090047097678493"
        ],
        [
         "min",
         "0.0",
         "0.0",
         "18.25"
        ],
        [
         "25%",
         "0.0",
         "9.0",
         "35.5"
        ],
        [
         "50%",
         "0.0",
         "29.0",
         "70.35"
        ],
        [
         "75%",
         "0.0",
         "55.0",
         "89.85"
        ],
        [
         "max",
         "1.0",
         "72.0",
         "118.75"
        ]
       ],
       "shape": {
        "columns": 3,
        "rows": 8
       }
      },
      "text/html": [
       "<div>\n",
       "<style scoped>\n",
       "    .dataframe tbody tr th:only-of-type {\n",
       "        vertical-align: middle;\n",
       "    }\n",
       "\n",
       "    .dataframe tbody tr th {\n",
       "        vertical-align: top;\n",
       "    }\n",
       "\n",
       "    .dataframe thead th {\n",
       "        text-align: right;\n",
       "    }\n",
       "</style>\n",
       "<table border=\"1\" class=\"dataframe\">\n",
       "  <thead>\n",
       "    <tr style=\"text-align: right;\">\n",
       "      <th></th>\n",
       "      <th>SeniorCitizen</th>\n",
       "      <th>tenure</th>\n",
       "      <th>MonthlyCharges</th>\n",
       "    </tr>\n",
       "  </thead>\n",
       "  <tbody>\n",
       "    <tr>\n",
       "      <th>count</th>\n",
       "      <td>7043.000000</td>\n",
       "      <td>7043.000000</td>\n",
       "      <td>7043.000000</td>\n",
       "    </tr>\n",
       "    <tr>\n",
       "      <th>mean</th>\n",
       "      <td>0.162147</td>\n",
       "      <td>32.371149</td>\n",
       "      <td>64.761692</td>\n",
       "    </tr>\n",
       "    <tr>\n",
       "      <th>std</th>\n",
       "      <td>0.368612</td>\n",
       "      <td>24.559481</td>\n",
       "      <td>30.090047</td>\n",
       "    </tr>\n",
       "    <tr>\n",
       "      <th>min</th>\n",
       "      <td>0.000000</td>\n",
       "      <td>0.000000</td>\n",
       "      <td>18.250000</td>\n",
       "    </tr>\n",
       "    <tr>\n",
       "      <th>25%</th>\n",
       "      <td>0.000000</td>\n",
       "      <td>9.000000</td>\n",
       "      <td>35.500000</td>\n",
       "    </tr>\n",
       "    <tr>\n",
       "      <th>50%</th>\n",
       "      <td>0.000000</td>\n",
       "      <td>29.000000</td>\n",
       "      <td>70.350000</td>\n",
       "    </tr>\n",
       "    <tr>\n",
       "      <th>75%</th>\n",
       "      <td>0.000000</td>\n",
       "      <td>55.000000</td>\n",
       "      <td>89.850000</td>\n",
       "    </tr>\n",
       "    <tr>\n",
       "      <th>max</th>\n",
       "      <td>1.000000</td>\n",
       "      <td>72.000000</td>\n",
       "      <td>118.750000</td>\n",
       "    </tr>\n",
       "  </tbody>\n",
       "</table>\n",
       "</div>"
      ],
      "text/plain": [
       "       SeniorCitizen       tenure  MonthlyCharges\n",
       "count    7043.000000  7043.000000     7043.000000\n",
       "mean        0.162147    32.371149       64.761692\n",
       "std         0.368612    24.559481       30.090047\n",
       "min         0.000000     0.000000       18.250000\n",
       "25%         0.000000     9.000000       35.500000\n",
       "50%         0.000000    29.000000       70.350000\n",
       "75%         0.000000    55.000000       89.850000\n",
       "max         1.000000    72.000000      118.750000"
      ]
     },
     "metadata": {},
     "output_type": "display_data"
    }
   ],
   "source": [
    "path = kagglehub.dataset_download(\"blastchar/telco-customer-churn\")\n",
    "file_path = f\"{path}/WA_Fn-UseC_-Telco-Customer-Churn.csv\"\n",
    "df = pd.read_csv(file_path)\n",
    "\n",
    "print(\"\\nРазмер датасета:\", df.shape)\n",
    "print(\"\\nПервые 5 строк:\")\n",
    "display(df.head())\n",
    "\n",
    "print(\"\\nИнформация о данных:\")\n",
    "df.info()\n",
    "\n",
    "print(\"\\nСтатистика числовых признаков:\")\n",
    "display(df.describe())"
   ]
  },
  {
   "cell_type": "code",
   "execution_count": 8,
   "id": "dbe01909",
   "metadata": {},
   "outputs": [
    {
     "name": "stdout",
     "output_type": "stream",
     "text": [
      "Папка с датасетом: C:\\Users\\dogot\\.cache\\kagglehub\\datasets\\blastchar\\telco-customer-churn\\versions\\1\n",
      "CSV-файл: C:\\Users\\dogot\\.cache\\kagglehub\\datasets\\blastchar\\telco-customer-churn\\versions\\1/WA_Fn-UseC_-Telco-Customer-Churn.csv\n"
     ]
    }
   ],
   "source": [
    "print(\"Папка с датасетом:\", path)\n",
    "print(\"CSV-файл:\", file_path)\n"
   ]
  },
  {
   "cell_type": "code",
   "execution_count": 9,
   "id": "219565f3",
   "metadata": {},
   "outputs": [],
   "source": [
    "# Осмотр данных: Проведен первичный анализ: проверка размера датасета, типов данных (.info()) и основных статистических показателей (.describe()).\n",
    "# Это позволило выявить, что столбец TotalCharges имеет некорректный тип данных (object)."
   ]
  },
  {
   "cell_type": "markdown",
   "id": "33c89170",
   "metadata": {},
   "source": [
    "# 3. Исследовательский анализ данных (EDA)"
   ]
  },
  {
   "cell_type": "code",
   "execution_count": 10,
   "id": "1306b87c",
   "metadata": {},
   "outputs": [],
   "source": [
    "# Преобразование TotalCharges в числовой формат.\n",
    "# Пробелы будут заменены на NaN.\n",
    "df['TotalCharges'] = pd.to_numeric(df['TotalCharges'], errors='coerce')"
   ]
  },
  {
   "cell_type": "code",
   "execution_count": 11,
   "id": "8986937a",
   "metadata": {},
   "outputs": [
    {
     "data": {
      "text/plain": [
       "np.int64(11)"
      ]
     },
     "metadata": {},
     "output_type": "display_data"
    }
   ],
   "source": [
    "display(df['TotalCharges'].isnull().sum())"
   ]
  },
  {
   "cell_type": "code",
   "execution_count": 12,
   "id": "b2d0cc37",
   "metadata": {},
   "outputs": [
    {
     "data": {
      "application/vnd.microsoft.datawrangler.viewer.v0+json": {
       "columns": [
        {
         "name": "index",
         "rawType": "int64",
         "type": "integer"
        },
        {
         "name": "customerID",
         "rawType": "object",
         "type": "string"
        },
        {
         "name": "gender",
         "rawType": "object",
         "type": "string"
        },
        {
         "name": "SeniorCitizen",
         "rawType": "int64",
         "type": "integer"
        },
        {
         "name": "Partner",
         "rawType": "object",
         "type": "string"
        },
        {
         "name": "Dependents",
         "rawType": "object",
         "type": "string"
        },
        {
         "name": "tenure",
         "rawType": "int64",
         "type": "integer"
        },
        {
         "name": "PhoneService",
         "rawType": "object",
         "type": "string"
        },
        {
         "name": "MultipleLines",
         "rawType": "object",
         "type": "string"
        },
        {
         "name": "InternetService",
         "rawType": "object",
         "type": "string"
        },
        {
         "name": "OnlineSecurity",
         "rawType": "object",
         "type": "string"
        },
        {
         "name": "OnlineBackup",
         "rawType": "object",
         "type": "string"
        },
        {
         "name": "DeviceProtection",
         "rawType": "object",
         "type": "string"
        },
        {
         "name": "TechSupport",
         "rawType": "object",
         "type": "string"
        },
        {
         "name": "StreamingTV",
         "rawType": "object",
         "type": "string"
        },
        {
         "name": "StreamingMovies",
         "rawType": "object",
         "type": "string"
        },
        {
         "name": "Contract",
         "rawType": "object",
         "type": "string"
        },
        {
         "name": "PaperlessBilling",
         "rawType": "object",
         "type": "string"
        },
        {
         "name": "PaymentMethod",
         "rawType": "object",
         "type": "string"
        },
        {
         "name": "MonthlyCharges",
         "rawType": "float64",
         "type": "float"
        },
        {
         "name": "TotalCharges",
         "rawType": "float64",
         "type": "float"
        },
        {
         "name": "Churn",
         "rawType": "object",
         "type": "string"
        }
       ],
       "ref": "528c89bf-2324-4e81-b917-68d281edd7c9",
       "rows": [
        [
         "488",
         "4472-LVYGI",
         "Female",
         "0",
         "Yes",
         "Yes",
         "0",
         "No",
         "No phone service",
         "DSL",
         "Yes",
         "No",
         "Yes",
         "Yes",
         "Yes",
         "No",
         "Two year",
         "Yes",
         "Bank transfer (automatic)",
         "52.55",
         null,
         "No"
        ],
        [
         "753",
         "3115-CZMZD",
         "Male",
         "0",
         "No",
         "Yes",
         "0",
         "Yes",
         "No",
         "No",
         "No internet service",
         "No internet service",
         "No internet service",
         "No internet service",
         "No internet service",
         "No internet service",
         "Two year",
         "No",
         "Mailed check",
         "20.25",
         null,
         "No"
        ],
        [
         "936",
         "5709-LVOEQ",
         "Female",
         "0",
         "Yes",
         "Yes",
         "0",
         "Yes",
         "No",
         "DSL",
         "Yes",
         "Yes",
         "Yes",
         "No",
         "Yes",
         "Yes",
         "Two year",
         "No",
         "Mailed check",
         "80.85",
         null,
         "No"
        ],
        [
         "1082",
         "4367-NUYAO",
         "Male",
         "0",
         "Yes",
         "Yes",
         "0",
         "Yes",
         "Yes",
         "No",
         "No internet service",
         "No internet service",
         "No internet service",
         "No internet service",
         "No internet service",
         "No internet service",
         "Two year",
         "No",
         "Mailed check",
         "25.75",
         null,
         "No"
        ],
        [
         "1340",
         "1371-DWPAZ",
         "Female",
         "0",
         "Yes",
         "Yes",
         "0",
         "No",
         "No phone service",
         "DSL",
         "Yes",
         "Yes",
         "Yes",
         "Yes",
         "Yes",
         "No",
         "Two year",
         "No",
         "Credit card (automatic)",
         "56.05",
         null,
         "No"
        ],
        [
         "3331",
         "7644-OMVMY",
         "Male",
         "0",
         "Yes",
         "Yes",
         "0",
         "Yes",
         "No",
         "No",
         "No internet service",
         "No internet service",
         "No internet service",
         "No internet service",
         "No internet service",
         "No internet service",
         "Two year",
         "No",
         "Mailed check",
         "19.85",
         null,
         "No"
        ],
        [
         "3826",
         "3213-VVOLG",
         "Male",
         "0",
         "Yes",
         "Yes",
         "0",
         "Yes",
         "Yes",
         "No",
         "No internet service",
         "No internet service",
         "No internet service",
         "No internet service",
         "No internet service",
         "No internet service",
         "Two year",
         "No",
         "Mailed check",
         "25.35",
         null,
         "No"
        ],
        [
         "4380",
         "2520-SGTTA",
         "Female",
         "0",
         "Yes",
         "Yes",
         "0",
         "Yes",
         "No",
         "No",
         "No internet service",
         "No internet service",
         "No internet service",
         "No internet service",
         "No internet service",
         "No internet service",
         "Two year",
         "No",
         "Mailed check",
         "20.0",
         null,
         "No"
        ],
        [
         "5218",
         "2923-ARZLG",
         "Male",
         "0",
         "Yes",
         "Yes",
         "0",
         "Yes",
         "No",
         "No",
         "No internet service",
         "No internet service",
         "No internet service",
         "No internet service",
         "No internet service",
         "No internet service",
         "One year",
         "Yes",
         "Mailed check",
         "19.7",
         null,
         "No"
        ],
        [
         "6670",
         "4075-WKNIU",
         "Female",
         "0",
         "Yes",
         "Yes",
         "0",
         "Yes",
         "Yes",
         "DSL",
         "No",
         "Yes",
         "Yes",
         "Yes",
         "Yes",
         "No",
         "Two year",
         "No",
         "Mailed check",
         "73.35",
         null,
         "No"
        ],
        [
         "6754",
         "2775-SEFEE",
         "Male",
         "0",
         "No",
         "Yes",
         "0",
         "Yes",
         "Yes",
         "DSL",
         "Yes",
         "Yes",
         "No",
         "Yes",
         "No",
         "No",
         "Two year",
         "Yes",
         "Bank transfer (automatic)",
         "61.9",
         null,
         "No"
        ]
       ],
       "shape": {
        "columns": 21,
        "rows": 11
       }
      },
      "text/html": [
       "<div>\n",
       "<style scoped>\n",
       "    .dataframe tbody tr th:only-of-type {\n",
       "        vertical-align: middle;\n",
       "    }\n",
       "\n",
       "    .dataframe tbody tr th {\n",
       "        vertical-align: top;\n",
       "    }\n",
       "\n",
       "    .dataframe thead th {\n",
       "        text-align: right;\n",
       "    }\n",
       "</style>\n",
       "<table border=\"1\" class=\"dataframe\">\n",
       "  <thead>\n",
       "    <tr style=\"text-align: right;\">\n",
       "      <th></th>\n",
       "      <th>customerID</th>\n",
       "      <th>gender</th>\n",
       "      <th>SeniorCitizen</th>\n",
       "      <th>Partner</th>\n",
       "      <th>Dependents</th>\n",
       "      <th>tenure</th>\n",
       "      <th>PhoneService</th>\n",
       "      <th>MultipleLines</th>\n",
       "      <th>InternetService</th>\n",
       "      <th>OnlineSecurity</th>\n",
       "      <th>...</th>\n",
       "      <th>DeviceProtection</th>\n",
       "      <th>TechSupport</th>\n",
       "      <th>StreamingTV</th>\n",
       "      <th>StreamingMovies</th>\n",
       "      <th>Contract</th>\n",
       "      <th>PaperlessBilling</th>\n",
       "      <th>PaymentMethod</th>\n",
       "      <th>MonthlyCharges</th>\n",
       "      <th>TotalCharges</th>\n",
       "      <th>Churn</th>\n",
       "    </tr>\n",
       "  </thead>\n",
       "  <tbody>\n",
       "    <tr>\n",
       "      <th>488</th>\n",
       "      <td>4472-LVYGI</td>\n",
       "      <td>Female</td>\n",
       "      <td>0</td>\n",
       "      <td>Yes</td>\n",
       "      <td>Yes</td>\n",
       "      <td>0</td>\n",
       "      <td>No</td>\n",
       "      <td>No phone service</td>\n",
       "      <td>DSL</td>\n",
       "      <td>Yes</td>\n",
       "      <td>...</td>\n",
       "      <td>Yes</td>\n",
       "      <td>Yes</td>\n",
       "      <td>Yes</td>\n",
       "      <td>No</td>\n",
       "      <td>Two year</td>\n",
       "      <td>Yes</td>\n",
       "      <td>Bank transfer (automatic)</td>\n",
       "      <td>52.55</td>\n",
       "      <td>NaN</td>\n",
       "      <td>No</td>\n",
       "    </tr>\n",
       "    <tr>\n",
       "      <th>753</th>\n",
       "      <td>3115-CZMZD</td>\n",
       "      <td>Male</td>\n",
       "      <td>0</td>\n",
       "      <td>No</td>\n",
       "      <td>Yes</td>\n",
       "      <td>0</td>\n",
       "      <td>Yes</td>\n",
       "      <td>No</td>\n",
       "      <td>No</td>\n",
       "      <td>No internet service</td>\n",
       "      <td>...</td>\n",
       "      <td>No internet service</td>\n",
       "      <td>No internet service</td>\n",
       "      <td>No internet service</td>\n",
       "      <td>No internet service</td>\n",
       "      <td>Two year</td>\n",
       "      <td>No</td>\n",
       "      <td>Mailed check</td>\n",
       "      <td>20.25</td>\n",
       "      <td>NaN</td>\n",
       "      <td>No</td>\n",
       "    </tr>\n",
       "    <tr>\n",
       "      <th>936</th>\n",
       "      <td>5709-LVOEQ</td>\n",
       "      <td>Female</td>\n",
       "      <td>0</td>\n",
       "      <td>Yes</td>\n",
       "      <td>Yes</td>\n",
       "      <td>0</td>\n",
       "      <td>Yes</td>\n",
       "      <td>No</td>\n",
       "      <td>DSL</td>\n",
       "      <td>Yes</td>\n",
       "      <td>...</td>\n",
       "      <td>Yes</td>\n",
       "      <td>No</td>\n",
       "      <td>Yes</td>\n",
       "      <td>Yes</td>\n",
       "      <td>Two year</td>\n",
       "      <td>No</td>\n",
       "      <td>Mailed check</td>\n",
       "      <td>80.85</td>\n",
       "      <td>NaN</td>\n",
       "      <td>No</td>\n",
       "    </tr>\n",
       "    <tr>\n",
       "      <th>1082</th>\n",
       "      <td>4367-NUYAO</td>\n",
       "      <td>Male</td>\n",
       "      <td>0</td>\n",
       "      <td>Yes</td>\n",
       "      <td>Yes</td>\n",
       "      <td>0</td>\n",
       "      <td>Yes</td>\n",
       "      <td>Yes</td>\n",
       "      <td>No</td>\n",
       "      <td>No internet service</td>\n",
       "      <td>...</td>\n",
       "      <td>No internet service</td>\n",
       "      <td>No internet service</td>\n",
       "      <td>No internet service</td>\n",
       "      <td>No internet service</td>\n",
       "      <td>Two year</td>\n",
       "      <td>No</td>\n",
       "      <td>Mailed check</td>\n",
       "      <td>25.75</td>\n",
       "      <td>NaN</td>\n",
       "      <td>No</td>\n",
       "    </tr>\n",
       "    <tr>\n",
       "      <th>1340</th>\n",
       "      <td>1371-DWPAZ</td>\n",
       "      <td>Female</td>\n",
       "      <td>0</td>\n",
       "      <td>Yes</td>\n",
       "      <td>Yes</td>\n",
       "      <td>0</td>\n",
       "      <td>No</td>\n",
       "      <td>No phone service</td>\n",
       "      <td>DSL</td>\n",
       "      <td>Yes</td>\n",
       "      <td>...</td>\n",
       "      <td>Yes</td>\n",
       "      <td>Yes</td>\n",
       "      <td>Yes</td>\n",
       "      <td>No</td>\n",
       "      <td>Two year</td>\n",
       "      <td>No</td>\n",
       "      <td>Credit card (automatic)</td>\n",
       "      <td>56.05</td>\n",
       "      <td>NaN</td>\n",
       "      <td>No</td>\n",
       "    </tr>\n",
       "    <tr>\n",
       "      <th>3331</th>\n",
       "      <td>7644-OMVMY</td>\n",
       "      <td>Male</td>\n",
       "      <td>0</td>\n",
       "      <td>Yes</td>\n",
       "      <td>Yes</td>\n",
       "      <td>0</td>\n",
       "      <td>Yes</td>\n",
       "      <td>No</td>\n",
       "      <td>No</td>\n",
       "      <td>No internet service</td>\n",
       "      <td>...</td>\n",
       "      <td>No internet service</td>\n",
       "      <td>No internet service</td>\n",
       "      <td>No internet service</td>\n",
       "      <td>No internet service</td>\n",
       "      <td>Two year</td>\n",
       "      <td>No</td>\n",
       "      <td>Mailed check</td>\n",
       "      <td>19.85</td>\n",
       "      <td>NaN</td>\n",
       "      <td>No</td>\n",
       "    </tr>\n",
       "    <tr>\n",
       "      <th>3826</th>\n",
       "      <td>3213-VVOLG</td>\n",
       "      <td>Male</td>\n",
       "      <td>0</td>\n",
       "      <td>Yes</td>\n",
       "      <td>Yes</td>\n",
       "      <td>0</td>\n",
       "      <td>Yes</td>\n",
       "      <td>Yes</td>\n",
       "      <td>No</td>\n",
       "      <td>No internet service</td>\n",
       "      <td>...</td>\n",
       "      <td>No internet service</td>\n",
       "      <td>No internet service</td>\n",
       "      <td>No internet service</td>\n",
       "      <td>No internet service</td>\n",
       "      <td>Two year</td>\n",
       "      <td>No</td>\n",
       "      <td>Mailed check</td>\n",
       "      <td>25.35</td>\n",
       "      <td>NaN</td>\n",
       "      <td>No</td>\n",
       "    </tr>\n",
       "    <tr>\n",
       "      <th>4380</th>\n",
       "      <td>2520-SGTTA</td>\n",
       "      <td>Female</td>\n",
       "      <td>0</td>\n",
       "      <td>Yes</td>\n",
       "      <td>Yes</td>\n",
       "      <td>0</td>\n",
       "      <td>Yes</td>\n",
       "      <td>No</td>\n",
       "      <td>No</td>\n",
       "      <td>No internet service</td>\n",
       "      <td>...</td>\n",
       "      <td>No internet service</td>\n",
       "      <td>No internet service</td>\n",
       "      <td>No internet service</td>\n",
       "      <td>No internet service</td>\n",
       "      <td>Two year</td>\n",
       "      <td>No</td>\n",
       "      <td>Mailed check</td>\n",
       "      <td>20.00</td>\n",
       "      <td>NaN</td>\n",
       "      <td>No</td>\n",
       "    </tr>\n",
       "    <tr>\n",
       "      <th>5218</th>\n",
       "      <td>2923-ARZLG</td>\n",
       "      <td>Male</td>\n",
       "      <td>0</td>\n",
       "      <td>Yes</td>\n",
       "      <td>Yes</td>\n",
       "      <td>0</td>\n",
       "      <td>Yes</td>\n",
       "      <td>No</td>\n",
       "      <td>No</td>\n",
       "      <td>No internet service</td>\n",
       "      <td>...</td>\n",
       "      <td>No internet service</td>\n",
       "      <td>No internet service</td>\n",
       "      <td>No internet service</td>\n",
       "      <td>No internet service</td>\n",
       "      <td>One year</td>\n",
       "      <td>Yes</td>\n",
       "      <td>Mailed check</td>\n",
       "      <td>19.70</td>\n",
       "      <td>NaN</td>\n",
       "      <td>No</td>\n",
       "    </tr>\n",
       "    <tr>\n",
       "      <th>6670</th>\n",
       "      <td>4075-WKNIU</td>\n",
       "      <td>Female</td>\n",
       "      <td>0</td>\n",
       "      <td>Yes</td>\n",
       "      <td>Yes</td>\n",
       "      <td>0</td>\n",
       "      <td>Yes</td>\n",
       "      <td>Yes</td>\n",
       "      <td>DSL</td>\n",
       "      <td>No</td>\n",
       "      <td>...</td>\n",
       "      <td>Yes</td>\n",
       "      <td>Yes</td>\n",
       "      <td>Yes</td>\n",
       "      <td>No</td>\n",
       "      <td>Two year</td>\n",
       "      <td>No</td>\n",
       "      <td>Mailed check</td>\n",
       "      <td>73.35</td>\n",
       "      <td>NaN</td>\n",
       "      <td>No</td>\n",
       "    </tr>\n",
       "    <tr>\n",
       "      <th>6754</th>\n",
       "      <td>2775-SEFEE</td>\n",
       "      <td>Male</td>\n",
       "      <td>0</td>\n",
       "      <td>No</td>\n",
       "      <td>Yes</td>\n",
       "      <td>0</td>\n",
       "      <td>Yes</td>\n",
       "      <td>Yes</td>\n",
       "      <td>DSL</td>\n",
       "      <td>Yes</td>\n",
       "      <td>...</td>\n",
       "      <td>No</td>\n",
       "      <td>Yes</td>\n",
       "      <td>No</td>\n",
       "      <td>No</td>\n",
       "      <td>Two year</td>\n",
       "      <td>Yes</td>\n",
       "      <td>Bank transfer (automatic)</td>\n",
       "      <td>61.90</td>\n",
       "      <td>NaN</td>\n",
       "      <td>No</td>\n",
       "    </tr>\n",
       "  </tbody>\n",
       "</table>\n",
       "<p>11 rows × 21 columns</p>\n",
       "</div>"
      ],
      "text/plain": [
       "      customerID  gender  SeniorCitizen Partner Dependents  tenure  \\\n",
       "488   4472-LVYGI  Female              0     Yes        Yes       0   \n",
       "753   3115-CZMZD    Male              0      No        Yes       0   \n",
       "936   5709-LVOEQ  Female              0     Yes        Yes       0   \n",
       "1082  4367-NUYAO    Male              0     Yes        Yes       0   \n",
       "1340  1371-DWPAZ  Female              0     Yes        Yes       0   \n",
       "3331  7644-OMVMY    Male              0     Yes        Yes       0   \n",
       "3826  3213-VVOLG    Male              0     Yes        Yes       0   \n",
       "4380  2520-SGTTA  Female              0     Yes        Yes       0   \n",
       "5218  2923-ARZLG    Male              0     Yes        Yes       0   \n",
       "6670  4075-WKNIU  Female              0     Yes        Yes       0   \n",
       "6754  2775-SEFEE    Male              0      No        Yes       0   \n",
       "\n",
       "     PhoneService     MultipleLines InternetService       OnlineSecurity  ...  \\\n",
       "488            No  No phone service             DSL                  Yes  ...   \n",
       "753           Yes                No              No  No internet service  ...   \n",
       "936           Yes                No             DSL                  Yes  ...   \n",
       "1082          Yes               Yes              No  No internet service  ...   \n",
       "1340           No  No phone service             DSL                  Yes  ...   \n",
       "3331          Yes                No              No  No internet service  ...   \n",
       "3826          Yes               Yes              No  No internet service  ...   \n",
       "4380          Yes                No              No  No internet service  ...   \n",
       "5218          Yes                No              No  No internet service  ...   \n",
       "6670          Yes               Yes             DSL                   No  ...   \n",
       "6754          Yes               Yes             DSL                  Yes  ...   \n",
       "\n",
       "         DeviceProtection          TechSupport          StreamingTV  \\\n",
       "488                   Yes                  Yes                  Yes   \n",
       "753   No internet service  No internet service  No internet service   \n",
       "936                   Yes                   No                  Yes   \n",
       "1082  No internet service  No internet service  No internet service   \n",
       "1340                  Yes                  Yes                  Yes   \n",
       "3331  No internet service  No internet service  No internet service   \n",
       "3826  No internet service  No internet service  No internet service   \n",
       "4380  No internet service  No internet service  No internet service   \n",
       "5218  No internet service  No internet service  No internet service   \n",
       "6670                  Yes                  Yes                  Yes   \n",
       "6754                   No                  Yes                   No   \n",
       "\n",
       "          StreamingMovies  Contract PaperlessBilling  \\\n",
       "488                    No  Two year              Yes   \n",
       "753   No internet service  Two year               No   \n",
       "936                   Yes  Two year               No   \n",
       "1082  No internet service  Two year               No   \n",
       "1340                   No  Two year               No   \n",
       "3331  No internet service  Two year               No   \n",
       "3826  No internet service  Two year               No   \n",
       "4380  No internet service  Two year               No   \n",
       "5218  No internet service  One year              Yes   \n",
       "6670                   No  Two year               No   \n",
       "6754                   No  Two year              Yes   \n",
       "\n",
       "                  PaymentMethod MonthlyCharges  TotalCharges  Churn  \n",
       "488   Bank transfer (automatic)          52.55           NaN     No  \n",
       "753                Mailed check          20.25           NaN     No  \n",
       "936                Mailed check          80.85           NaN     No  \n",
       "1082               Mailed check          25.75           NaN     No  \n",
       "1340    Credit card (automatic)          56.05           NaN     No  \n",
       "3331               Mailed check          19.85           NaN     No  \n",
       "3826               Mailed check          25.35           NaN     No  \n",
       "4380               Mailed check          20.00           NaN     No  \n",
       "5218               Mailed check          19.70           NaN     No  \n",
       "6670               Mailed check          73.35           NaN     No  \n",
       "6754  Bank transfer (automatic)          61.90           NaN     No  \n",
       "\n",
       "[11 rows x 21 columns]"
      ]
     },
     "metadata": {},
     "output_type": "display_data"
    },
    {
     "name": "stdout",
     "output_type": "stream",
     "text": [
      "Количество строк с пропущенными TotalCharges: 11\n",
      "Индексы строк с пропусками: [488, 753, 936, 1082, 1340, 3331, 3826, 4380, 5218, 6670, 6754]\n"
     ]
    }
   ],
   "source": [
    "# Фильтруем строки с пропущенными TotalCharges\n",
    "missing_total_charges = df[df['TotalCharges'].isnull()]\n",
    "\n",
    "# Выводим сами строки\n",
    "display(missing_total_charges)\n",
    "\n",
    "# Сколько таких строк\n",
    "print(\"Количество строк с пропущенными TotalCharges:\", missing_total_charges.shape[0])\n",
    "\n",
    "# Индексы этих строк\n",
    "print(\"Индексы строк с пропусками:\", missing_total_charges.index.tolist())\n"
   ]
  },
  {
   "cell_type": "code",
   "execution_count": 13,
   "id": "9e19d6d5",
   "metadata": {},
   "outputs": [],
   "source": [
    "# Заполняю пропущенные значения (возникшие из-за пустых строк) медианой\n",
    "df['TotalCharges'].fillna(df['TotalCharges'].median(), inplace=True)"
   ]
  },
  {
   "cell_type": "code",
   "execution_count": 14,
   "id": "124c4a1b",
   "metadata": {},
   "outputs": [],
   "source": [
    "# Очистка: Проблема с TotalCharges решена путём преобразования в числовой тип и заполнения пропусков медианным значением."
   ]
  },
  {
   "cell_type": "markdown",
   "id": "fc26caba",
   "metadata": {},
   "source": [
    "## 3.1 Визуализация"
   ]
  },
  {
   "cell_type": "code",
   "execution_count": 15,
   "id": "5e1e75cb",
   "metadata": {},
   "outputs": [
    {
     "data": {
      "image/png": "[encoded data removed]",
      "text/plain": [
       "<Figure size 600x600 with 1 Axes>"
      ]
     },
     "metadata": {},
     "output_type": "display_data"
    }
   ],
   "source": [
    "# Анализ целевой переменной\n",
    "plt.figure(figsize=(6, 6))\n",
    "churn_counts = df['Churn'].value_counts()\n",
    "plt.pie(churn_counts, labels=churn_counts.index, autopct='%1.1f%%', startangle=90)\n",
    "plt.title('Распределение оттока клиентов')\n",
    "plt.show()"
   ]
  },
  {
   "cell_type": "code",
   "execution_count": 16,
   "id": "cd1fb749",
   "metadata": {},
   "outputs": [],
   "source": [
    "# Построена круговая диаграмма для оценки баланса классов целевой переменной (Churn), которая показала дисбаланс (отток составляет ~26.5%)."
   ]
  },
  {
   "cell_type": "code",
   "execution_count": 17,
   "id": "f8eb63a4",
   "metadata": {},
   "outputs": [
    {
     "data": {
      "image/png": "[encoded data removed]",
      "text/plain": [
       "<Figure size 2000x600 with 3 Axes>"
      ]
     },
     "metadata": {},
     "output_type": "display_data"
    }
   ],
   "source": [
    "# Анализ числовых признаков\n",
    "numeric_cols = ['tenure', 'MonthlyCharges', 'TotalCharges']\n",
    "fig, axes = plt.subplots(1, 3, figsize=(20, 6))\n",
    "for i, col in enumerate(numeric_cols):\n",
    "    sns.histplot(df, x=col, hue='Churn', kde=True, ax=axes[i], palette=['#8cba51', '#e06666'])\n",
    "    axes[i].set_title(f'Распределение {col} в зависимости от оттока')\n",
    "plt.tight_layout()\n",
    "plt.show()"
   ]
  },
  {
   "cell_type": "code",
   "execution_count": 18,
   "id": "4db60298",
   "metadata": {},
   "outputs": [],
   "source": [
    "# Гистограммы числовых признаков (tenure, MonthlyCharges, TotalCharges) в разрезе оттока наглядно показали их влияние на целевую переменную."
   ]
  },
  {
   "cell_type": "code",
   "execution_count": 19,
   "id": "34745f5a",
   "metadata": {},
   "outputs": [
    {
     "data": {
      "image/png": "[encoded data removed]",
      "text/plain": [
       "<Figure size 2000x2000 with 16 Axes>"
      ]
     },
     "metadata": {},
     "output_type": "display_data"
    }
   ],
   "source": [
    "# Анализ категориальных признаков\n",
    "categorical_cols = df.select_dtypes(include=['object']).columns.tolist()\n",
    "categorical_cols.remove('customerID')\n",
    "\n",
    "fig, axes = plt.subplots(4, 4, figsize=(20, 20))\n",
    "axes = axes.ravel()\n",
    "\n",
    "for i, col in enumerate(categorical_cols):\n",
    "    if col != 'Churn':\n",
    "        sns.countplot(x=col, hue='Churn', data=df, ax=axes[i], palette=['#8cba51', '#e06666'])\n",
    "        axes[i].set_title(f'{col} vs Churn')\n",
    "        axes[i].tick_params(axis='x', rotation=45)\n",
    "plt.tight_layout()\n",
    "plt.show()"
   ]
  },
  {
   "cell_type": "code",
   "execution_count": 20,
   "id": "91679c26",
   "metadata": {},
   "outputs": [],
   "source": [
    "# Столбчатые диаграммы для категориальных признаков позволили выявить ключевые факторы, влияющие на отток (например, тип контракта, наличие техподдержки)."
   ]
  },
  {
   "cell_type": "code",
   "execution_count": 21,
   "id": "a83e928d",
   "metadata": {},
   "outputs": [],
   "source": [
    "# ! pip freeze > requirements.txt"
   ]
  },
  {
   "cell_type": "markdown",
   "id": "367a8b49",
   "metadata": {},
   "source": [
    "# 4. Подготовка данных"
   ]
  },
  {
   "cell_type": "code",
   "execution_count": 22,
   "id": "cb835a67",
   "metadata": {},
   "outputs": [],
   "source": [
    "# Удаляю неинформативный столбец customerID.\n",
    "df.drop(['customerID'], axis=1, inplace=True)"
   ]
  },
  {
   "cell_type": "code",
   "execution_count": 23,
   "id": "07996d37",
   "metadata": {},
   "outputs": [
    {
     "name": "stdout",
     "output_type": "stream",
     "text": [
      "\n",
      "Размер датасета после обработки признаков: (7043, 31)\n"
     ]
    }
   ],
   "source": [
    "# Категориальные признаки кодирую: бинарные — с помощью LabelEncoder, а мультиклассовые — через One-Hot Encoding (get_dummies).\n",
    "# Кодирую бинарные признаки\n",
    "binary_cols = ['gender', 'Partner', 'Dependents', 'PhoneService', 'PaperlessBilling']\n",
    "for col in binary_cols:\n",
    "    df[col] = LabelEncoder().fit_transform(df[col])\n",
    "\n",
    "# Кодирую целевую переменную\n",
    "df['Churn'] = df['Churn'].apply(lambda x: 1 if x == 'Yes' else 0)\n",
    "\n",
    "# One-Hot Encoding для остальных категориальных признаков\n",
    "multi_category_cols = df.select_dtypes(include=['object']).columns.tolist()\n",
    "df = pd.get_dummies(df, columns=multi_category_cols, drop_first=True)\n",
    "\n",
    "print(\"\\nРазмер датасета после обработки признаков:\", df.shape)\n"
   ]
  },
  {
   "cell_type": "code",
   "execution_count": 24,
   "id": "f3b11d94",
   "metadata": {},
   "outputs": [
    {
     "name": "stdout",
     "output_type": "stream",
     "text": [
      "<class 'pandas.core.frame.DataFrame'>\n",
      "RangeIndex: 7043 entries, 0 to 7042\n",
      "Data columns (total 31 columns):\n",
      " #   Column                                 Non-Null Count  Dtype  \n",
      "---  ------                                 --------------  -----  \n",
      " 0   gender                                 7043 non-null   int64  \n",
      " 1   SeniorCitizen                          7043 non-null   int64  \n",
      " 2   Partner                                7043 non-null   int64  \n",
      " 3   Dependents                             7043 non-null   int64  \n",
      " 4   tenure                                 7043 non-null   int64  \n",
      " 5   PhoneService                           7043 non-null   int64  \n",
      " 6   PaperlessBilling                       7043 non-null   int64  \n",
      " 7   MonthlyCharges                         7043 non-null   float64\n",
      " 8   TotalCharges                           7043 non-null   float64\n",
      " 9   Churn                                  7043 non-null   int64  \n",
      " 10  MultipleLines_No phone service         7043 non-null   bool   \n",
      " 11  MultipleLines_Yes                      7043 non-null   bool   \n",
      " 12  InternetService_Fiber optic            7043 non-null   bool   \n",
      " 13  InternetService_No                     7043 non-null   bool   \n",
      " 14  OnlineSecurity_No internet service     7043 non-null   bool   \n",
      " 15  OnlineSecurity_Yes                     7043 non-null   bool   \n",
      " 16  OnlineBackup_No internet service       7043 non-null   bool   \n",
      " 17  OnlineBackup_Yes                       7043 non-null   bool   \n",
      " 18  DeviceProtection_No internet service   7043 non-null   bool   \n",
      " 19  DeviceProtection_Yes                   7043 non-null   bool   \n",
      " 20  TechSupport_No internet service        7043 non-null   bool   \n",
      " 21  TechSupport_Yes                        7043 non-null   bool   \n",
      " 22  StreamingTV_No internet service        7043 non-null   bool   \n",
      " 23  StreamingTV_Yes                        7043 non-null   bool   \n",
      " 24  StreamingMovies_No internet service    7043 non-null   bool   \n",
      " 25  StreamingMovies_Yes                    7043 non-null   bool   \n",
      " 26  Contract_One year                      7043 non-null   bool   \n",
      " 27  Contract_Two year                      7043 non-null   bool   \n",
      " 28  PaymentMethod_Credit card (automatic)  7043 non-null   bool   \n",
      " 29  PaymentMethod_Electronic check         7043 non-null   bool   \n",
      " 30  PaymentMethod_Mailed check             7043 non-null   bool   \n",
      "dtypes: bool(21), float64(2), int64(8)\n",
      "memory usage: 694.8 KB\n"
     ]
    },
    {
     "data": {
      "text/plain": [
       "None"
      ]
     },
     "metadata": {},
     "output_type": "display_data"
    }
   ],
   "source": [
    "display(df.info())"
   ]
  },
  {
   "cell_type": "code",
   "execution_count": 25,
   "id": "bf7d5603",
   "metadata": {},
   "outputs": [],
   "source": [
    "# Разделение и масштабирование:\n",
    "# Данные разделяю на обучающую (80%) и тестовую (20%) выборки со стратификацией (stratify=y), что критически важно при дисбалансе классов.\n",
    "\n",
    "\n",
    "# Разделение на признаки (X) и целевую переменную (y)\n",
    "X = df.drop('Churn', axis=1)\n",
    "y = df['Churn']\n",
    "\n",
    "# Разделение на обучающую и тестовую выборки (СТРОГО ДО МАСТШТАБИРОВАНИЯ И ОТБОРА)\n",
    "X_train, X_test, y_train, y_test = train_test_split(X, y, test_size=0.2, random_state=42, stratify=y)"
   ]
  },
  {
   "cell_type": "code",
   "execution_count": 26,
   "id": "22ff5f4d",
   "metadata": {},
   "outputs": [
    {
     "name": "stdout",
     "output_type": "stream",
     "text": [
      "\n",
      "Размеры выборок:\n",
      "Обучающая: (5634, 30), Тестовая: (1409, 30)\n"
     ]
    }
   ],
   "source": [
    "# Масштабирование числовых признаков\n",
    "# Числовые признаки масштабирую с помощью StandardScaler после разделения выборки.\n",
    "scaler = StandardScaler()\n",
    "X_train[numeric_cols] = scaler.fit_transform(X_train[numeric_cols])\n",
    "X_test[numeric_cols] = scaler.transform(X_test[numeric_cols])\n",
    "\n",
    "print(\"\\nРазмеры выборок:\")\n",
    "print(f\"Обучающая: {X_train.shape}, Тестовая: {X_test.shape}\")"
   ]
  },
  {
   "cell_type": "markdown",
   "id": "223a072b",
   "metadata": {},
   "source": [
    "# 5. Отбор признаков"
   ]
  },
  {
   "cell_type": "code",
   "execution_count": 32,
   "id": "51c267b8",
   "metadata": {},
   "outputs": [],
   "source": [
    "# С помощью метода SelectKBest (на основе F-статистики ANOVA) выбрал 20 наиболее значимых признаков для обучения моделей, это позволило снизить размерность и убрать \"шум\".\n",
    "# Отбор 20 лучших признаков с помощью ANOVA F-test\n",
    "# Обучаю селектор ТОЛЬКО на обучающих данных\n",
    "selector = SelectKBest(score_func=f_classif, k=20)\n",
    "X_train_selected = selector.fit_transform(X_train, y_train)\n",
    "X_test_selected = selector.transform(X_test)"
   ]
  },
  {
   "cell_type": "code",
   "execution_count": 37,
   "id": "ee331f61",
   "metadata": {},
   "outputs": [
    {
     "name": "stdout",
     "output_type": "stream",
     "text": [
      "Все признаки, отсортированные по значимости:\n",
      "                                  Признак  F-статистика  Отобран\n",
      "4                                  tenure    763.890183     True\n",
      "11            InternetService_Fiber optic    610.199922     True\n",
      "28         PaymentMethod_Electronic check    595.424491     True\n",
      "26                      Contract_Two year    566.070664     True\n",
      "12                     InternetService_No    311.490238     True\n",
      "13     OnlineSecurity_No internet service    311.490238     True\n",
      "17   DeviceProtection_No internet service    311.490238     True\n",
      "19        TechSupport_No internet service    311.490238     True\n",
      "23    StreamingMovies_No internet service    311.490238     True\n",
      "21        StreamingTV_No internet service    311.490238     True\n",
      "15       OnlineBackup_No internet service    311.490238     True\n",
      "7                          MonthlyCharges    229.903823     True\n",
      "6                        PaperlessBilling    229.761099     True\n",
      "8                            TotalCharges    221.207653     True\n",
      "25                      Contract_One year    187.433951     True\n",
      "14                     OnlineSecurity_Yes    177.051529     True\n",
      "3                              Dependents    162.492417     True\n",
      "20                        TechSupport_Yes    159.044978     True\n",
      "2                                 Partner    122.180633     True\n",
      "1                           SeniorCitizen    121.979608     True\n",
      "27  PaymentMethod_Credit card (automatic)    108.983393    False\n",
      "29             PaymentMethod_Mailed check     45.284667    False\n",
      "16                       OnlineBackup_Yes     38.527898    False\n",
      "22                        StreamingTV_Yes     29.674597    False\n",
      "24                    StreamingMovies_Yes     23.007981    False\n",
      "18                   DeviceProtection_Yes     21.469350    False\n",
      "10                      MultipleLines_Yes     10.808668    False\n",
      "9          MultipleLines_No phone service      1.810803    False\n",
      "5                            PhoneService      1.810803    False\n",
      "0                                  gender      0.027447    False\n"
     ]
    }
   ],
   "source": [
    "# Создаю DataFrame со всеми признаками\n",
    "all_features_df = pd.DataFrame({\n",
    "    'Признак': X_train.columns,\n",
    "    'F-статистика': selector.scores_,\n",
    "    'Отобран': selector.get_support()\n",
    "}).sort_values('F-статистика', ascending=False)\n",
    "\n",
    "print(\"Все признаки, отсортированные по значимости:\")\n",
    "print(all_features_df.head(30))  # Показываю топ-30"
   ]
  },
  {
   "cell_type": "code",
   "execution_count": 38,
   "id": "76b17192",
   "metadata": {},
   "outputs": [
    {
     "name": "stdout",
     "output_type": "stream",
     "text": [
      "\n",
      "Только отобранные признаки:\n",
      "                                 Признак  F-статистика  Отобран\n",
      "4                                 tenure    763.890183     True\n",
      "11           InternetService_Fiber optic    610.199922     True\n",
      "28        PaymentMethod_Electronic check    595.424491     True\n",
      "26                     Contract_Two year    566.070664     True\n",
      "12                    InternetService_No    311.490238     True\n",
      "13    OnlineSecurity_No internet service    311.490238     True\n",
      "17  DeviceProtection_No internet service    311.490238     True\n",
      "19       TechSupport_No internet service    311.490238     True\n",
      "23   StreamingMovies_No internet service    311.490238     True\n",
      "21       StreamingTV_No internet service    311.490238     True\n",
      "15      OnlineBackup_No internet service    311.490238     True\n",
      "7                         MonthlyCharges    229.903823     True\n",
      "6                       PaperlessBilling    229.761099     True\n",
      "8                           TotalCharges    221.207653     True\n",
      "25                     Contract_One year    187.433951     True\n",
      "14                    OnlineSecurity_Yes    177.051529     True\n",
      "3                             Dependents    162.492417     True\n",
      "20                       TechSupport_Yes    159.044978     True\n",
      "2                                Partner    122.180633     True\n",
      "1                          SeniorCitizen    121.979608     True\n"
     ]
    }
   ],
   "source": [
    "print(\"\\nТолько отобранные признаки:\")\n",
    "print(all_features_df[all_features_df['Отобран'] == True])"
   ]
  },
  {
   "cell_type": "markdown",
   "id": "f6c48a07",
   "metadata": {},
   "source": [
    "# 6. Обучение и оценка моделей"
   ]
  },
  {
   "cell_type": "code",
   "execution_count": 42,
   "id": "999efc4e",
   "metadata": {},
   "outputs": [
    {
     "name": "stdout",
     "output_type": "stream",
     "text": [
      "--- Обучение модели: Logistic Regression ---\n",
      "Accuracy: 0.7991\n",
      "Precision: 0.6454\n",
      "Recall: 0.5401\n",
      "F1 Score: 0.5881\n",
      "ROC AUC: 0.8399\n",
      "\n",
      "Матрица ошибок:\n",
      "[[924 111]\n",
      " [172 202]]\n",
      "\n",
      "Отчет по классификации:\n",
      "              precision    recall  f1-score   support\n",
      "\n",
      "           0       0.84      0.89      0.87      1035\n",
      "           1       0.65      0.54      0.59       374\n",
      "\n",
      "    accuracy                           0.80      1409\n",
      "   macro avg       0.74      0.72      0.73      1409\n",
      "weighted avg       0.79      0.80      0.79      1409\n",
      "\n",
      "--- Обучение модели: Decision Tree ---\n",
      "Accuracy: 0.7239\n",
      "Precision: 0.4809\n",
      "Recall: 0.5053\n",
      "F1 Score: 0.4928\n",
      "ROC AUC: 0.6534\n",
      "\n",
      "Матрица ошибок:\n",
      "[[831 204]\n",
      " [185 189]]\n",
      "\n",
      "Отчет по классификации:\n",
      "              precision    recall  f1-score   support\n",
      "\n",
      "           0       0.82      0.80      0.81      1035\n",
      "           1       0.48      0.51      0.49       374\n",
      "\n",
      "    accuracy                           0.72      1409\n",
      "   macro avg       0.65      0.65      0.65      1409\n",
      "weighted avg       0.73      0.72      0.73      1409\n",
      "\n",
      "--- Обучение модели: Random Forest ---\n",
      "Accuracy: 0.7871\n",
      "Precision: 0.6259\n",
      "Recall: 0.4920\n",
      "F1 Score: 0.5509\n",
      "ROC AUC: 0.8149\n",
      "\n",
      "Матрица ошибок:\n",
      "[[925 110]\n",
      " [190 184]]\n",
      "\n",
      "Отчет по классификации:\n",
      "              precision    recall  f1-score   support\n",
      "\n",
      "           0       0.83      0.89      0.86      1035\n",
      "           1       0.63      0.49      0.55       374\n",
      "\n",
      "    accuracy                           0.79      1409\n",
      "   macro avg       0.73      0.69      0.71      1409\n",
      "weighted avg       0.78      0.79      0.78      1409\n",
      "\n",
      "--- Обучение модели: Gradient Boosting ---\n",
      "Accuracy: 0.8006\n",
      "Precision: 0.6566\n",
      "Recall: 0.5214\n",
      "F1 Score: 0.5812\n",
      "ROC AUC: 0.8417\n",
      "\n",
      "Матрица ошибок:\n",
      "[[933 102]\n",
      " [179 195]]\n",
      "\n",
      "Отчет по классификации:\n",
      "              precision    recall  f1-score   support\n",
      "\n",
      "           0       0.84      0.90      0.87      1035\n",
      "           1       0.66      0.52      0.58       374\n",
      "\n",
      "    accuracy                           0.80      1409\n",
      "   macro avg       0.75      0.71      0.73      1409\n",
      "weighted avg       0.79      0.80      0.79      1409\n",
      "\n",
      "--- Обучение модели: XGBoost ---\n",
      "Accuracy: 0.7857\n",
      "Precision: 0.6118\n",
      "Recall: 0.5267\n",
      "F1 Score: 0.5661\n",
      "ROC AUC: 0.8212\n",
      "\n",
      "Матрица ошибок:\n",
      "[[910 125]\n",
      " [177 197]]\n",
      "\n",
      "Отчет по классификации:\n",
      "              precision    recall  f1-score   support\n",
      "\n",
      "           0       0.84      0.88      0.86      1035\n",
      "           1       0.61      0.53      0.57       374\n",
      "\n",
      "    accuracy                           0.79      1409\n",
      "   macro avg       0.72      0.70      0.71      1409\n",
      "weighted avg       0.78      0.79      0.78      1409\n",
      "\n",
      "--- Обучение модели: LightGBM ---\n",
      "[LightGBM] [Info] Number of positive: 1495, number of negative: 4139\n",
      "[LightGBM] [Info] Auto-choosing row-wise multi-threading, the overhead of testing was 0,000648 seconds.\n",
      "You can set `force_row_wise=true` to remove the overhead.\n",
      "And if memory is not enough, you can set `force_col_wise=true`.\n",
      "[LightGBM] [Info] Total Bins 618\n",
      "[LightGBM] [Info] Number of data points in the train set: 5634, number of used features: 20\n",
      "[LightGBM] [Info] [binary:BoostFromScore]: pavg=0,265353 -> initscore=-1,018328\n",
      "[LightGBM] [Info] Start training from score -1,018328\n",
      "Accuracy: 0.7991\n",
      "Precision: 0.6435\n",
      "Recall: 0.5455\n",
      "F1 Score: 0.5904\n",
      "ROC AUC: 0.8342\n",
      "\n",
      "Матрица ошибок:\n",
      "[[922 113]\n",
      " [170 204]]\n",
      "\n",
      "Отчет по классификации:\n",
      "              precision    recall  f1-score   support\n",
      "\n",
      "           0       0.84      0.89      0.87      1035\n",
      "           1       0.64      0.55      0.59       374\n",
      "\n",
      "    accuracy                           0.80      1409\n",
      "   macro avg       0.74      0.72      0.73      1409\n",
      "weighted avg       0.79      0.80      0.79      1409\n",
      "\n",
      "--- Обучение модели: CatBoost ---\n",
      "Accuracy: 0.7991\n",
      "Precision: 0.6454\n",
      "Recall: 0.5401\n",
      "F1 Score: 0.5881\n",
      "ROC AUC: 0.8412\n",
      "\n",
      "Матрица ошибок:\n",
      "[[924 111]\n",
      " [172 202]]\n",
      "\n",
      "Отчет по классификации:\n",
      "              precision    recall  f1-score   support\n",
      "\n",
      "           0       0.84      0.89      0.87      1035\n",
      "           1       0.65      0.54      0.59       374\n",
      "\n",
      "    accuracy                           0.80      1409\n",
      "   macro avg       0.74      0.72      0.73      1409\n",
      "weighted avg       0.79      0.80      0.79      1409\n",
      "\n"
     ]
    }
   ],
   "source": [
    "# Построение, оценка и оптимизация моделей. Обучение моделей: Было обучено и оценено 6 различных моделей классификации:\n",
    "# Logistic Regression\n",
    "# Decision Tree\n",
    "# Random Forest\n",
    "# Gradient Boosting\n",
    "# XGBoost\n",
    "# LightGBM\n",
    "# CatBoost\n",
    "# Оценка качества: Для каждой модели был рассчитан полный набор метрик (Accuracy, Precision, Recall, F1 Score, ROC AUC),\n",
    "# построены матрицы ошибок и ROC-кривые. Это позволило провести всестороннее сравнение моделей.\n",
    "\n",
    "\n",
    "\n",
    "models = {\n",
    "    \"Logistic Regression\": LogisticRegression(random_state=42),\n",
    "    \"Decision Tree\": DecisionTreeClassifier(random_state=42),\n",
    "    \"Random Forest\": RandomForestClassifier(random_state=42),\n",
    "    \"Gradient Boosting\": GradientBoostingClassifier(random_state=42),\n",
    "    \"XGBoost\": xgb.XGBClassifier(random_state=42, use_label_encoder=False, eval_metric='logloss'),\n",
    "    \"LightGBM\": lgb.LGBMClassifier(random_state=42),\n",
    "    \"CatBoost\": cb.CatBoostClassifier(random_state=42, verbose=0)\n",
    "}\n",
    "\n",
    "results = []\n",
    "roc_curves = {}\n",
    "\n",
    "# Функция для обучения и оценки модели\n",
    "def evaluate_model(name, model, X_train, y_train, X_test, y_test):\n",
    "    print(f\"--- Обучение модели: {name} ---\")\n",
    "    model.fit(X_train, y_train)\n",
    "    y_pred = model.predict(X_test)\n",
    "    y_pred_proba = model.predict_proba(X_test)[:, 1]\n",
    "\n",
    "    # Расчет метрик\n",
    "    accuracy = accuracy_score(y_test, y_pred)\n",
    "    precision = precision_score(y_test, y_pred)\n",
    "    recall = recall_score(y_test, y_pred)\n",
    "    f1 = f1_score(y_test, y_pred)\n",
    "    roc_auc = roc_auc_score(y_test, y_pred_proba)\n",
    "\n",
    "    print(f\"Accuracy: {accuracy:.4f}\")\n",
    "    print(f\"Precision: {precision:.4f}\")\n",
    "    print(f\"Recall: {recall:.4f}\")\n",
    "    print(f\"F1 Score: {f1:.4f}\")\n",
    "    print(f\"ROC AUC: {roc_auc:.4f}\\n\")\n",
    "    print(\"Матрица ошибок:\")\n",
    "    print(confusion_matrix(y_test, y_pred))\n",
    "    print(\"\\nОтчет по классификации:\")\n",
    "    print(classification_report(y_test, y_pred))\n",
    "\n",
    "    # Сохранение результатов\n",
    "    results.append([name, accuracy, precision, recall, f1, roc_auc])\n",
    "    fpr, tpr, _ = roc_curve(y_test, y_pred_proba)\n",
    "    roc_curves[name] = (fpr, tpr, roc_auc)\n",
    "\n",
    "# Оценка всех моделей\n",
    "for name, model in models.items():\n",
    "    evaluate_model(name, model, X_train_selected, y_train, X_test_selected, y_test)"
   ]
  },
  {
   "cell_type": "markdown",
   "id": "239571c0",
   "metadata": {},
   "source": [
    "# 7. Настройка гиперпараметров для RandomForest"
   ]
  },
  {
   "cell_type": "code",
   "execution_count": null,
   "id": "6102fd0b",
   "metadata": {},
   "outputs": [
    {
     "name": "stdout",
     "output_type": "stream",
     "text": [
      "\n",
      "--- Настройка гиперпараметров для RandomForest ---\n",
      "Лучшие параметры: {'max_depth': 10, 'min_samples_leaf': 2, 'min_samples_split': 5, 'n_estimators': 200}\n"
     ]
    }
   ],
   "source": [
    "# Оптимизация: Для модели RandomForestClassifier настроил гиперпараметры с помощью GridSearchCV.\n",
    "\n",
    "print(\"\\n--- Настройка гиперпараметров для RandomForest ---\")\n",
    "param_grid = {\n",
    "    'n_estimators': [100, 200],\n",
    "    'max_depth': [10, 20, None],\n",
    "    'min_samples_split': [2, 5],\n",
    "    'min_samples_leaf': [1, 2]\n",
    "}\n",
    "\n",
    "grid_search = GridSearchCV(RandomForestClassifier(random_state=42), param_grid, cv=3, scoring='roc_auc', n_jobs=-1)\n",
    "# Запуск поиска\n",
    "grid_search.fit(X_train_selected, y_train)\n",
    "\n",
    "print(f\"Лучшие параметры: {grid_search.best_params_}\")\n",
    "best_rf = grid_search.best_estimator_"
   ]
  },
  {
   "cell_type": "code",
   "execution_count": null,
   "id": "d9672151",
   "metadata": {},
   "outputs": [
    {
     "name": "stdout",
     "output_type": "stream",
     "text": [
      "--- Обучение модели: Random Forest (Tuned) ---\n",
      "Accuracy: 0.8034\n",
      "Precision: 0.6601\n",
      "Recall: 0.5348\n",
      "F1 Score: 0.5908\n",
      "ROC AUC: 0.8423\n",
      "\n",
      "Матрица ошибок:\n",
      "[[932 103]\n",
      " [174 200]]\n",
      "\n",
      "Отчет по классификации:\n",
      "              precision    recall  f1-score   support\n",
      "\n",
      "           0       0.84      0.90      0.87      1035\n",
      "           1       0.66      0.53      0.59       374\n",
      "\n",
      "    accuracy                           0.80      1409\n",
      "   macro avg       0.75      0.72      0.73      1409\n",
      "weighted avg       0.79      0.80      0.80      1409\n",
      "\n"
     ]
    }
   ],
   "source": [
    "# Оценка лучшей модели RandomForest\n",
    "evaluate_model(\"Random Forest (Tuned)\", best_rf, X_train_selected, y_train, X_test_selected, y_test)"
   ]
  },
  {
   "cell_type": "code",
   "execution_count": null,
   "id": "4429c3c2",
   "metadata": {},
   "outputs": [],
   "source": [
    "# Оптимизированная модель показала наилучший результат по метрике ROC AUC (0.8423)."
   ]
  },
  {
   "cell_type": "markdown",
   "id": "c38d1d60",
   "metadata": {},
   "source": [
    "# 8. Сводка и визуализация результатов"
   ]
  },
  {
   "cell_type": "code",
   "execution_count": null,
   "id": "89788618",
   "metadata": {},
   "outputs": [
    {
     "name": "stdout",
     "output_type": "stream",
     "text": [
      "\n",
      "--- Итоговая таблица результатов ---\n"
     ]
    },
    {
     "data": {
      "application/vnd.microsoft.datawrangler.viewer.v0+json": {
       "columns": [
        {
         "name": "index",
         "rawType": "int64",
         "type": "integer"
        },
        {
         "name": "Model",
         "rawType": "object",
         "type": "string"
        },
        {
         "name": "Accuracy",
         "rawType": "float64",
         "type": "float"
        },
        {
         "name": "Precision",
         "rawType": "float64",
         "type": "float"
        },
        {
         "name": "Recall",
         "rawType": "float64",
         "type": "float"
        },
        {
         "name": "F1 Score",
         "rawType": "float64",
         "type": "float"
        },
        {
         "name": "ROC AUC",
         "rawType": "float64",
         "type": "float"
        }
       ],
       "ref": "06818086-6fdd-448c-aa4e-8c1777c369c9",
       "rows": [
        [
         "0",
         "Random Forest (Tuned)",
         "0.8034",
         "0.6601",
         "0.5348",
         "0.5908",
         "0.8423"
        ],
        [
         "1",
         "Gradient Boosting",
         "0.8006",
         "0.6566",
         "0.5214",
         "0.5812",
         "0.8417"
        ],
        [
         "2",
         "Logistic Regression",
         "0.7991",
         "0.6454",
         "0.5401",
         "0.5881",
         "0.8399"
        ],
        [
         "3",
         "LightGBM",
         "0.7991",
         "0.6435",
         "0.5455",
         "0.5904",
         "0.8342"
        ],
        [
         "4",
         "XGBoost",
         "0.7857",
         "0.6118",
         "0.5267",
         "0.5661",
         "0.8212"
        ],
        [
         "5",
         "Random Forest",
         "0.7871",
         "0.6259",
         "0.492",
         "0.5509",
         "0.8149"
        ],
        [
         "6",
         "Decision Tree",
         "0.7239",
         "0.4809",
         "0.5053",
         "0.4928",
         "0.6534"
        ]
       ],
       "shape": {
        "columns": 6,
        "rows": 7
       }
      },
      "text/html": [
       "<div>\n",
       "<style scoped>\n",
       "    .dataframe tbody tr th:only-of-type {\n",
       "        vertical-align: middle;\n",
       "    }\n",
       "\n",
       "    .dataframe tbody tr th {\n",
       "        vertical-align: top;\n",
       "    }\n",
       "\n",
       "    .dataframe thead th {\n",
       "        text-align: right;\n",
       "    }\n",
       "</style>\n",
       "<table border=\"1\" class=\"dataframe\">\n",
       "  <thead>\n",
       "    <tr style=\"text-align: right;\">\n",
       "      <th></th>\n",
       "      <th>Model</th>\n",
       "      <th>Accuracy</th>\n",
       "      <th>Precision</th>\n",
       "      <th>Recall</th>\n",
       "      <th>F1 Score</th>\n",
       "      <th>ROC AUC</th>\n",
       "    </tr>\n",
       "  </thead>\n",
       "  <tbody>\n",
       "    <tr>\n",
       "      <th>0</th>\n",
       "      <td>Random Forest (Tuned)</td>\n",
       "      <td>0.8034</td>\n",
       "      <td>0.6601</td>\n",
       "      <td>0.5348</td>\n",
       "      <td>0.5908</td>\n",
       "      <td>0.8423</td>\n",
       "    </tr>\n",
       "    <tr>\n",
       "      <th>1</th>\n",
       "      <td>Gradient Boosting</td>\n",
       "      <td>0.8006</td>\n",
       "      <td>0.6566</td>\n",
       "      <td>0.5214</td>\n",
       "      <td>0.5812</td>\n",
       "      <td>0.8417</td>\n",
       "    </tr>\n",
       "    <tr>\n",
       "      <th>2</th>\n",
       "      <td>Logistic Regression</td>\n",
       "      <td>0.7991</td>\n",
       "      <td>0.6454</td>\n",
       "      <td>0.5401</td>\n",
       "      <td>0.5881</td>\n",
       "      <td>0.8399</td>\n",
       "    </tr>\n",
       "    <tr>\n",
       "      <th>3</th>\n",
       "      <td>LightGBM</td>\n",
       "      <td>0.7991</td>\n",
       "      <td>0.6435</td>\n",
       "      <td>0.5455</td>\n",
       "      <td>0.5904</td>\n",
       "      <td>0.8342</td>\n",
       "    </tr>\n",
       "    <tr>\n",
       "      <th>4</th>\n",
       "      <td>XGBoost</td>\n",
       "      <td>0.7857</td>\n",
       "      <td>0.6118</td>\n",
       "      <td>0.5267</td>\n",
       "      <td>0.5661</td>\n",
       "      <td>0.8212</td>\n",
       "    </tr>\n",
       "    <tr>\n",
       "      <th>5</th>\n",
       "      <td>Random Forest</td>\n",
       "      <td>0.7871</td>\n",
       "      <td>0.6259</td>\n",
       "      <td>0.4920</td>\n",
       "      <td>0.5509</td>\n",
       "      <td>0.8149</td>\n",
       "    </tr>\n",
       "    <tr>\n",
       "      <th>6</th>\n",
       "      <td>Decision Tree</td>\n",
       "      <td>0.7239</td>\n",
       "      <td>0.4809</td>\n",
       "      <td>0.5053</td>\n",
       "      <td>0.4928</td>\n",
       "      <td>0.6534</td>\n",
       "    </tr>\n",
       "  </tbody>\n",
       "</table>\n",
       "</div>"
      ],
      "text/plain": [
       "                   Model  Accuracy  Precision  Recall  F1 Score  ROC AUC\n",
       "0  Random Forest (Tuned)    0.8034     0.6601  0.5348    0.5908   0.8423\n",
       "1      Gradient Boosting    0.8006     0.6566  0.5214    0.5812   0.8417\n",
       "2    Logistic Regression    0.7991     0.6454  0.5401    0.5881   0.8399\n",
       "3               LightGBM    0.7991     0.6435  0.5455    0.5904   0.8342\n",
       "4                XGBoost    0.7857     0.6118  0.5267    0.5661   0.8212\n",
       "5          Random Forest    0.7871     0.6259  0.4920    0.5509   0.8149\n",
       "6          Decision Tree    0.7239     0.4809  0.5053    0.4928   0.6534"
      ]
     },
     "metadata": {},
     "output_type": "display_data"
    }
   ],
   "source": [
    "# Создал итоговую таблицы с результатами\n",
    "# Результаты всех моделей сведены в итоговую таблицу и отсортированы по ROC AUC.\n",
    "\n",
    "\n",
    "results_df = pd.DataFrame(results, columns=['Model', 'Accuracy', 'Precision', 'Recall', 'F1 Score', 'ROC AUC'])\n",
    "results_df = results_df.sort_values(by='ROC AUC', ascending=False).reset_index(drop=True)\n",
    "\n",
    "print(\"\\n--- Итоговая таблица результатов ---\")\n",
    "display(results_df.round(4))"
   ]
  },
  {
   "cell_type": "code",
   "execution_count": null,
   "id": "1b1caba9",
   "metadata": {},
   "outputs": [],
   "source": [
    "# Лучшей моделью по совокупности метрик стала Random Forest с настроенными гиперпараметрами, показав хороший баланс между точностью и полнотой. За ней с небольшим отрывом следует Gradient Boosting."
   ]
  },
  {
   "cell_type": "code",
   "execution_count": null,
   "id": "7762ca5a",
   "metadata": {},
   "outputs": [
    {
     "data": {
      "image/png": "[encoded data removed]",
      "text/plain": [
       "<Figure size 1200x1000 with 1 Axes>"
      ]
     },
     "metadata": {},
     "output_type": "display_data"
    }
   ],
   "source": [
    "# Визуализация ROC-кривых\n",
    "plt.figure(figsize=(12, 10))\n",
    "for name, (fpr, tpr, roc_auc) in roc_curves.items():\n",
    "    plt.plot(fpr, tpr, label=f'{name} (AUC = {roc_auc:.3f})')\n",
    "\n",
    "plt.plot([0, 1], [0, 1], 'k--', label='Случайное предсказание')\n",
    "plt.xlabel('False Positive Rate')\n",
    "plt.ylabel('True Positive Rate')\n",
    "plt.title('Сравнение ROC-кривых моделей')\n",
    "plt.legend()\n",
    "plt.grid(True)\n",
    "plt.show()"
   ]
  },
  {
   "cell_type": "code",
   "execution_count": null,
   "id": "36bff976",
   "metadata": {},
   "outputs": [],
   "source": [
    "# Визуализация ROC-кривых наглядно подтвердила превосходство моделей ансамблевого типа над более простыми, такими как Decision Tree."
   ]
  },
  {
   "cell_type": "markdown",
   "id": "f3713cba",
   "metadata": {},
   "source": [
    "# 9. Создаем рекомендации по удержанию"
   ]
  },
  {
   "cell_type": "code",
   "execution_count": null,
   "id": "afc1c008",
   "metadata": {},
   "outputs": [],
   "source": [
    "# Получаем прогнозы лучшей модели на тестовых данных\n",
    "y_pred_best = best_rf.predict(X_test_selected)"
   ]
  },
  {
   "cell_type": "code",
   "execution_count": null,
   "id": "329dc405",
   "metadata": {},
   "outputs": [
    {
     "name": "stdout",
     "output_type": "stream",
     "text": [
      "<class 'pandas.core.frame.DataFrame'>\n",
      "RangeIndex: 7043 entries, 0 to 7042\n",
      "Data columns (total 31 columns):\n",
      " #   Column                                 Non-Null Count  Dtype  \n",
      "---  ------                                 --------------  -----  \n",
      " 0   gender                                 7043 non-null   int64  \n",
      " 1   SeniorCitizen                          7043 non-null   int64  \n",
      " 2   Partner                                7043 non-null   int64  \n",
      " 3   Dependents                             7043 non-null   int64  \n",
      " 4   tenure                                 7043 non-null   int64  \n",
      " 5   PhoneService                           7043 non-null   int64  \n",
      " 6   PaperlessBilling                       7043 non-null   int64  \n",
      " 7   MonthlyCharges                         7043 non-null   float64\n",
      " 8   TotalCharges                           7043 non-null   float64\n",
      " 9   Churn                                  7043 non-null   int64  \n",
      " 10  MultipleLines_No phone service         7043 non-null   bool   \n",
      " 11  MultipleLines_Yes                      7043 non-null   bool   \n",
      " 12  InternetService_Fiber optic            7043 non-null   bool   \n",
      " 13  InternetService_No                     7043 non-null   bool   \n",
      " 14  OnlineSecurity_No internet service     7043 non-null   bool   \n",
      " 15  OnlineSecurity_Yes                     7043 non-null   bool   \n",
      " 16  OnlineBackup_No internet service       7043 non-null   bool   \n",
      " 17  OnlineBackup_Yes                       7043 non-null   bool   \n",
      " 18  DeviceProtection_No internet service   7043 non-null   bool   \n",
      " 19  DeviceProtection_Yes                   7043 non-null   bool   \n",
      " 20  TechSupport_No internet service        7043 non-null   bool   \n",
      " 21  TechSupport_Yes                        7043 non-null   bool   \n",
      " 22  StreamingTV_No internet service        7043 non-null   bool   \n",
      " 23  StreamingTV_Yes                        7043 non-null   bool   \n",
      " 24  StreamingMovies_No internet service    7043 non-null   bool   \n",
      " 25  StreamingMovies_Yes                    7043 non-null   bool   \n",
      " 26  Contract_One year                      7043 non-null   bool   \n",
      " 27  Contract_Two year                      7043 non-null   bool   \n",
      " 28  PaymentMethod_Credit card (automatic)  7043 non-null   bool   \n",
      " 29  PaymentMethod_Electronic check         7043 non-null   bool   \n",
      " 30  PaymentMethod_Mailed check             7043 non-null   bool   \n",
      "dtypes: bool(21), float64(2), int64(8)\n",
      "memory usage: 694.8 KB\n"
     ]
    }
   ],
   "source": [
    "# Создаю DataFrame с фактическими и предсказанными значениями\n",
    "results_analysis = pd.DataFrame({\n",
    "    'y_test': y_test,\n",
    "    'y_pred': y_pred_best\n",
    "}, index=y_test.index)\n",
    "df.info()"
   ]
  },
  {
   "cell_type": "code",
   "execution_count": null,
   "id": "50b65140",
   "metadata": {},
   "outputs": [],
   "source": [
    "# Добавляю реальные месячные платежи (до масштабирования)\n",
    "# Используем .loc для безопасного соединения по индексам\n",
    "original_test_data = df.loc[y_test.index]\n",
    "results_analysis['MonthlyCharges'] = original_test_data['MonthlyCharges']"
   ]
  },
  {
   "cell_type": "code",
   "execution_count": null,
   "id": "1818c502",
   "metadata": {},
   "outputs": [
    {
     "data": {
      "application/vnd.microsoft.datawrangler.viewer.v0+json": {
       "columns": [
        {
         "name": "index",
         "rawType": "int64",
         "type": "integer"
        },
        {
         "name": "y_test",
         "rawType": "int64",
         "type": "integer"
        },
        {
         "name": "y_pred",
         "rawType": "int64",
         "type": "integer"
        },
        {
         "name": "MonthlyCharges",
         "rawType": "float64",
         "type": "float"
        }
       ],
       "ref": "0c310c3a-48f7-4939-b6c3-576732fbc276",
       "rows": [
        [
         "437",
         "0",
         "0",
         "114.05"
        ],
        [
         "2280",
         "0",
         "1",
         "100.15"
        ],
        [
         "2235",
         "0",
         "0",
         "78.35"
        ],
        [
         "4460",
         "0",
         "0",
         "78.2"
        ],
        [
         "3761",
         "0",
         "0",
         "82.65"
        ],
        [
         "5748",
         "0",
         "0",
         "99.85"
        ],
        [
         "3568",
         "0",
         "0",
         "99.15"
        ],
        [
         "2976",
         "0",
         "0",
         "24.1"
        ],
        [
         "5928",
         "0",
         "0",
         "19.75"
        ],
        [
         "1639",
         "1",
         "0",
         "45.05"
        ],
        [
         "2079",
         "0",
         "0",
         "106.05"
        ],
        [
         "1280",
         "0",
         "0",
         "114.85"
        ],
        [
         "667",
         "0",
         "0",
         "30.2"
        ],
        [
         "3524",
         "1",
         "1",
         "84.8"
        ],
        [
         "5283",
         "0",
         "0",
         "48.8"
        ],
        [
         "485",
         "0",
         "0",
         "84.5"
        ],
        [
         "6121",
         "0",
         "0",
         "19.5"
        ],
        [
         "2136",
         "0",
         "1",
         "91.0"
        ],
        [
         "6501",
         "0",
         "0",
         "105.7"
        ],
        [
         "5356",
         "0",
         "0",
         "35.4"
        ],
        [
         "6529",
         "1",
         "1",
         "74.85"
        ],
        [
         "1242",
         "0",
         "0",
         "28.5"
        ],
        [
         "1615",
         "0",
         "0",
         "20.05"
        ],
        [
         "5082",
         "0",
         "0",
         "19.8"
        ],
        [
         "5389",
         "0",
         "0",
         "69.15"
        ],
        [
         "3985",
         "0",
         "0",
         "54.55"
        ],
        [
         "761",
         "1",
         "0",
         "89.25"
        ],
        [
         "6125",
         "1",
         "1",
         "102.25"
        ],
        [
         "6053",
         "0",
         "0",
         "25.1"
        ],
        [
         "5547",
         "1",
         "1",
         "89.45"
        ],
        [
         "1838",
         "0",
         "0",
         "90.05"
        ],
        [
         "6979",
         "0",
         "0",
         "24.2"
        ],
        [
         "4345",
         "0",
         "0",
         "20.55"
        ],
        [
         "3553",
         "0",
         "0",
         "23.4"
        ],
        [
         "346",
         "1",
         "1",
         "90.4"
        ],
        [
         "3624",
         "0",
         "0",
         "96.1"
        ],
        [
         "950",
         "1",
         "1",
         "44.95"
        ],
        [
         "3707",
         "0",
         "0",
         "19.9"
        ],
        [
         "6633",
         "1",
         "1",
         "74.5"
        ],
        [
         "2488",
         "1",
         "0",
         "55.25"
        ],
        [
         "4852",
         "0",
         "0",
         "20.3"
        ],
        [
         "2519",
         "0",
         "1",
         "91.45"
        ],
        [
         "5400",
         "0",
         "0",
         "70.4"
        ],
        [
         "1520",
         "0",
         "0",
         "19.6"
        ],
        [
         "3712",
         "0",
         "0",
         "65.4"
        ],
        [
         "880",
         "1",
         "1",
         "110.1"
        ],
        [
         "3510",
         "0",
         "1",
         "75.25"
        ],
        [
         "6114",
         "0",
         "0",
         "66.65"
        ],
        [
         "3283",
         "0",
         "0",
         "20.35"
        ],
        [
         "523",
         "1",
         "0",
         "75.6"
        ]
       ],
       "shape": {
        "columns": 3,
        "rows": 1409
       }
      },
      "text/html": [
       "<div>\n",
       "<style scoped>\n",
       "    .dataframe tbody tr th:only-of-type {\n",
       "        vertical-align: middle;\n",
       "    }\n",
       "\n",
       "    .dataframe tbody tr th {\n",
       "        vertical-align: top;\n",
       "    }\n",
       "\n",
       "    .dataframe thead th {\n",
       "        text-align: right;\n",
       "    }\n",
       "</style>\n",
       "<table border=\"1\" class=\"dataframe\">\n",
       "  <thead>\n",
       "    <tr style=\"text-align: right;\">\n",
       "      <th></th>\n",
       "      <th>y_test</th>\n",
       "      <th>y_pred</th>\n",
       "      <th>MonthlyCharges</th>\n",
       "    </tr>\n",
       "  </thead>\n",
       "  <tbody>\n",
       "    <tr>\n",
       "      <th>437</th>\n",
       "      <td>0</td>\n",
       "      <td>0</td>\n",
       "      <td>114.05</td>\n",
       "    </tr>\n",
       "    <tr>\n",
       "      <th>2280</th>\n",
       "      <td>0</td>\n",
       "      <td>1</td>\n",
       "      <td>100.15</td>\n",
       "    </tr>\n",
       "    <tr>\n",
       "      <th>2235</th>\n",
       "      <td>0</td>\n",
       "      <td>0</td>\n",
       "      <td>78.35</td>\n",
       "    </tr>\n",
       "    <tr>\n",
       "      <th>4460</th>\n",
       "      <td>0</td>\n",
       "      <td>0</td>\n",
       "      <td>78.20</td>\n",
       "    </tr>\n",
       "    <tr>\n",
       "      <th>3761</th>\n",
       "      <td>0</td>\n",
       "      <td>0</td>\n",
       "      <td>82.65</td>\n",
       "    </tr>\n",
       "    <tr>\n",
       "      <th>...</th>\n",
       "      <td>...</td>\n",
       "      <td>...</td>\n",
       "      <td>...</td>\n",
       "    </tr>\n",
       "    <tr>\n",
       "      <th>5143</th>\n",
       "      <td>0</td>\n",
       "      <td>0</td>\n",
       "      <td>87.20</td>\n",
       "    </tr>\n",
       "    <tr>\n",
       "      <th>4439</th>\n",
       "      <td>0</td>\n",
       "      <td>0</td>\n",
       "      <td>20.30</td>\n",
       "    </tr>\n",
       "    <tr>\n",
       "      <th>3857</th>\n",
       "      <td>0</td>\n",
       "      <td>0</td>\n",
       "      <td>20.65</td>\n",
       "    </tr>\n",
       "    <tr>\n",
       "      <th>4758</th>\n",
       "      <td>0</td>\n",
       "      <td>0</td>\n",
       "      <td>19.70</td>\n",
       "    </tr>\n",
       "    <tr>\n",
       "      <th>5613</th>\n",
       "      <td>0</td>\n",
       "      <td>0</td>\n",
       "      <td>70.45</td>\n",
       "    </tr>\n",
       "  </tbody>\n",
       "</table>\n",
       "<p>1409 rows × 3 columns</p>\n",
       "</div>"
      ],
      "text/plain": [
       "      y_test  y_pred  MonthlyCharges\n",
       "437        0       0          114.05\n",
       "2280       0       1          100.15\n",
       "2235       0       0           78.35\n",
       "4460       0       0           78.20\n",
       "3761       0       0           82.65\n",
       "...      ...     ...             ...\n",
       "5143       0       0           87.20\n",
       "4439       0       0           20.30\n",
       "3857       0       0           20.65\n",
       "4758       0       0           19.70\n",
       "5613       0       0           70.45\n",
       "\n",
       "[1409 rows x 3 columns]"
      ]
     },
     "execution_count": 48,
     "metadata": {},
     "output_type": "execute_result"
    }
   ],
   "source": [
    "results_analysis"
   ]
  },
  {
   "cell_type": "code",
   "execution_count": null,
   "id": "907d0f79",
   "metadata": {},
   "outputs": [],
   "source": [
    "# 1. Определяею целевую аудиторию для удержания\n",
    "# Это клиенты, для которых модель предсказала отток (y_pred == 1)\n",
    "target_customers = results_analysis[results_analysis['y_pred'] == 1]"
   ]
  },
  {
   "cell_type": "code",
   "execution_count": null,
   "id": "5646094b",
   "metadata": {},
   "outputs": [],
   "source": [
    "# 2. Определяю допущения\n",
    "LIFETIME_MONTHS = 12\n",
    "COST_OF_RETENTION_COEF = 2  # Стоимость удержания = 2 * MonthlyCharges\n",
    "SUCCESS_RATE = 0.40         # 40% клиентов примут предложение"
   ]
  },
  {
   "cell_type": "code",
   "execution_count": null,
   "id": "9f3bf9b9",
   "metadata": {},
   "outputs": [],
   "source": [
    "# 3. Расчеты\n",
    "num_targeted = len(target_customers)\n",
    "num_retained = int(num_targeted * SUCCESS_RATE)"
   ]
  },
  {
   "cell_type": "code",
   "execution_count": null,
   "id": "050d72cd",
   "metadata": {},
   "outputs": [],
   "source": [
    "# Средний месячный платеж в целевой группе\n",
    "avg_monthly_charge_targeted = target_customers['MonthlyCharges'].mean()"
   ]
  },
  {
   "cell_type": "code",
   "execution_count": null,
   "id": "f0dc145f",
   "metadata": {},
   "outputs": [],
   "source": [
    "# Общий доход от удержанных клиентов за год\n",
    "total_revenue_from_retained = num_retained * avg_monthly_charge_targeted * LIFETIME_MONTHS"
   ]
  },
  {
   "cell_type": "code",
   "execution_count": null,
   "id": "c7e65643",
   "metadata": {},
   "outputs": [],
   "source": [
    "# Общие затраты на кампанию удержания\n",
    "total_cost_of_retention = num_targeted * avg_monthly_charge_targeted * COST_OF_RETENTION_COEF"
   ]
  },
  {
   "cell_type": "code",
   "execution_count": null,
   "id": "fa633dc1",
   "metadata": {},
   "outputs": [],
   "source": [
    "# Чистая экономическая выгода\n",
    "net_profit = total_revenue_from_retained - total_cost_of_retention"
   ]
  },
  {
   "cell_type": "code",
   "execution_count": null,
   "id": "ebad7123",
   "metadata": {},
   "outputs": [],
   "source": [
    "# ROI (Return on Investment)\n",
    "roi = (net_profit / total_cost_of_retention) * 100"
   ]
  },
  {
   "cell_type": "code",
   "execution_count": null,
   "id": "709bd918",
   "metadata": {},
   "outputs": [
    {
     "name": "stdout",
     "output_type": "stream",
     "text": [
      "--- Экономический анализ кампании по удержанию ---\n",
      "\n",
      "Исходные допущения:\n",
      "  - Срок жизни удержанного клиента: 12 мес.\n",
      "  - Стоимость удержания: 2 месячных платежа\n",
      "  - Коэффициент конверсии предложения: 40%\n",
      "\n",
      "Результаты на тестовой выборке (1409 клиентов):\n",
      "  - Клиентов, спрогнозированных на отток (целевая аудитория): 303\n",
      "  - Средний месячный платеж в целевой группе: 76.76 $\n",
      "  - Ожидаемое количество удержанных клиентов: 121\n",
      "\n",
      "Финансовые показатели:\n",
      "  - Общие затраты на кампанию удержания: 46,517.20 $\n",
      "  - Ожидаемый доход от удержанных клиентов за год: 111,457.05 $\n",
      "  - Чистая экономическая выгода: 64,939.85 $\n",
      "  - ROI (Возврат на инвестиции): 139.60 %\n"
     ]
    }
   ],
   "source": [
    "# --- Подсчет целесообразности рекомендаций ---\n",
    "print(\"--- Экономический анализ кампании по удержанию ---\")\n",
    "print(f\"\\nИсходные допущения:\")\n",
    "print(f\"  - Срок жизни удержанного клиента: {LIFETIME_MONTHS} мес.\")\n",
    "print(f\"  - Стоимость удержания: {COST_OF_RETENTION_COEF} месячных платежа\")\n",
    "print(f\"  - Коэффициент конверсии предложения: {SUCCESS_RATE:.0%}\")\n",
    "\n",
    "print(f\"\\nРезультаты на тестовой выборке ({len(X_test)} клиентов):\")\n",
    "print(f\"  - Клиентов, спрогнозированных на отток (целевая аудитория): {num_targeted}\")\n",
    "print(f\"  - Средний месячный платеж в целевой группе: {avg_monthly_charge_targeted:.2f} $\")\n",
    "print(f\"  - Ожидаемое количество удержанных клиентов: {num_retained}\")\n",
    "\n",
    "print(\"\\nФинансовые показатели:\")\n",
    "print(f\"  - Общие затраты на кампанию удержания: {total_cost_of_retention:,.2f} $\")\n",
    "print(f\"  - Ожидаемый доход от удержанных клиентов за год: {total_revenue_from_retained:,.2f} $\")\n",
    "print(f\"  - Чистая экономическая выгода: {net_profit:,.2f} $\")\n",
    "print(f\"  - ROI (Возврат на инвестиции): {roi:.2f} %\")"
   ]
  },
  {
   "cell_type": "code",
   "execution_count": null,
   "id": "5343c3fe",
   "metadata": {},
   "outputs": [
    {
     "name": "stdout",
     "output_type": "stream",
     "text": [
      "\n",
      "--- Вывод ---\n",
      "Принятая стратегия удержания является экономически выгодной.\n",
      "Каждый вложенный доллар принесет 1.40 доллара чистой прибыли.\n"
     ]
    }
   ],
   "source": [
    "print(\"\\n--- Вывод ---\")\n",
    "if net_profit > 0:\n",
    "    print(\"Принятая стратегия удержания является экономически выгодной.\")\n",
    "    print(f\"Каждый вложенный доллар принесет {roi/100:.2f} доллара чистой прибыли.\")\n",
    "else:\n",
    "    print(\"Принятая стратегия удержания является убыточной при текущих допущениях.\")"
   ]
  }
 ],
 "metadata": {
  "kernelspec": {
   "display_name": "diplom_venv",
   "language": "python",
   "name": "python3"
  },
  "language_info": {
   "codemirror_mode": {
    "name": "ipython",
    "version": 3
   },
   "file_extension": ".py",
   "mimetype": "text/x-python",
   "name": "python",
   "nbconvert_exporter": "python",
   "pygments_lexer": "ipython3",
   "version": "3.11.9"
  }
 },
 "nbformat": 4,
 "nbformat_minor": 5
}
