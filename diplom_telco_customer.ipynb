{
 "cells": [
  {
   "cell_type": "markdown",
   "id": "9ceec311",
   "metadata": {},
   "source": [
    "# Прогнозирование оттока клиентов и формирование персонализированных рекомендаций"
   ]
  },
  {
   "cell_type": "markdown",
   "id": "4087b422",
   "metadata": {},
   "source": [
    "## Введение"
   ]
  },
  {
   "cell_type": "markdown",
   "id": "fad73952",
   "metadata": {},
   "source": [
    "### Актуальность и цель"
   ]
  },
  {
   "cell_type": "markdown",
   "id": "bd134888",
   "metadata": {},
   "source": [
    "В условиях высокой конкуренции на телекоммуникационном рынке удержание существующих клиентов является ключевым фактором успеха. Потеря клиентов (отток) приводит к прямым финансовым потерям и затратам на привлечение новых.\n",
    "\n",
    "Цель: Разработать систему для прогнозирования оттока, которая не просто выявляет клиентов из группы риска, а определяет экономически обоснованную стратегию по их удержанию и формирует для них персонализированные рекомендации."
   ]
  },
  {
   "cell_type": "markdown",
   "id": "6100f9b8",
   "metadata": {},
   "source": [
    "### План работы"
   ]
  },
  {
   "cell_type": "markdown",
   "id": "5a052255",
   "metadata": {},
   "source": [
    "1. Исследовательский анализ данных (EDA): загрузка, очистка и визуализация данных для выявления ключевых закономерностей.\n",
    "\n",
    "2. Подготовка данных и Feature Engineering: преобразование данных и создание новых признаков для улучшения качества моделей.\n",
    "\n",
    "3. Обучение и выбор лучшей модели: сравнение нескольких моделей машинного обучения и выбор наиболее точной.\n",
    "\n",
    "4. Определение оптимальной бизнес-стратегии: расчет точки безубыточности и порога вероятности, который максимизирует чистую прибыль от кампании по удержанию.\n",
    "\n",
    "5. Формирование персонализированных рекомендаций: для клиентов из группы риска, определённой на предыдущем шаге, будут сгенерированы персональные рекомендации на основе метода k-ближайших соседей (k-NN).\n",
    "\n",
    "6. Интерпретация и итоговый отчет: анализ причин ухода для конкретных клиентов с помощью LIME и формирование финального отчета для бизнеса."
   ]
  },
  {
   "cell_type": "markdown",
   "id": "ce42a14a",
   "metadata": {},
   "source": [
    "## Реализация проекта"
   ]
  },
  {
   "cell_type": "markdown",
   "id": "3e300a81",
   "metadata": {},
   "source": [
    "### Импорт библиотек"
   ]
  },
  {
   "cell_type": "code",
   "execution_count": 1,
   "id": "9102e4ab",
   "metadata": {},
   "outputs": [],
   "source": [
    "# ! pip install pandas matplotlib seaborn scikit-learn kagglehub numpy xgboost lightgbm catboost optuna lime\n",
    "\n",
    "import warnings\n",
    "import pandas as pd\n",
    "import numpy as np\n",
    "import matplotlib.pyplot as plt\n",
    "import matplotlib.patches as mpatches\n",
    "import matplotlib.ticker as mticker\n",
    "import seaborn as sns\n",
    "import kagglehub\n",
    "import optuna\n",
    "import lime\n",
    "import lime.lime_tabular\n",
    "import tensorflow as tf\n",
    "from tensorflow.keras.models import Sequential\n",
    "from tensorflow.keras.layers import Dense, Dropout, BatchNormalization\n",
    "from tensorflow.keras.callbacks import EarlyStopping\n",
    "from pytorch_tabnet.tab_model import TabNetClassifier\n",
    "import torch\n",
    "\n",
    "# Модели и метрики\n",
    "from sklearn.model_selection import train_test_split, StratifiedKFold, cross_val_score\n",
    "from sklearn.preprocessing import StandardScaler, LabelEncoder\n",
    "from sklearn.linear_model import LogisticRegression\n",
    "from sklearn.ensemble import RandomForestClassifier, GradientBoostingClassifier\n",
    "from sklearn.metrics import roc_auc_score, classification_report, precision_recall_curve, confusion_matrix\n",
    "from sklearn.neighbors import NearestNeighbors\n",
    "from tensorflow.keras.optimizers import Adam\n",
    "\n",
    "# Ансамбли\n",
    "import xgboost as xgb\n",
    "import lightgbm as lgb\n",
    "import catboost as cb\n",
    "\n",
    "# Настройки\n",
    "warnings.filterwarnings('ignore')\n",
    "plt.style.use('ggplot')\n",
    "sns.set_palette(\"viridis\")\n",
    "optuna.logging.set_verbosity(optuna.logging.WARNING)"
   ]
  },
  {
   "cell_type": "code",
   "execution_count": 39,
   "id": "cf631e25",
   "metadata": {},
   "outputs": [],
   "source": [
    "# ! pip freeze > requirements.txt"
   ]
  },
  {
   "cell_type": "markdown",
   "id": "821fdd7d",
   "metadata": {},
   "source": [
    "### 1. Загрузка и исследовательский анализ данных (EDA)"
   ]
  },
  {
   "cell_type": "markdown",
   "id": "6972f2e5",
   "metadata": {},
   "source": [
    "На этом этапе мы загружаем данные, проводим первичный анализ, очистку и визуализируем основные зависимости, чтобы понять, какие факторы больше всего влияют на отток."
   ]
  },
  {
   "cell_type": "code",
   "execution_count": 40,
   "id": "bdda8a72",
   "metadata": {},
   "outputs": [],
   "source": [
    "# Загрузка датасета с помощью Kaggle API\n",
    "path = kagglehub.dataset_download(\"blastchar/telco-customer-churn\")\n",
    "file_path = f\"{path}/WA_Fn-UseC_-Telco-Customer-Churn.csv\"\n",
    "df = pd.read_csv(file_path)"
   ]
  },
  {
   "cell_type": "code",
   "execution_count": 41,
   "id": "4921e49d",
   "metadata": {},
   "outputs": [
    {
     "name": "stdout",
     "output_type": "stream",
     "text": [
      "Размер датасета: (7043, 21)\n",
      "\n",
      "Информация о типах данных:\n",
      "<class 'pandas.core.frame.DataFrame'>\n",
      "RangeIndex: 7043 entries, 0 to 7042\n",
      "Data columns (total 21 columns):\n",
      " #   Column            Non-Null Count  Dtype  \n",
      "---  ------            --------------  -----  \n",
      " 0   customerID        7043 non-null   object \n",
      " 1   gender            7043 non-null   object \n",
      " 2   SeniorCitizen     7043 non-null   int64  \n",
      " 3   Partner           7043 non-null   object \n",
      " 4   Dependents        7043 non-null   object \n",
      " 5   tenure            7043 non-null   int64  \n",
      " 6   PhoneService      7043 non-null   object \n",
      " 7   MultipleLines     7043 non-null   object \n",
      " 8   InternetService   7043 non-null   object \n",
      " 9   OnlineSecurity    7043 non-null   object \n",
      " 10  OnlineBackup      7043 non-null   object \n",
      " 11  DeviceProtection  7043 non-null   object \n",
      " 12  TechSupport       7043 non-null   object \n",
      " 13  StreamingTV       7043 non-null   object \n",
      " 14  StreamingMovies   7043 non-null   object \n",
      " 15  Contract          7043 non-null   object \n",
      " 16  PaperlessBilling  7043 non-null   object \n",
      " 17  PaymentMethod     7043 non-null   object \n",
      " 18  MonthlyCharges    7043 non-null   float64\n",
      " 19  TotalCharges      7043 non-null   object \n",
      " 20  Churn             7043 non-null   object \n",
      "dtypes: float64(1), int64(2), object(18)\n",
      "memory usage: 1.1+ MB\n"
     ]
    }
   ],
   "source": [
    "# Первичный осмотр данных\n",
    "print(\"Размер датасета:\", df.shape)\n",
    "print(\"\\nИнформация о типах данных:\")\n",
    "df.info()"
   ]
  },
  {
   "cell_type": "code",
   "execution_count": 42,
   "id": "051a3448",
   "metadata": {},
   "outputs": [
    {
     "name": "stdout",
     "output_type": "stream",
     "text": [
      "Папка с датасетом: C:\\Users\\dogot\\.cache\\kagglehub\\datasets\\blastchar\\telco-customer-churn\\versions\\1\n",
      "CSV-файл: C:\\Users\\dogot\\.cache\\kagglehub\\datasets\\blastchar\\telco-customer-churn\\versions\\1/WA_Fn-UseC_-Telco-Customer-Churn.csv\n"
     ]
    }
   ],
   "source": [
    "print(\"Папка с датасетом:\", path)\n",
    "print(\"CSV-файл:\", file_path)"
   ]
  },
  {
   "cell_type": "code",
   "execution_count": 43,
   "id": "53f62ac1",
   "metadata": {},
   "outputs": [
    {
     "data": {
      "text/plain": [
       "np.float64(0.1561834445548772)"
      ]
     },
     "execution_count": 43,
     "metadata": {},
     "output_type": "execute_result"
    }
   ],
   "source": [
    "# Очистка данных: столбец TotalCharges имеет неверный тип object и содержит пропуски\n",
    "# Преобразую в числовой формат, заменяя ошибки на NaN\n",
    "df['TotalCharges'] = pd.to_numeric(df['TotalCharges'], errors='coerce')\n",
    "df['TotalCharges'].isna().sum()/df.shape[0] * 100 # Проверка количества пропусков"
   ]
  },
  {
   "cell_type": "code",
   "execution_count": 44,
   "id": "eba0704c",
   "metadata": {},
   "outputs": [
    {
     "name": "stdout",
     "output_type": "stream",
     "text": [
      "\n",
      "Размер датасета после очистки: (7032, 21)\n"
     ]
    }
   ],
   "source": [
    "# Удаляю строки с пропусками (их всего 11, что составляет < 0.16 % данных)\n",
    "df.dropna(subset=['TotalCharges'], inplace=True)\n",
    "print(f\"\\nРазмер датасета после очистки: {df.shape}\")"
   ]
  },
  {
   "cell_type": "code",
   "execution_count": 45,
   "id": "9d89a003",
   "metadata": {},
   "outputs": [
    {
     "data": {
      "image/png": "[encoded data removed]",
      "text/plain": [
       "<Figure size 600x600 with 1 Axes>"
      ]
     },
     "metadata": {},
     "output_type": "display_data"
    }
   ],
   "source": [
    "# Визуализация\n",
    "\n",
    "# 1. Распределение оттока (целевой переменной)\n",
    "plt.figure(figsize=(6, 6))\n",
    "churn_counts = df['Churn'].value_counts()\n",
    "plt.pie(churn_counts, labels=churn_counts.index, autopct='%1.1f%%', startangle=90, colors=['#8cba51', '#e06666'])\n",
    "plt.title('Распределение оттока клиентов')\n",
    "plt.show()"
   ]
  },
  {
   "cell_type": "markdown",
   "id": "8e924aa3",
   "metadata": {},
   "source": [
    "Вывод: Наблюдается дисбаланс классов (~26.6% клиентов ушли), учту это при обучении моделей."
   ]
  },
  {
   "cell_type": "code",
   "execution_count": 46,
   "id": "ad3578b4",
   "metadata": {},
   "outputs": [
    {
     "data": {
      "image/png": "[encoded data removed]",
      "text/plain": [
       "<Figure size 2000x600 with 3 Axes>"
      ]
     },
     "metadata": {},
     "output_type": "display_data"
    }
   ],
   "source": [
    "# 2. Анализ числовых признаков\n",
    "numeric_cols = ['tenure', 'MonthlyCharges', 'TotalCharges']\n",
    "fig, axes = plt.subplots(1, 3, figsize=(20, 6))\n",
    "for i, col in enumerate(numeric_cols):\n",
    "    sns.histplot(df, x=col, hue='Churn', kde=True, ax=axes[i], palette=['#8cba51', '#e06666'])\n",
    "    axes[i].set_title(f'Распределение {col} и отток')\n",
    "plt.tight_layout()\n",
    "plt.show()"
   ]
  },
  {
   "cell_type": "markdown",
   "id": "b1acfacd",
   "metadata": {},
   "source": [
    "Выводы: Tenure (срок пользования): Новые клиенты (малый tenure) уходят значительно чаще. MonthlyCharges (ежемесячный платеж): Клиенты с высокими платежами более склонны к оттоку. TotalCharges (общий платеж): Клиенты, заплатившие в сумме меньше, уходят чаще."
   ]
  },
  {
   "cell_type": "code",
   "execution_count": 47,
   "id": "495aefaa",
   "metadata": {},
   "outputs": [
    {
     "data": {
      "image/png": "[encoded data removed]",
      "text/plain": [
       "<Figure size 1400x1200 with 4 Axes>"
      ]
     },
     "metadata": {},
     "output_type": "display_data"
    }
   ],
   "source": [
    "# 3. Анализ ключевых категориальных признаков\n",
    "key_categorical_cols = ['Contract', 'OnlineSecurity', 'TechSupport', 'InternetService']\n",
    "fig, axes = plt.subplots(2, 2, figsize=(14, 12))\n",
    "axes = axes.ravel()\n",
    "for i, col in enumerate(key_categorical_cols):\n",
    "    sns.countplot(x=col, hue='Churn', data=df, ax=axes[i], palette=['#8cba51', '#e06666'])\n",
    "    axes[i].set_title(f'{col} vs Churn')\n",
    "    axes[i].tick_params(axis='x', rotation=30)\n",
    "plt.tight_layout()\n",
    "plt.show()"
   ]
  },
  {
   "cell_type": "markdown",
   "id": "e4e78679",
   "metadata": {},
   "source": [
    "Выводы:\n",
    "Contract: Подавляющее большинство ушедших клиентов имели помесячный контракт.\n",
    "OnlineSecurity & TechSupport: Клиенты без услуг онлайн-безопасности и техподдержки уходят гораздо чаще.\n",
    "InternetService: Пользователи оптоволоконного интернета (Fiber optic) более склонны к оттоку, возможно, из-за более высокой цены или проблем со стабильностью."
   ]
  },
  {
   "cell_type": "markdown",
   "id": "8625dd50",
   "metadata": {},
   "source": [
    "### 2. Подготовка данных и Feature Engineering"
   ]
  },
  {
   "cell_type": "markdown",
   "id": "f5fd941f",
   "metadata": {},
   "source": [
    "Создаю новые, более информативные признаки из существующих данных. Затем кодирую все категориальные признаки в числовой формат и масштабирую численные данные для корректной работы моделей."
   ]
  },
  {
   "cell_type": "code",
   "execution_count": 48,
   "id": "d6755f9a",
   "metadata": {},
   "outputs": [],
   "source": [
    "# Удаляю неинформативный столбец\n",
    "df.drop(['customerID'], axis=1, inplace=True, errors='ignore')"
   ]
  },
  {
   "cell_type": "markdown",
   "id": "cc09c2dd",
   "metadata": {},
   "source": [
    "Feature Engineering"
   ]
  },
  {
   "cell_type": "code",
   "execution_count": 49,
   "id": "65058ff1",
   "metadata": {},
   "outputs": [],
   "source": [
    "# 1. Количество дополнительных услуг\n",
    "service_cols = ['OnlineSecurity', 'OnlineBackup', 'DeviceProtection', 'TechSupport', 'StreamingTV', 'StreamingMovies']\n",
    "# Считаю количество услуг со значением 'Yes'\n",
    "df['NumAdditionalServices'] = (df[service_cols] == 'Yes').sum(axis=1)"
   ]
  },
  {
   "cell_type": "code",
   "execution_count": 50,
   "id": "7adfb29f",
   "metadata": {},
   "outputs": [],
   "source": [
    "# 2. Отношение ежемесячной платы к общей\n",
    "df['ChargeRatio'] = df['MonthlyCharges'] / (df['TotalCharges'] + 1e-6)"
   ]
  },
  {
   "cell_type": "code",
   "execution_count": 51,
   "id": "f4815146",
   "metadata": {},
   "outputs": [],
   "source": [
    "# 3. Группы по сроку пользования услугами\n",
    "bins = [0, 12, 48, 100]\n",
    "labels = ['New', 'Established', 'Loyal']\n",
    "df['TenureGroup'] = pd.cut(df['tenure'], bins=bins, labels=labels, right=False)"
   ]
  },
  {
   "cell_type": "markdown",
   "id": "2249ee0e",
   "metadata": {},
   "source": [
    "Кодирование и Масштабирование"
   ]
  },
  {
   "cell_type": "code",
   "execution_count": 52,
   "id": "7753c12c",
   "metadata": {},
   "outputs": [],
   "source": [
    "# Копирую датафрейм для последующего использования в k-NN (с оригинальными значениями)\n",
    "df_orig_for_knn = df.copy()"
   ]
  },
  {
   "cell_type": "code",
   "execution_count": 53,
   "id": "dbbd9243",
   "metadata": {},
   "outputs": [],
   "source": [
    "# Бинарное кодирование для всех столбцов с двумя уникальными значениями\n",
    "# ('Churn' тоже кодируется здесь)\n",
    "for col in df.columns:\n",
    "    if df[col].dtype == 'object' and df[col].nunique() == 2:\n",
    "        df[col] = LabelEncoder().fit_transform(df[col])\n",
    "\n",
    "# One-Hot Encoding для ВСЕХ оставшихся категориальных признаков\n",
    "categorical_cols = [col for col in df.select_dtypes(include=['object', 'category']).columns]\n",
    "df = pd.get_dummies(df, columns=categorical_cols, drop_first=True)\n",
    "# Проверка, что все столбцы теперь числовые\n",
    "assert all(df.dtypes != 'object'), \"Не все столбцы числовые после кодирования!\""
   ]
  },
  {
   "cell_type": "code",
   "execution_count": 54,
   "id": "c018079e",
   "metadata": {},
   "outputs": [
    {
     "name": "stdout",
     "output_type": "stream",
     "text": [
      "\n",
      "Данные подготовлены. Обучающая выборка: (5625, 34), Тестовая выборка: (1407, 34)\n",
      "Все столбцы в X_train теперь числовые: True\n"
     ]
    }
   ],
   "source": [
    "# Разделение данных\n",
    "X = df.drop('Churn', axis=1)\n",
    "y = df['Churn']\n",
    "\n",
    "# Сохраняю исходные данные до масштабирования для k-NN\n",
    "X_orig_for_knn = df_orig_for_knn.drop('Churn', axis=1)\n",
    "X_train_orig_knn, X_test_orig_knn, _, _ = train_test_split(X_orig_for_knn, y, test_size=0.2, random_state=42, stratify=y)\n",
    "\n",
    "\n",
    "# Разделяю на обучающую и тестовую выборки со стратификацией\n",
    "X_train, X_test, y_train, y_test = train_test_split(X, y, test_size=0.2, random_state=42, stratify=y)\n",
    "\n",
    "# Масштабирование числовых признаков\n",
    "scaler = StandardScaler()\n",
    "numeric_cols_to_scale = ['tenure', 'MonthlyCharges', 'TotalCharges', 'NumAdditionalServices', 'ChargeRatio']\n",
    "X_train[numeric_cols_to_scale] = scaler.fit_transform(X_train[numeric_cols_to_scale])\n",
    "X_test[numeric_cols_to_scale] = scaler.transform(X_test[numeric_cols_to_scale])\n",
    "\n",
    "print(f\"\\nДанные подготовлены. Обучающая выборка: {X_train.shape}, Тестовая выборка: {X_test.shape}\")\n",
    "print(f\"Все столбцы в X_train теперь числовые: {all(X_train.dtypes != 'object')}\")"
   ]
  },
  {
   "cell_type": "markdown",
   "id": "e5682115",
   "metadata": {},
   "source": [
    "### 3. Обучение и выбор лучшей модели"
   ]
  },
  {
   "cell_type": "markdown",
   "id": "46c9510e",
   "metadata": {},
   "source": [
    "Обучаю несколько моделей, чтобы выбрать ту, которая лучше всего предсказывает вероятность оттока. В качестве основной метрики для сравнения использую ROC AUC, так как она хорошо работает на несбалансированных данных."
   ]
  },
  {
   "cell_type": "code",
   "execution_count": 55,
   "id": "660e3100",
   "metadata": {},
   "outputs": [
    {
     "name": "stdout",
     "output_type": "stream",
     "text": [
      "Модель: Logistic Regression, ROC AUC: 0.8405\n",
      "Модель: Random Forest, ROC AUC: 0.8150\n",
      "Модель: Gradient Boosting, ROC AUC: 0.8406\n",
      "Модель: XGBoost, ROC AUC: 0.8147\n",
      "Модель: LightGBM, ROC AUC: 0.8307\n",
      "Модель: CatBoost, ROC AUC: 0.8304\n"
     ]
    }
   ],
   "source": [
    "# Обучение базовых моделей\n",
    "models = {\n",
    "    \"Logistic Regression\": LogisticRegression(random_state=42, class_weight='balanced'),\n",
    "    \"Random Forest\": RandomForestClassifier(random_state=42, class_weight='balanced'),\n",
    "    \"Gradient Boosting\": GradientBoostingClassifier(random_state=42),\n",
    "    \"XGBoost\": xgb.XGBClassifier(random_state=42, use_label_encoder=False, eval_metric='logloss'),\n",
    "    \"LightGBM\": lgb.LGBMClassifier(random_state=42, class_weight='balanced', verbose=-1),\n",
    "    \"CatBoost\": cb.CatBoostClassifier(random_state=42, verbose=0, auto_class_weights='Balanced')\n",
    "}\n",
    "\n",
    "results = {}\n",
    "for name, model in models.items():\n",
    "    model.fit(X_train, y_train)\n",
    "    y_pred_proba = model.predict_proba(X_test)[:, 1]\n",
    "    roc_auc = roc_auc_score(y_test, y_pred_proba)\n",
    "    results[name] = roc_auc\n",
    "    print(f\"Модель: {name}, ROC AUC: {roc_auc:.4f}\")"
   ]
  },
  {
   "cell_type": "code",
   "execution_count": 56,
   "id": "3bde026a",
   "metadata": {},
   "outputs": [
    {
     "name": "stdout",
     "output_type": "stream",
     "text": [
      "Обучение MLP...\n",
      "Модель: MLP (Keras), ROC AUC: 0.7937\n"
     ]
    }
   ],
   "source": [
    "# DL\n",
    "# MLP\n",
    "print(\"Обучение MLP...\")\n",
    "mlp_model = Sequential([\n",
    "    Dense(128, activation='relu', input_shape=(X_train.shape[1],)),\n",
    "    BatchNormalization(),\n",
    "    Dropout(0.5),\n",
    "    Dense(64, activation='relu'),\n",
    "    BatchNormalization(),\n",
    "    Dropout(0.3),\n",
    "    Dense(1, activation='sigmoid')\n",
    "])\n",
    "\n",
    "mlp_model.compile(optimizer='adam', loss='binary_crossentropy', metrics=['AUC'])\n",
    "\n",
    "early_stopping = EarlyStopping(monitor='val_auc', patience=15, restore_best_weights=True, mode='max')\n",
    "\n",
    "mlp_model.fit(\n",
    "    X_train, y_train,\n",
    "    validation_data=(X_test, y_test),\n",
    "    epochs=150,\n",
    "    callbacks=[early_stopping],\n",
    "    verbose=0\n",
    ")\n",
    "\n",
    "y_pred_proba_mlp = mlp_model.predict(X_test, verbose=0).ravel()\n",
    "roc_auc_mlp = roc_auc_score(y_test, y_pred_proba_mlp)\n",
    "results['MLP (Keras)'] = roc_auc_mlp\n",
    "print(f\"Модель: MLP (Keras), ROC AUC: {roc_auc_mlp:.4f}\")"
   ]
  },
  {
   "cell_type": "code",
   "execution_count": 57,
   "id": "c95d1a95",
   "metadata": {},
   "outputs": [
    {
     "name": "stdout",
     "output_type": "stream",
     "text": [
      "Обучение TabNet...\n",
      "\n",
      "Early stopping occurred at epoch 48 with best_epoch = 33 and best_val_0_auc = 0.82731\n",
      "Модель: TabNet, ROC AUC: 0.8273\n"
     ]
    }
   ],
   "source": [
    "# TabNet\n",
    "print(\"Обучение TabNet...\")\n",
    "# Преобразую данные в numpy array с типом float32\n",
    "X_train_np = X_train.astype('float32').values\n",
    "y_train_np = y_train.values\n",
    "X_test_np = X_test.astype('float32').values\n",
    "y_test_np = y_test.values\n",
    "\n",
    "tabnet_model = TabNetClassifier(\n",
    "    optimizer_fn=torch.optim.Adam,\n",
    "    optimizer_params=dict(lr=2e-2),\n",
    "    scheduler_params={\"step_size\":10, \"gamma\":0.9},\n",
    "    scheduler_fn=torch.optim.lr_scheduler.StepLR,\n",
    "    mask_type='sparsemax',\n",
    "    verbose=0\n",
    ")\n",
    "\n",
    "tabnet_model.fit(\n",
    "    X_train=X_train_np, y_train=y_train_np,\n",
    "    eval_set=[(X_test_np, y_test_np)],\n",
    "    patience=15,\n",
    "    max_epochs=150,\n",
    "    eval_metric=['auc'],\n",
    "    batch_size=1024,\n",
    "    callbacks=[]\n",
    ")\n",
    "\n",
    "# Оценка TabNet\n",
    "y_pred_proba_tabnet = tabnet_model.predict_proba(X_test_np)[:, 1]\n",
    "roc_auc_tabnet = roc_auc_score(y_test, y_pred_proba_tabnet)\n",
    "results['TabNet'] = roc_auc_tabnet\n",
    "print(f\"Модель: TabNet, ROC AUC: {roc_auc_tabnet:.4f}\")"
   ]
  },
  {
   "cell_type": "code",
   "execution_count": 58,
   "id": "d301ae93",
   "metadata": {},
   "outputs": [
    {
     "name": "stdout",
     "output_type": "stream",
     "text": [
      "\n",
      "Итоги по всем моделям\n",
      "Модель: Gradient Boosting    | ROC AUC: 0.8406\n",
      "Модель: Logistic Regression  | ROC AUC: 0.8405\n",
      "Модель: LightGBM             | ROC AUC: 0.8307\n",
      "Модель: CatBoost             | ROC AUC: 0.8304\n",
      "Модель: TabNet               | ROC AUC: 0.8273\n",
      "Модель: Random Forest        | ROC AUC: 0.8150\n",
      "Модель: XGBoost              | ROC AUC: 0.8147\n",
      "Модель: MLP (Keras)          | ROC AUC: 0.7937\n",
      "\n",
      "Лучшая модель: Gradient Boosting с ROC AUC = 0.8406\n"
     ]
    }
   ],
   "source": [
    "# Итоговое сравнение всех моделей\n",
    "print(\"\\nИтоги по всем моделям\")\n",
    "sorted_results = sorted(results.items(), key=lambda item: item[1], reverse=True)\n",
    "\n",
    "for model_name, score in sorted_results:\n",
    "    print(f\"Модель: {model_name:<20} | ROC AUC: {score:.4f}\")\n",
    "\n",
    "best_model_name = sorted_results[0][0]\n",
    "print(f\"\\nЛучшая модель: {best_model_name} с ROC AUC = {sorted_results[0][1]:.4f}\")"
   ]
  },
  {
   "cell_type": "code",
   "execution_count": 59,
   "id": "579804c4",
   "metadata": {},
   "outputs": [],
   "source": [
    "# Отключаю детальное логирование Optuna\n",
    "optuna.logging.set_verbosity(optuna.logging.WARNING)\n",
    "\n",
    "# ---------------------------------------------------------------------------\n",
    "# 1. Objective-функции для моделей Scikit-learn\n",
    "# ---------------------------------------------------------------------------\n",
    "\n",
    "def objective_factory(model_class, trial_params_func):\n",
    "    \"\"\"objective-функции для scikit-learn-моделей.\"\"\"\n",
    "    def objective(trial):\n",
    "        params = trial_params_func(trial)\n",
    "        \n",
    "        # Общие параметры для всех моделей\n",
    "        params['random_state'] = 42\n",
    "        if 'class_weight' in model_class().get_params():\n",
    "            params['class_weight'] = 'balanced'\n",
    "        if 'eval_metric' in model_class().get_params():\n",
    "            params['eval_metric'] = 'logloss'\n",
    "        if 'use_label_encoder' in model_class().get_params():\n",
    "            params['use_label_encoder'] = False\n",
    "        if 'verbose' in model_class().get_params():\n",
    "            params['verbose'] = 0\n",
    "        if 'auto_class_weights' in model_class().get_params():\n",
    "            params['auto_class_weights'] = 'Balanced'\n",
    "\n",
    "        model = model_class(**params)\n",
    "        model.fit(X_train, y_train)\n",
    "        y_pred_proba = model.predict_proba(X_test)[:, 1]\n",
    "        return roc_auc_score(y_test, y_pred_proba)\n",
    "    return objective\n",
    "\n",
    "# Функции для подбора гиперпараметров\n",
    "def lr_params(trial):\n",
    "    return {\n",
    "        'C': trial.suggest_float('C', 1e-4, 1e2, log=True),\n",
    "        'solver': trial.suggest_categorical('solver', ['liblinear', 'saga']),\n",
    "        'penalty': trial.suggest_categorical('penalty', ['l1', 'l2']),\n",
    "        'max_iter': 1500\n",
    "    }\n",
    "\n",
    "def rf_params(trial):\n",
    "    return {\n",
    "        'n_estimators': trial.suggest_int('n_estimators', 100, 1000),\n",
    "        'max_depth': trial.suggest_int('max_depth', 5, 30),\n",
    "        'min_samples_split': trial.suggest_int('min_samples_split', 2, 20),\n",
    "        'min_samples_leaf': trial.suggest_int('min_samples_leaf', 1, 20),\n",
    "    }\n",
    "\n",
    "def gb_params(trial):\n",
    "    return {\n",
    "        'n_estimators': trial.suggest_int('n_estimators', 100, 1000),\n",
    "        'learning_rate': trial.suggest_float('learning_rate', 0.01, 0.2),\n",
    "        'max_depth': trial.suggest_int('max_depth', 3, 10),\n",
    "        'subsample': trial.suggest_float('subsample', 0.6, 1.0),\n",
    "    }\n",
    "\n",
    "def xgb_params(trial):\n",
    "    return {\n",
    "        'n_estimators': trial.suggest_int('n_estimators', 100, 1000),\n",
    "        'learning_rate': trial.suggest_float('learning_rate', 0.01, 0.2),\n",
    "        'max_depth': trial.suggest_int('max_depth', 3, 10),\n",
    "        'subsample': trial.suggest_float('subsample', 0.6, 1.0),\n",
    "        'colsample_bytree': trial.suggest_float('colsample_bytree', 0.6, 1.0),\n",
    "    }\n",
    "\n",
    "def lgbm_params(trial):\n",
    "    return {\n",
    "        'n_estimators': trial.suggest_int('n_estimators', 200, 1200),\n",
    "        'learning_rate': trial.suggest_float('learning_rate', 0.01, 0.15),\n",
    "        'num_leaves': trial.suggest_int('num_leaves', 20, 150),\n",
    "        'max_depth': trial.suggest_int('max_depth', 3, 10),\n",
    "        'min_child_samples': trial.suggest_int('min_child_samples', 5, 100),\n",
    "        'verbose': -1,\n",
    "    }\n",
    "\n",
    "def cat_params(trial):\n",
    "    return {\n",
    "        'iterations': trial.suggest_int('iterations', 200, 1200),\n",
    "        'learning_rate': trial.suggest_float('learning_rate', 0.01, 0.15),\n",
    "        'depth': trial.suggest_int('depth', 3, 10),\n",
    "        'l2_leaf_reg': trial.suggest_float('l2_leaf_reg', 1e-8, 10.0, log=True),\n",
    "        'verbose': 0,\n",
    "    }\n",
    "\n",
    "# ---------------------------------------------------------------------------\n",
    "# 2. Objective-функции для MLP и TabNet\n",
    "# ---------------------------------------------------------------------------\n",
    "\n",
    "def objective_mlp(trial):\n",
    "    \"\"\"Objective-функция для подбора гиперпараметров MLP (Keras).\"\"\"\n",
    "    n_layers = trial.suggest_int('n_layers', 1, 3)\n",
    "    learning_rate = trial.suggest_float('learning_rate', 1e-4, 1e-2, log=True)\n",
    "    \n",
    "    model = Sequential()\n",
    "    model.add(Dense(\n",
    "        trial.suggest_int('units_layer_0', 32, 256),\n",
    "        input_dim=X_train.shape[1],\n",
    "        activation='relu'\n",
    "    ))\n",
    "    model.add(BatchNormalization())\n",
    "    model.add(Dropout(trial.suggest_float('dropout_0', 0.2, 0.5)))\n",
    "    \n",
    "    for i in range(1, n_layers):\n",
    "        model.add(Dense(\n",
    "            trial.suggest_int(f'units_layer_{i}', 16, 128),\n",
    "            activation='relu'\n",
    "        ))\n",
    "        model.add(BatchNormalization())\n",
    "        model.add(Dropout(trial.suggest_float(f'dropout_{i}', 0.2, 0.5)))\n",
    "        \n",
    "    model.add(Dense(1, activation='sigmoid'))\n",
    "\n",
    "    # Компиляция модели\n",
    "    model.compile(optimizer=Adam(learning_rate=learning_rate), \n",
    "                  loss='binary_crossentropy', \n",
    "                  metrics=['AUC'])\n",
    "    \n",
    "    early_stopping = EarlyStopping(monitor='val_auc', patience=15, restore_best_weights=True, mode='max')\n",
    "    model.fit(\n",
    "        X_train, y_train,\n",
    "        validation_data=(X_test, y_test),\n",
    "        epochs=150,\n",
    "        callbacks=[early_stopping],\n",
    "        verbose=0,\n",
    "        batch_size=trial.suggest_int('batch_size', 32, 256)\n",
    "    )\n",
    "\n",
    "    y_pred_proba = model.predict(X_test, verbose=0).ravel()\n",
    "    return roc_auc_score(y_test, y_pred_proba)\n",
    "\n",
    "def objective_tabnet(trial):\n",
    "    \"\"\"Objective-функция для подбора гиперпараметров TabNet.\"\"\"\n",
    "    params = {\n",
    "        'n_d': trial.suggest_int('n_d', 8, 32),\n",
    "        'n_a': trial.suggest_int('n_a', 8, 32),\n",
    "        'n_steps': trial.suggest_int('n_steps', 3, 10),\n",
    "        'gamma': trial.suggest_float('gamma', 1.0, 2.0),\n",
    "        'lambda_sparse': trial.suggest_float('lambda_sparse', 1e-6, 1e-3, log=True),\n",
    "        'optimizer_fn': torch.optim.Adam,\n",
    "        'optimizer_params': dict(lr=trial.suggest_float('lr', 1e-3, 3e-2, log=True)),\n",
    "        'mask_type': trial.suggest_categorical('mask_type', ['sparsemax', 'entmax']),\n",
    "        'scheduler_params': {\"step_size\":10, \"gamma\":0.9},\n",
    "        'scheduler_fn': torch.optim.lr_scheduler.StepLR,\n",
    "        'verbose': 0\n",
    "    }\n",
    "    \n",
    "    model = TabNetClassifier(**params)\n",
    "    \n",
    "    X_train_np = X_train.astype('float32').values\n",
    "    y_train_np = y_train.values\n",
    "    X_test_np = X_test.astype('float32').values\n",
    "    y_test_np = y_test.values\n",
    "\n",
    "    model.fit(\n",
    "        X_train=X_train_np, y_train=y_train_np,\n",
    "        eval_set=[(X_test_np, y_test_np)],\n",
    "        patience=15,\n",
    "        max_epochs=150,\n",
    "        eval_metric=['auc'],\n",
    "        callbacks=[],\n",
    "    )\n",
    "\n",
    "    y_pred_proba = model.predict_proba(X_test_np)[:, 1]\n",
    "    return roc_auc_score(y_test, y_pred_proba)"
   ]
  },
  {
   "cell_type": "code",
   "execution_count": 60,
   "id": "522901df",
   "metadata": {},
   "outputs": [
    {
     "name": "stdout",
     "output_type": "stream",
     "text": [
      "Оптимизация Scikit-learn моделей\n",
      "Подбор параметров для: Logistic Regression...\n"
     ]
    },
    {
     "data": {
      "application/vnd.jupyter.widget-view+json": {
       "model_id": "b227f5ca0b2340228b9d43f85d37f013",
       "version_major": 2,
       "version_minor": 0
      },
      "text/plain": [
       "  0%|          | 0/50 [00:00<?, ?it/s]"
      ]
     },
     "metadata": {},
     "output_type": "display_data"
    },
    {
     "name": "stdout",
     "output_type": "stream",
     "text": [
      "Лучший ROC AUC для Logistic Regression: 0.8428\n",
      "\n",
      "Подбор параметров для: Random Forest...\n"
     ]
    },
    {
     "data": {
      "application/vnd.jupyter.widget-view+json": {
       "model_id": "061b2cd4bf51466c8757d79d604f8c38",
       "version_major": 2,
       "version_minor": 0
      },
      "text/plain": [
       "  0%|          | 0/50 [00:00<?, ?it/s]"
      ]
     },
     "metadata": {},
     "output_type": "display_data"
    },
    {
     "name": "stdout",
     "output_type": "stream",
     "text": [
      "Лучший ROC AUC для Random Forest: 0.8420\n",
      "\n",
      "Подбор параметров для: Gradient Boosting...\n"
     ]
    },
    {
     "data": {
      "application/vnd.jupyter.widget-view+json": {
       "model_id": "0d120f05c45b46a8b0015905799a2a43",
       "version_major": 2,
       "version_minor": 0
      },
      "text/plain": [
       "  0%|          | 0/50 [00:00<?, ?it/s]"
      ]
     },
     "metadata": {},
     "output_type": "display_data"
    },
    {
     "name": "stdout",
     "output_type": "stream",
     "text": [
      "Лучший ROC AUC для Gradient Boosting: 0.8421\n",
      "\n",
      "Подбор параметров для: XGBoost...\n"
     ]
    },
    {
     "data": {
      "application/vnd.jupyter.widget-view+json": {
       "model_id": "4657b895095e4455850a4d9c68358208",
       "version_major": 2,
       "version_minor": 0
      },
      "text/plain": [
       "  0%|          | 0/50 [00:00<?, ?it/s]"
      ]
     },
     "metadata": {},
     "output_type": "display_data"
    },
    {
     "name": "stdout",
     "output_type": "stream",
     "text": [
      "Лучший ROC AUC для XGBoost: 0.8428\n",
      "\n",
      "Подбор параметров для: LightGBM...\n"
     ]
    },
    {
     "data": {
      "application/vnd.jupyter.widget-view+json": {
       "model_id": "379a36b2e3f64f10930bcc06dcd7dd02",
       "version_major": 2,
       "version_minor": 0
      },
      "text/plain": [
       "  0%|          | 0/50 [00:00<?, ?it/s]"
      ]
     },
     "metadata": {},
     "output_type": "display_data"
    },
    {
     "name": "stdout",
     "output_type": "stream",
     "text": [
      "Лучший ROC AUC для LightGBM: 0.8425\n",
      "\n",
      "Подбор параметров для: CatBoost...\n"
     ]
    },
    {
     "data": {
      "application/vnd.jupyter.widget-view+json": {
       "model_id": "62dcc0877e79457ca412089ac646c06c",
       "version_major": 2,
       "version_minor": 0
      },
      "text/plain": [
       "  0%|          | 0/50 [00:00<?, ?it/s]"
      ]
     },
     "metadata": {},
     "output_type": "display_data"
    },
    {
     "name": "stdout",
     "output_type": "stream",
     "text": [
      "Лучший ROC AUC для CatBoost: 0.8427\n",
      "\n",
      "\n",
      "Оптимизация MLP (Keras)\n"
     ]
    },
    {
     "data": {
      "application/vnd.jupyter.widget-view+json": {
       "model_id": "04fccf1b082d49c498400e86e1f5df87",
       "version_major": 2,
       "version_minor": 0
      },
      "text/plain": [
       "  0%|          | 0/50 [00:00<?, ?it/s]"
      ]
     },
     "metadata": {},
     "output_type": "display_data"
    },
    {
     "name": "stdout",
     "output_type": "stream",
     "text": [
      "Лучший ROC AUC для MLP: 0.8413\n",
      "\n",
      "\n",
      "Оптимизация TabNet\n"
     ]
    },
    {
     "data": {
      "application/vnd.jupyter.widget-view+json": {
       "model_id": "1d663c76017d4fb4b2be1971eba8ab8d",
       "version_major": 2,
       "version_minor": 0
      },
      "text/plain": [
       "  0%|          | 0/50 [00:00<?, ?it/s]"
      ]
     },
     "metadata": {},
     "output_type": "display_data"
    },
    {
     "name": "stdout",
     "output_type": "stream",
     "text": [
      "\n",
      "Early stopping occurred at epoch 119 with best_epoch = 104 and best_val_0_auc = 0.7972\n",
      "\n",
      "Early stopping occurred at epoch 55 with best_epoch = 40 and best_val_0_auc = 0.83054\n",
      "\n",
      "Early stopping occurred at epoch 55 with best_epoch = 40 and best_val_0_auc = 0.81089\n",
      "\n",
      "Early stopping occurred at epoch 31 with best_epoch = 16 and best_val_0_auc = 0.8006\n",
      "\n",
      "Early stopping occurred at epoch 47 with best_epoch = 32 and best_val_0_auc = 0.82086\n",
      "\n",
      "Early stopping occurred at epoch 30 with best_epoch = 15 and best_val_0_auc = 0.83441\n",
      "\n",
      "Early stopping occurred at epoch 24 with best_epoch = 9 and best_val_0_auc = 0.80574\n",
      "\n",
      "Early stopping occurred at epoch 36 with best_epoch = 21 and best_val_0_auc = 0.82766\n",
      "\n",
      "Early stopping occurred at epoch 27 with best_epoch = 12 and best_val_0_auc = 0.82921\n",
      "\n",
      "Early stopping occurred at epoch 78 with best_epoch = 63 and best_val_0_auc = 0.81943\n",
      "\n",
      "Early stopping occurred at epoch 71 with best_epoch = 56 and best_val_0_auc = 0.82599\n",
      "\n",
      "Early stopping occurred at epoch 43 with best_epoch = 28 and best_val_0_auc = 0.83183\n",
      "\n",
      "Early stopping occurred at epoch 26 with best_epoch = 11 and best_val_0_auc = 0.83759\n",
      "\n",
      "Early stopping occurred at epoch 42 with best_epoch = 27 and best_val_0_auc = 0.82743\n",
      "\n",
      "Early stopping occurred at epoch 54 with best_epoch = 39 and best_val_0_auc = 0.83275\n",
      "\n",
      "Early stopping occurred at epoch 51 with best_epoch = 36 and best_val_0_auc = 0.8388\n",
      "\n",
      "Early stopping occurred at epoch 43 with best_epoch = 28 and best_val_0_auc = 0.83207\n",
      "\n",
      "Early stopping occurred at epoch 41 with best_epoch = 26 and best_val_0_auc = 0.83138\n",
      "\n",
      "Early stopping occurred at epoch 38 with best_epoch = 23 and best_val_0_auc = 0.8099\n",
      "\n",
      "Early stopping occurred at epoch 82 with best_epoch = 67 and best_val_0_auc = 0.81794\n",
      "\n",
      "Early stopping occurred at epoch 56 with best_epoch = 41 and best_val_0_auc = 0.83589\n",
      "\n",
      "Early stopping occurred at epoch 34 with best_epoch = 19 and best_val_0_auc = 0.83466\n",
      "\n",
      "Early stopping occurred at epoch 52 with best_epoch = 37 and best_val_0_auc = 0.82537\n",
      "\n",
      "Early stopping occurred at epoch 38 with best_epoch = 23 and best_val_0_auc = 0.82526\n",
      "\n",
      "Early stopping occurred at epoch 26 with best_epoch = 11 and best_val_0_auc = 0.81666\n",
      "\n",
      "Early stopping occurred at epoch 30 with best_epoch = 15 and best_val_0_auc = 0.8329\n",
      "\n",
      "Early stopping occurred at epoch 46 with best_epoch = 31 and best_val_0_auc = 0.82907\n",
      "\n",
      "Early stopping occurred at epoch 42 with best_epoch = 27 and best_val_0_auc = 0.82019\n",
      "\n",
      "Early stopping occurred at epoch 93 with best_epoch = 78 and best_val_0_auc = 0.83608\n",
      "\n",
      "Early stopping occurred at epoch 53 with best_epoch = 38 and best_val_0_auc = 0.82956\n",
      "\n",
      "Early stopping occurred at epoch 59 with best_epoch = 44 and best_val_0_auc = 0.8038\n",
      "\n",
      "Early stopping occurred at epoch 84 with best_epoch = 69 and best_val_0_auc = 0.82866\n",
      "\n",
      "Early stopping occurred at epoch 46 with best_epoch = 31 and best_val_0_auc = 0.82276\n",
      "\n",
      "Early stopping occurred at epoch 75 with best_epoch = 60 and best_val_0_auc = 0.82939\n",
      "\n",
      "Early stopping occurred at epoch 61 with best_epoch = 46 and best_val_0_auc = 0.82291\n",
      "\n",
      "Early stopping occurred at epoch 42 with best_epoch = 27 and best_val_0_auc = 0.83427\n",
      "\n",
      "Early stopping occurred at epoch 70 with best_epoch = 55 and best_val_0_auc = 0.8249\n",
      "\n",
      "Early stopping occurred at epoch 25 with best_epoch = 10 and best_val_0_auc = 0.80956\n",
      "\n",
      "Early stopping occurred at epoch 63 with best_epoch = 48 and best_val_0_auc = 0.83977\n",
      "\n",
      "Early stopping occurred at epoch 29 with best_epoch = 14 and best_val_0_auc = 0.80887\n",
      "\n",
      "Early stopping occurred at epoch 41 with best_epoch = 26 and best_val_0_auc = 0.84041\n",
      "\n",
      "Early stopping occurred at epoch 33 with best_epoch = 18 and best_val_0_auc = 0.83897\n",
      "\n",
      "Early stopping occurred at epoch 41 with best_epoch = 26 and best_val_0_auc = 0.8386\n",
      "\n",
      "Early stopping occurred at epoch 57 with best_epoch = 42 and best_val_0_auc = 0.83686\n",
      "\n",
      "Early stopping occurred at epoch 38 with best_epoch = 23 and best_val_0_auc = 0.83856\n",
      "\n",
      "Early stopping occurred at epoch 41 with best_epoch = 26 and best_val_0_auc = 0.83448\n",
      "\n",
      "Early stopping occurred at epoch 33 with best_epoch = 18 and best_val_0_auc = 0.83271\n",
      "\n",
      "Early stopping occurred at epoch 34 with best_epoch = 19 and best_val_0_auc = 0.82946\n",
      "\n",
      "Early stopping occurred at epoch 31 with best_epoch = 16 and best_val_0_auc = 0.79717\n",
      "\n",
      "Early stopping occurred at epoch 71 with best_epoch = 56 and best_val_0_auc = 0.81971\n",
      "Лучший ROC AUC для TabNet: 0.8404\n",
      "\n"
     ]
    }
   ],
   "source": [
    "# 3. Запуск процесса оптимизации\n",
    "\n",
    "# Словарь моделей в стиле Scikit-learn\n",
    "sklearn_models = {\n",
    "    \"Logistic Regression\": (LogisticRegression, lr_params),\n",
    "    \"Random Forest\": (RandomForestClassifier, rf_params),\n",
    "    \"Gradient Boosting\": (GradientBoostingClassifier, gb_params),\n",
    "    \"XGBoost\": (xgb.XGBClassifier, xgb_params),\n",
    "    \"LightGBM\": (lgb.LGBMClassifier, lgbm_params),\n",
    "    \"CatBoost\": (cb.CatBoostClassifier, cat_params),\n",
    "}\n",
    "\n",
    "optimized_results = {}\n",
    "N_TRIALS = 50 # 50 итераций\n",
    "\n",
    "# Цикл для Scikit-learn моделей\n",
    "print(\"Оптимизация Scikit-learn моделей\")\n",
    "for model_name, (model_class, params_func) in sklearn_models.items():\n",
    "    print(f\"Подбор параметров для: {model_name}...\")\n",
    "    study = optuna.create_study(direction='maximize')\n",
    "    objective = objective_factory(model_class, params_func)\n",
    "    # progress bar\n",
    "    study.optimize(objective, n_trials=N_TRIALS, show_progress_bar=True)\n",
    "    \n",
    "    optimized_results[model_name] = {\n",
    "        'best_score': study.best_value,\n",
    "        'best_params': study.best_params\n",
    "    }\n",
    "    print(f\"Лучший ROC AUC для {model_name}: {study.best_value:.4f}\\n\")\n",
    "\n",
    "# Оптимизация для MLP\n",
    "print(\"\\nОптимизация MLP (Keras)\")\n",
    "study_mlp = optuna.create_study(direction='maximize')\n",
    "# progress bar\n",
    "study_mlp.optimize(objective_mlp, n_trials=N_TRIALS, show_progress_bar=True)\n",
    "\n",
    "optimized_results['MLP (Keras)'] = {\n",
    "    'best_score': study_mlp.best_value,\n",
    "    'best_params': study_mlp.best_params\n",
    "}\n",
    "print(f\"Лучший ROC AUC для MLP: {study_mlp.best_value:.4f}\\n\")\n",
    "\n",
    "\n",
    "# Оптимизация для TabNet\n",
    "print(\"\\nОптимизация TabNet\")\n",
    "study_tabnet = optuna.create_study(direction='maximize')\n",
    "# progress bar\n",
    "study_tabnet.optimize(objective_tabnet, n_trials=N_TRIALS, show_progress_bar=True)\n",
    "\n",
    "optimized_results['TabNet'] = {\n",
    "    'best_score': study_tabnet.best_value,\n",
    "    'best_params': study_tabnet.best_params\n",
    "}\n",
    "print(f\"Лучший ROC AUC для TabNet: {study_tabnet.best_value:.4f}\\n\")"
   ]
  },
  {
   "cell_type": "code",
   "execution_count": 61,
   "id": "f83f1fff",
   "metadata": {},
   "outputs": [
    {
     "name": "stdout",
     "output_type": "stream",
     "text": [
      "Итоги оптимизации гиперпараметров\n",
      "Модель: Logistic Regression\n",
      "Лучший ROC AUC: 0.8428\n",
      "Модель: Random Forest\n",
      "Лучший ROC AUC: 0.8420\n",
      "Модель: Gradient Boosting\n",
      "Лучший ROC AUC: 0.8421\n",
      "Модель: XGBoost\n",
      "Лучший ROC AUC: 0.8428\n",
      "Модель: LightGBM\n",
      "Лучший ROC AUC: 0.8425\n",
      "Модель: CatBoost\n",
      "Лучший ROC AUC: 0.8427\n",
      "Модель: MLP (Keras)\n",
      "Лучший ROC AUC: 0.8413\n",
      "Модель: TabNet\n",
      "Лучший ROC AUC: 0.8404\n"
     ]
    }
   ],
   "source": [
    "# Вывод итоговых результатов\n",
    "print(\"Итоги оптимизации гиперпараметров\")\n",
    "for model_name, result in optimized_results.items():\n",
    "    print(f\"Модель: {model_name}\")\n",
    "    print(f\"Лучший ROC AUC: {result['best_score']:.4f}\")"
   ]
  },
  {
   "cell_type": "markdown",
   "id": "17a34357",
   "metadata": {},
   "source": [
    "### 4. Определение оптимальной бизнес-стратегии"
   ]
  },
  {
   "cell_type": "markdown",
   "id": "a406d4f6",
   "metadata": {},
   "source": [
    "Это ключевой этап, на котором мы определяем, на какую долю клиентов из группы риска нужно воздействовать, чтобы получить максимальную экономическую выгоду. Слишком агрессивная кампания (например, предложение скидок всем, у кого вероятность оттока выше 20%) может привести к убыткам, так как затраты превысят доход от удержанных клиентов.\n",
    "\n",
    "Рассчитаем чистую прибыль для каждого возможного порога вероятности и найдем тот, который её максимизирует."
   ]
  },
  {
   "cell_type": "code",
   "execution_count": 62,
   "id": "f7a383e9",
   "metadata": {},
   "outputs": [
    {
     "name": "stdout",
     "output_type": "stream",
     "text": [
      "Лучшая модель по итогам оптимизации: Logistic Regression\n",
      "Лучший ROC AUC: 0.8428\n",
      "Оптимальные параметры: {'C': 0.05659763846861755, 'solver': 'saga', 'penalty': 'l1'}\n"
     ]
    }
   ],
   "source": [
    "# Определение лучшей модели из результатов Optuna\n",
    "\n",
    "# Нахожу модель с максимальным 'best_score'\n",
    "best_model_name = max(optimized_results, key=lambda model: optimized_results[model]['best_score'])\n",
    "best_model_info = optimized_results[best_model_name]\n",
    "best_params = best_model_info['best_params']\n",
    "\n",
    "print(f\"Лучшая модель по итогам оптимизации: {best_model_name}\")\n",
    "print(f\"Лучший ROC AUC: {best_model_info['best_score']:.4f}\")\n",
    "print(f\"Оптимальные параметры: {best_params}\")"
   ]
  },
  {
   "cell_type": "code",
   "execution_count": 63,
   "id": "115d3578",
   "metadata": {},
   "outputs": [
    {
     "name": "stdout",
     "output_type": "stream",
     "text": [
      "Лучшая модель Logistic Regression обучена и готова к использованию.\n"
     ]
    }
   ],
   "source": [
    "# Создание и обучение лучшей модели с оптимальными параметрами\n",
    "\n",
    "# Словарь для сопоставления имени и класса модели\n",
    "model_classes = {\n",
    "    \"Logistic Regression\": LogisticRegression,\n",
    "    \"Random Forest\": RandomForestClassifier,\n",
    "    \"Gradient Boosting\": GradientBoostingClassifier,\n",
    "    \"XGBoost\": xgb.XGBClassifier,\n",
    "    \"LightGBM\": lgb.LGBMClassifier,\n",
    "    \"CatBoost\": cb.CatBoostClassifier,\n",
    "}\n",
    "\n",
    "# Обучаю модель-победитель\n",
    "if best_model_name == \"MLP (Keras)\":\n",
    "    # Пересобираю и обучаю лучшую MLP модель\n",
    "    \n",
    "    n_layers = best_params.get('n_layers', 1)\n",
    "    \n",
    "    best_model = Sequential()\n",
    "    best_model.add(Dense(best_params['units_layer_0'], input_dim=X_train.shape[1], activation='relu'))\n",
    "    best_model.add(BatchNormalization())\n",
    "    best_model.add(Dropout(best_params['dropout_0']))\n",
    "    \n",
    "    for i in range(1, n_layers):\n",
    "        best_model.add(Dense(best_params[f'units_layer_{i}'], activation='relu'))\n",
    "        best_model.add(BatchNormalization())\n",
    "        best_model.add(Dropout(best_params[f'dropout_{i}']))\n",
    "        \n",
    "    best_model.add(Dense(1, activation='sigmoid'))\n",
    "    \n",
    "    best_model.compile(optimizer=Adam(learning_rate=best_params['learning_rate']),\n",
    "                       loss='binary_crossentropy', metrics=['AUC'])\n",
    "    \n",
    "    early_stopping = EarlyStopping(monitor='val_auc', patience=15, restore_best_weights=True, mode='max')\n",
    "    best_model.fit(X_train, y_train, validation_data=(X_test, y_test),\n",
    "                   epochs=150, callbacks=[early_stopping], verbose=0, batch_size=best_params['batch_size'])\n",
    "\n",
    "elif best_model_name == \"TabNet\":\n",
    "    # Пересобираем и обучаем лучшую TabNet модель\n",
    "    tabnet_params = best_params.copy()\n",
    "    tabnet_params.update({\n",
    "        'optimizer_fn': torch.optim.Adam,\n",
    "        'scheduler_params': {\"step_size\": 10, \"gamma\": 0.9},\n",
    "        'scheduler_fn': torch.optim.lr_scheduler.StepLR\n",
    "    })\n",
    "    best_model = TabNetClassifier(**tabnet_params)\n",
    "    \n",
    "    X_train_np = X_train.astype('float32').values\n",
    "    y_train_np = y_train.values\n",
    "    X_test_np = X_test.astype('float32').values\n",
    "    y_test_np = y_test.values\n",
    "    \n",
    "    best_model.fit(X_train=X_train_np, y_train=y_train_np,\n",
    "                   eval_set=[(X_test_np, y_test_np)],\n",
    "                   patience=15, max_epochs=150, eval_metric=['auc'], verbose=0)\n",
    "\n",
    "else:\n",
    "    # Обучаю лучшую модель из scikit-learn-совместимых\n",
    "    model_class = model_classes[best_model_name]\n",
    "    best_params['random_state'] = 42\n",
    "\n",
    "    # Обработка CatBoost\n",
    "    if best_model_name == \"CatBoost\":\n",
    "        # Убираю конфликтующие параметры\n",
    "        conflict_keys = ['verbose', 'logging_level', 'verbose_eval', 'silent']\n",
    "        for key in conflict_keys:\n",
    "            if key in best_params:\n",
    "                del best_params[key]\n",
    "        # Задаю единственный параметр вывода\n",
    "        best_params['verbose'] = 0\n",
    "\n",
    "    else:\n",
    "        # Для других моделей, если есть verbose, отключаю вывод\n",
    "        if 'verbose' in model_class().get_params():\n",
    "            best_params['verbose'] = 0\n",
    "\n",
    "    best_model = model_class(**best_params)\n",
    "    best_model.fit(X_train, y_train)\n",
    "\n",
    "print(f\"Лучшая модель {best_model_name} обучена и готова к использованию.\")\n"
   ]
  },
  {
   "cell_type": "code",
   "execution_count": 64,
   "id": "acf189e4",
   "metadata": {},
   "outputs": [],
   "source": [
    "# Расчет точки максимальной прибыли\n",
    "\n",
    "# Экономические допущения\n",
    "LIFETIME_MONTHS = 12\n",
    "COST_OF_RETENTION_COEF = 2\n",
    "SUCCESS_RATE = 0.40"
   ]
  },
  {
   "cell_type": "code",
   "execution_count": 65,
   "id": "ba318978",
   "metadata": {},
   "outputs": [
    {
     "name": "stdout",
     "output_type": "stream",
     "text": [
      "Экономический анализ на основе лучшей модели\n",
      "Максимальная чистая прибыль: $29,823.08\n",
      "Достигается при пороге вероятности: 0.4189\n",
      "При этом мы охватываем (Recall): 64.97%\n",
      "И имеем точность (Precision): 61.36%\n"
     ]
    }
   ],
   "source": [
    "# Получаю вероятности оттока от лучшей модели\n",
    "# Обрабатываем TabNet отдельно, так как он требует numpy-массив\n",
    "if best_model_name == \"TabNet\":\n",
    "    y_probs = best_model.predict_proba(X_test.astype('float32').values)[:, 1]\n",
    "else:\n",
    "    y_probs = best_model.predict_proba(X_test)[:, 1]\n",
    "\n",
    "precision, recall, thresholds = precision_recall_curve(y_test, y_probs)\n",
    "thresholds = np.append(thresholds, 1.0)\n",
    "\n",
    "# DataFrame для экономического анализа\n",
    "eco_analysis_df = pd.DataFrame({'y_test': y_test}, index=y_test.index)\n",
    "eco_analysis_df['MonthlyCharges'] = X_test_orig_knn.loc[y_test.index, 'MonthlyCharges']\n",
    "eco_analysis_df['Churn_Probability'] = y_probs\n",
    "\n",
    "profits = []\n",
    "for threshold in thresholds:\n",
    "    y_pred = (y_probs >= threshold).astype(int)\n",
    "    target_customers = eco_analysis_df[y_pred == 1]\n",
    "    true_churners_targeted = target_customers[target_customers['y_test'] == 1]\n",
    "    net_profit = 0\n",
    "    if not target_customers.empty:\n",
    "        num_targeted = len(target_customers)\n",
    "        avg_monthly_charge_targeted = target_customers['MonthlyCharges'].mean()\n",
    "        total_cost = num_targeted * avg_monthly_charge_targeted * COST_OF_RETENTION_COEF\n",
    "        total_revenue = 0\n",
    "        if not true_churners_targeted.empty:\n",
    "            num_potential_retained = len(true_churners_targeted)\n",
    "            num_actually_retained = int(num_potential_retained * SUCCESS_RATE)\n",
    "            avg_monthly_charge_retained = true_churners_targeted['MonthlyCharges'].mean()\n",
    "            total_revenue = num_actually_retained * avg_monthly_charge_retained * LIFETIME_MONTHS\n",
    "        net_profit = total_revenue - total_cost\n",
    "    profits.append(net_profit)\n",
    "\n",
    "# Находим точку максимальной прибыли\n",
    "max_profit = max(profits)\n",
    "max_profit_idx = np.argmax(profits)\n",
    "optimal_threshold = thresholds[max_profit_idx]\n",
    "optimal_recall = recall[max_profit_idx]\n",
    "optimal_precision = precision[max_profit_idx]\n",
    "\n",
    "print(\"Экономический анализ на основе лучшей модели\")\n",
    "print(f\"Максимальная чистая прибыль: ${max_profit:,.2f}\")\n",
    "print(f\"Достигается при пороге вероятности: {optimal_threshold:.4f}\")\n",
    "print(f\"При этом мы охватываем (Recall): {optimal_recall:.2%}\")\n",
    "print(f\"И имеем точность (Precision): {optimal_precision:.2%}\")"
   ]
  },
  {
   "cell_type": "code",
   "execution_count": 66,
   "id": "ea4e5039",
   "metadata": {},
   "outputs": [
    {
     "data": {
      "image/png": "[encoded data removed]",
      "text/plain": [
       "<Figure size 1200x700 with 1 Axes>"
      ]
     },
     "metadata": {},
     "output_type": "display_data"
    }
   ],
   "source": [
    "# Визуализация экономической эффективности\n",
    "plt.figure(figsize=(12, 7))\n",
    "plt.plot(recall, profits, marker='.', linestyle='-', color='b')\n",
    "plt.axhline(0, color='r', linestyle='--', label='Точка безубыточности (ROI=0)')\n",
    "plt.plot(optimal_recall, max_profit, 'go', markersize=10, label=f\"Макс. прибыль: ${max_profit:,.0f} при Recall: {optimal_recall:.1%}\")\n",
    "\n",
    "plt.title('Зависимость прибыльности кампании от уровня охвата (Recall)', fontsize=16, pad=20)\n",
    "plt.xlabel('Уровень охвата (Recall)', fontsize=12)\n",
    "plt.ylabel('Чистая экономическая выгода ($)', fontsize=12)\n",
    "plt.gca().xaxis.set_major_formatter(mticker.PercentFormatter(xmax=1.0))\n",
    "plt.gca().yaxis.set_major_formatter(mticker.StrMethodFormatter('${x:,.0f}'))\n",
    "plt.legend()\n",
    "plt.grid(True)\n",
    "plt.show()"
   ]
  },
  {
   "cell_type": "markdown",
   "id": "4826295c",
   "metadata": {},
   "source": [
    "### 5. Формирование персонализированных рекомендаций (k-NN)"
   ]
  },
  {
   "cell_type": "markdown",
   "id": "56482dc5",
   "metadata": {},
   "source": [
    "Теперь, когда у нас есть экономически обоснованный порог, мы можем составить список клиентов для удержания. Для каждого из них мы найдем \"двойника\" — лояльного клиента с похожим поведением, и порекомендуем те услуги, которые есть у \"двойника\", но отсутствуют у клиента из группы риска."
   ]
  },
  {
   "cell_type": "code",
   "execution_count": 67,
   "id": "9e7b47ac",
   "metadata": {},
   "outputs": [
    {
     "data": {
      "text/html": [
       "<style>#sk-container-id-2 {\n",
       "  /* Definition of color scheme common for light and dark mode */\n",
       "  --sklearn-color-text: #000;\n",
       "  --sklearn-color-text-muted: #666;\n",
       "  --sklearn-color-line: gray;\n",
       "  /* Definition of color scheme for unfitted estimators */\n",
       "  --sklearn-color-unfitted-level-0: #fff5e6;\n",
       "  --sklearn-color-unfitted-level-1: #f6e4d2;\n",
       "  --sklearn-color-unfitted-level-2: #ffe0b3;\n",
       "  --sklearn-color-unfitted-level-3: chocolate;\n",
       "  /* Definition of color scheme for fitted estimators */\n",
       "  --sklearn-color-fitted-level-0: #f0f8ff;\n",
       "  --sklearn-color-fitted-level-1: #d4ebff;\n",
       "  --sklearn-color-fitted-level-2: #b3dbfd;\n",
       "  --sklearn-color-fitted-level-3: cornflowerblue;\n",
       "\n",
       "  /* Specific color for light theme */\n",
       "  --sklearn-color-text-on-default-background: var(--sg-text-color, var(--theme-code-foreground, var(--jp-content-font-color1, black)));\n",
       "  --sklearn-color-background: var(--sg-background-color, var(--theme-background, var(--jp-layout-color0, white)));\n",
       "  --sklearn-color-border-box: var(--sg-text-color, var(--theme-code-foreground, var(--jp-content-font-color1, black)));\n",
       "  --sklearn-color-icon: #696969;\n",
       "\n",
       "  @media (prefers-color-scheme: dark) {\n",
       "    /* Redefinition of color scheme for dark theme */\n",
       "    --sklearn-color-text-on-default-background: var(--sg-text-color, var(--theme-code-foreground, var(--jp-content-font-color1, white)));\n",
       "    --sklearn-color-background: var(--sg-background-color, var(--theme-background, var(--jp-layout-color0, #111)));\n",
       "    --sklearn-color-border-box: var(--sg-text-color, var(--theme-code-foreground, var(--jp-content-font-color1, white)));\n",
       "    --sklearn-color-icon: #878787;\n",
       "  }\n",
       "}\n",
       "\n",
       "#sk-container-id-2 {\n",
       "  color: var(--sklearn-color-text);\n",
       "}\n",
       "\n",
       "#sk-container-id-2 pre {\n",
       "  padding: 0;\n",
       "}\n",
       "\n",
       "#sk-container-id-2 input.sk-hidden--visually {\n",
       "  border: 0;\n",
       "  clip: rect(1px 1px 1px 1px);\n",
       "  clip: rect(1px, 1px, 1px, 1px);\n",
       "  height: 1px;\n",
       "  margin: -1px;\n",
       "  overflow: hidden;\n",
       "  padding: 0;\n",
       "  position: absolute;\n",
       "  width: 1px;\n",
       "}\n",
       "\n",
       "#sk-container-id-2 div.sk-dashed-wrapped {\n",
       "  border: 1px dashed var(--sklearn-color-line);\n",
       "  margin: 0 0.4em 0.5em 0.4em;\n",
       "  box-sizing: border-box;\n",
       "  padding-bottom: 0.4em;\n",
       "  background-color: var(--sklearn-color-background);\n",
       "}\n",
       "\n",
       "#sk-container-id-2 div.sk-container {\n",
       "  /* jupyter's `normalize.less` sets `[hidden] { display: none; }`\n",
       "     but bootstrap.min.css set `[hidden] { display: none !important; }`\n",
       "     so we also need the `!important` here to be able to override the\n",
       "     default hidden behavior on the sphinx rendered scikit-learn.org.\n",
       "     See: https://github.com/scikit-learn/scikit-learn/issues/21755 */\n",
       "  display: inline-block !important;\n",
       "  position: relative;\n",
       "}\n",
       "\n",
       "#sk-container-id-2 div.sk-text-repr-fallback {\n",
       "  display: none;\n",
       "}\n",
       "\n",
       "div.sk-parallel-item,\n",
       "div.sk-serial,\n",
       "div.sk-item {\n",
       "  /* draw centered vertical line to link estimators */\n",
       "  background-image: linear-gradient(var(--sklearn-color-text-on-default-background), var(--sklearn-color-text-on-default-background));\n",
       "  background-size: 2px 100%;\n",
       "  background-repeat: no-repeat;\n",
       "  background-position: center center;\n",
       "}\n",
       "\n",
       "/* Parallel-specific style estimator block */\n",
       "\n",
       "#sk-container-id-2 div.sk-parallel-item::after {\n",
       "  content: \"\";\n",
       "  width: 100%;\n",
       "  border-bottom: 2px solid var(--sklearn-color-text-on-default-background);\n",
       "  flex-grow: 1;\n",
       "}\n",
       "\n",
       "#sk-container-id-2 div.sk-parallel {\n",
       "  display: flex;\n",
       "  align-items: stretch;\n",
       "  justify-content: center;\n",
       "  background-color: var(--sklearn-color-background);\n",
       "  position: relative;\n",
       "}\n",
       "\n",
       "#sk-container-id-2 div.sk-parallel-item {\n",
       "  display: flex;\n",
       "  flex-direction: column;\n",
       "}\n",
       "\n",
       "#sk-container-id-2 div.sk-parallel-item:first-child::after {\n",
       "  align-self: flex-end;\n",
       "  width: 50%;\n",
       "}\n",
       "\n",
       "#sk-container-id-2 div.sk-parallel-item:last-child::after {\n",
       "  align-self: flex-start;\n",
       "  width: 50%;\n",
       "}\n",
       "\n",
       "#sk-container-id-2 div.sk-parallel-item:only-child::after {\n",
       "  width: 0;\n",
       "}\n",
       "\n",
       "/* Serial-specific style estimator block */\n",
       "\n",
       "#sk-container-id-2 div.sk-serial {\n",
       "  display: flex;\n",
       "  flex-direction: column;\n",
       "  align-items: center;\n",
       "  background-color: var(--sklearn-color-background);\n",
       "  padding-right: 1em;\n",
       "  padding-left: 1em;\n",
       "}\n",
       "\n",
       "\n",
       "/* Toggleable style: style used for estimator/Pipeline/ColumnTransformer box that is\n",
       "clickable and can be expanded/collapsed.\n",
       "- Pipeline and ColumnTransformer use this feature and define the default style\n",
       "- Estimators will overwrite some part of the style using the `sk-estimator` class\n",
       "*/\n",
       "\n",
       "/* Pipeline and ColumnTransformer style (default) */\n",
       "\n",
       "#sk-container-id-2 div.sk-toggleable {\n",
       "  /* Default theme specific background. It is overwritten whether we have a\n",
       "  specific estimator or a Pipeline/ColumnTransformer */\n",
       "  background-color: var(--sklearn-color-background);\n",
       "}\n",
       "\n",
       "/* Toggleable label */\n",
       "#sk-container-id-2 label.sk-toggleable__label {\n",
       "  cursor: pointer;\n",
       "  display: flex;\n",
       "  width: 100%;\n",
       "  margin-bottom: 0;\n",
       "  padding: 0.5em;\n",
       "  box-sizing: border-box;\n",
       "  text-align: center;\n",
       "  align-items: start;\n",
       "  justify-content: space-between;\n",
       "  gap: 0.5em;\n",
       "}\n",
       "\n",
       "#sk-container-id-2 label.sk-toggleable__label .caption {\n",
       "  font-size: 0.6rem;\n",
       "  font-weight: lighter;\n",
       "  color: var(--sklearn-color-text-muted);\n",
       "}\n",
       "\n",
       "#sk-container-id-2 label.sk-toggleable__label-arrow:before {\n",
       "  /* Arrow on the left of the label */\n",
       "  content: \"▸\";\n",
       "  float: left;\n",
       "  margin-right: 0.25em;\n",
       "  color: var(--sklearn-color-icon);\n",
       "}\n",
       "\n",
       "#sk-container-id-2 label.sk-toggleable__label-arrow:hover:before {\n",
       "  color: var(--sklearn-color-text);\n",
       "}\n",
       "\n",
       "/* Toggleable content - dropdown */\n",
       "\n",
       "#sk-container-id-2 div.sk-toggleable__content {\n",
       "  display: none;\n",
       "  text-align: left;\n",
       "  /* unfitted */\n",
       "  background-color: var(--sklearn-color-unfitted-level-0);\n",
       "}\n",
       "\n",
       "#sk-container-id-2 div.sk-toggleable__content.fitted {\n",
       "  /* fitted */\n",
       "  background-color: var(--sklearn-color-fitted-level-0);\n",
       "}\n",
       "\n",
       "#sk-container-id-2 div.sk-toggleable__content pre {\n",
       "  margin: 0.2em;\n",
       "  border-radius: 0.25em;\n",
       "  color: var(--sklearn-color-text);\n",
       "  /* unfitted */\n",
       "  background-color: var(--sklearn-color-unfitted-level-0);\n",
       "}\n",
       "\n",
       "#sk-container-id-2 div.sk-toggleable__content.fitted pre {\n",
       "  /* unfitted */\n",
       "  background-color: var(--sklearn-color-fitted-level-0);\n",
       "}\n",
       "\n",
       "#sk-container-id-2 input.sk-toggleable__control:checked~div.sk-toggleable__content {\n",
       "  /* Expand drop-down */\n",
       "  display: block;\n",
       "  width: 100%;\n",
       "  overflow: visible;\n",
       "}\n",
       "\n",
       "#sk-container-id-2 input.sk-toggleable__control:checked~label.sk-toggleable__label-arrow:before {\n",
       "  content: \"▾\";\n",
       "}\n",
       "\n",
       "/* Pipeline/ColumnTransformer-specific style */\n",
       "\n",
       "#sk-container-id-2 div.sk-label input.sk-toggleable__control:checked~label.sk-toggleable__label {\n",
       "  color: var(--sklearn-color-text);\n",
       "  background-color: var(--sklearn-color-unfitted-level-2);\n",
       "}\n",
       "\n",
       "#sk-container-id-2 div.sk-label.fitted input.sk-toggleable__control:checked~label.sk-toggleable__label {\n",
       "  background-color: var(--sklearn-color-fitted-level-2);\n",
       "}\n",
       "\n",
       "/* Estimator-specific style */\n",
       "\n",
       "/* Colorize estimator box */\n",
       "#sk-container-id-2 div.sk-estimator input.sk-toggleable__control:checked~label.sk-toggleable__label {\n",
       "  /* unfitted */\n",
       "  background-color: var(--sklearn-color-unfitted-level-2);\n",
       "}\n",
       "\n",
       "#sk-container-id-2 div.sk-estimator.fitted input.sk-toggleable__control:checked~label.sk-toggleable__label {\n",
       "  /* fitted */\n",
       "  background-color: var(--sklearn-color-fitted-level-2);\n",
       "}\n",
       "\n",
       "#sk-container-id-2 div.sk-label label.sk-toggleable__label,\n",
       "#sk-container-id-2 div.sk-label label {\n",
       "  /* The background is the default theme color */\n",
       "  color: var(--sklearn-color-text-on-default-background);\n",
       "}\n",
       "\n",
       "/* On hover, darken the color of the background */\n",
       "#sk-container-id-2 div.sk-label:hover label.sk-toggleable__label {\n",
       "  color: var(--sklearn-color-text);\n",
       "  background-color: var(--sklearn-color-unfitted-level-2);\n",
       "}\n",
       "\n",
       "/* Label box, darken color on hover, fitted */\n",
       "#sk-container-id-2 div.sk-label.fitted:hover label.sk-toggleable__label.fitted {\n",
       "  color: var(--sklearn-color-text);\n",
       "  background-color: var(--sklearn-color-fitted-level-2);\n",
       "}\n",
       "\n",
       "/* Estimator label */\n",
       "\n",
       "#sk-container-id-2 div.sk-label label {\n",
       "  font-family: monospace;\n",
       "  font-weight: bold;\n",
       "  display: inline-block;\n",
       "  line-height: 1.2em;\n",
       "}\n",
       "\n",
       "#sk-container-id-2 div.sk-label-container {\n",
       "  text-align: center;\n",
       "}\n",
       "\n",
       "/* Estimator-specific */\n",
       "#sk-container-id-2 div.sk-estimator {\n",
       "  font-family: monospace;\n",
       "  border: 1px dotted var(--sklearn-color-border-box);\n",
       "  border-radius: 0.25em;\n",
       "  box-sizing: border-box;\n",
       "  margin-bottom: 0.5em;\n",
       "  /* unfitted */\n",
       "  background-color: var(--sklearn-color-unfitted-level-0);\n",
       "}\n",
       "\n",
       "#sk-container-id-2 div.sk-estimator.fitted {\n",
       "  /* fitted */\n",
       "  background-color: var(--sklearn-color-fitted-level-0);\n",
       "}\n",
       "\n",
       "/* on hover */\n",
       "#sk-container-id-2 div.sk-estimator:hover {\n",
       "  /* unfitted */\n",
       "  background-color: var(--sklearn-color-unfitted-level-2);\n",
       "}\n",
       "\n",
       "#sk-container-id-2 div.sk-estimator.fitted:hover {\n",
       "  /* fitted */\n",
       "  background-color: var(--sklearn-color-fitted-level-2);\n",
       "}\n",
       "\n",
       "/* Specification for estimator info (e.g. \"i\" and \"?\") */\n",
       "\n",
       "/* Common style for \"i\" and \"?\" */\n",
       "\n",
       ".sk-estimator-doc-link,\n",
       "a:link.sk-estimator-doc-link,\n",
       "a:visited.sk-estimator-doc-link {\n",
       "  float: right;\n",
       "  font-size: smaller;\n",
       "  line-height: 1em;\n",
       "  font-family: monospace;\n",
       "  background-color: var(--sklearn-color-background);\n",
       "  border-radius: 1em;\n",
       "  height: 1em;\n",
       "  width: 1em;\n",
       "  text-decoration: none !important;\n",
       "  margin-left: 0.5em;\n",
       "  text-align: center;\n",
       "  /* unfitted */\n",
       "  border: var(--sklearn-color-unfitted-level-1) 1pt solid;\n",
       "  color: var(--sklearn-color-unfitted-level-1);\n",
       "}\n",
       "\n",
       ".sk-estimator-doc-link.fitted,\n",
       "a:link.sk-estimator-doc-link.fitted,\n",
       "a:visited.sk-estimator-doc-link.fitted {\n",
       "  /* fitted */\n",
       "  border: var(--sklearn-color-fitted-level-1) 1pt solid;\n",
       "  color: var(--sklearn-color-fitted-level-1);\n",
       "}\n",
       "\n",
       "/* On hover */\n",
       "div.sk-estimator:hover .sk-estimator-doc-link:hover,\n",
       ".sk-estimator-doc-link:hover,\n",
       "div.sk-label-container:hover .sk-estimator-doc-link:hover,\n",
       ".sk-estimator-doc-link:hover {\n",
       "  /* unfitted */\n",
       "  background-color: var(--sklearn-color-unfitted-level-3);\n",
       "  color: var(--sklearn-color-background);\n",
       "  text-decoration: none;\n",
       "}\n",
       "\n",
       "div.sk-estimator.fitted:hover .sk-estimator-doc-link.fitted:hover,\n",
       ".sk-estimator-doc-link.fitted:hover,\n",
       "div.sk-label-container:hover .sk-estimator-doc-link.fitted:hover,\n",
       ".sk-estimator-doc-link.fitted:hover {\n",
       "  /* fitted */\n",
       "  background-color: var(--sklearn-color-fitted-level-3);\n",
       "  color: var(--sklearn-color-background);\n",
       "  text-decoration: none;\n",
       "}\n",
       "\n",
       "/* Span, style for the box shown on hovering the info icon */\n",
       ".sk-estimator-doc-link span {\n",
       "  display: none;\n",
       "  z-index: 9999;\n",
       "  position: relative;\n",
       "  font-weight: normal;\n",
       "  right: .2ex;\n",
       "  padding: .5ex;\n",
       "  margin: .5ex;\n",
       "  width: min-content;\n",
       "  min-width: 20ex;\n",
       "  max-width: 50ex;\n",
       "  color: var(--sklearn-color-text);\n",
       "  box-shadow: 2pt 2pt 4pt #999;\n",
       "  /* unfitted */\n",
       "  background: var(--sklearn-color-unfitted-level-0);\n",
       "  border: .5pt solid var(--sklearn-color-unfitted-level-3);\n",
       "}\n",
       "\n",
       ".sk-estimator-doc-link.fitted span {\n",
       "  /* fitted */\n",
       "  background: var(--sklearn-color-fitted-level-0);\n",
       "  border: var(--sklearn-color-fitted-level-3);\n",
       "}\n",
       "\n",
       ".sk-estimator-doc-link:hover span {\n",
       "  display: block;\n",
       "}\n",
       "\n",
       "/* \"?\"-specific style due to the `<a>` HTML tag */\n",
       "\n",
       "#sk-container-id-2 a.estimator_doc_link {\n",
       "  float: right;\n",
       "  font-size: 1rem;\n",
       "  line-height: 1em;\n",
       "  font-family: monospace;\n",
       "  background-color: var(--sklearn-color-background);\n",
       "  border-radius: 1rem;\n",
       "  height: 1rem;\n",
       "  width: 1rem;\n",
       "  text-decoration: none;\n",
       "  /* unfitted */\n",
       "  color: var(--sklearn-color-unfitted-level-1);\n",
       "  border: var(--sklearn-color-unfitted-level-1) 1pt solid;\n",
       "}\n",
       "\n",
       "#sk-container-id-2 a.estimator_doc_link.fitted {\n",
       "  /* fitted */\n",
       "  border: var(--sklearn-color-fitted-level-1) 1pt solid;\n",
       "  color: var(--sklearn-color-fitted-level-1);\n",
       "}\n",
       "\n",
       "/* On hover */\n",
       "#sk-container-id-2 a.estimator_doc_link:hover {\n",
       "  /* unfitted */\n",
       "  background-color: var(--sklearn-color-unfitted-level-3);\n",
       "  color: var(--sklearn-color-background);\n",
       "  text-decoration: none;\n",
       "}\n",
       "\n",
       "#sk-container-id-2 a.estimator_doc_link.fitted:hover {\n",
       "  /* fitted */\n",
       "  background-color: var(--sklearn-color-fitted-level-3);\n",
       "}\n",
       "\n",
       ".estimator-table summary {\n",
       "    padding: .5rem;\n",
       "    font-family: monospace;\n",
       "    cursor: pointer;\n",
       "}\n",
       "\n",
       ".estimator-table details[open] {\n",
       "    padding-left: 0.1rem;\n",
       "    padding-right: 0.1rem;\n",
       "    padding-bottom: 0.3rem;\n",
       "}\n",
       "\n",
       ".estimator-table .parameters-table {\n",
       "    margin-left: auto !important;\n",
       "    margin-right: auto !important;\n",
       "}\n",
       "\n",
       ".estimator-table .parameters-table tr:nth-child(odd) {\n",
       "    background-color: #fff;\n",
       "}\n",
       "\n",
       ".estimator-table .parameters-table tr:nth-child(even) {\n",
       "    background-color: #f6f6f6;\n",
       "}\n",
       "\n",
       ".estimator-table .parameters-table tr:hover {\n",
       "    background-color: #e0e0e0;\n",
       "}\n",
       "\n",
       ".estimator-table table td {\n",
       "    border: 1px solid rgba(106, 105, 104, 0.232);\n",
       "}\n",
       "\n",
       ".user-set td {\n",
       "    color:rgb(255, 94, 0);\n",
       "    text-align: left;\n",
       "}\n",
       "\n",
       ".user-set td.value pre {\n",
       "    color:rgb(255, 94, 0) !important;\n",
       "    background-color: transparent !important;\n",
       "}\n",
       "\n",
       ".default td {\n",
       "    color: black;\n",
       "    text-align: left;\n",
       "}\n",
       "\n",
       ".user-set td i,\n",
       ".default td i {\n",
       "    color: black;\n",
       "}\n",
       "\n",
       ".copy-paste-icon {\n",
       "    background-image: url(data:image/svg+xml;base64,PHN2ZyB4bWxucz0iaHR0cDovL3d3dy53My5vcmcvMjAwMC9zdmciIHZpZXdCb3g9IjAgMCA0NDggNTEyIj48IS0tIUZvbnQgQXdlc29tZSBGcmVlIDYuNy4yIGJ5IEBmb250YXdlc29tZSAtIGh0dHBzOi8vZm9udGF3ZXNvbWUuY29tIExpY2Vuc2UgLSBodHRwczovL2ZvbnRhd2Vzb21lLmNvbS9saWNlbnNlL2ZyZWUgQ29weXJpZ2h0IDIwMjUgRm9udGljb25zLCBJbmMuLS0+PHBhdGggZD0iTTIwOCAwTDMzMi4xIDBjMTIuNyAwIDI0LjkgNS4xIDMzLjkgMTQuMWw2Ny45IDY3LjljOSA5IDE0LjEgMjEuMiAxNC4xIDMzLjlMNDQ4IDMzNmMwIDI2LjUtMjEuNSA0OC00OCA0OGwtMTkyIDBjLTI2LjUgMC00OC0yMS41LTQ4LTQ4bDAtMjg4YzAtMjYuNSAyMS41LTQ4IDQ4LTQ4ek00OCAxMjhsODAgMCAwIDY0LTY0IDAgMCAyNTYgMTkyIDAgMC0zMiA2NCAwIDAgNDhjMCAyNi41LTIxLjUgNDgtNDggNDhMNDggNTEyYy0yNi41IDAtNDgtMjEuNS00OC00OEwwIDE3NmMwLTI2LjUgMjEuNS00OCA0OC00OHoiLz48L3N2Zz4=);\n",
       "    background-repeat: no-repeat;\n",
       "    background-size: 14px 14px;\n",
       "    background-position: 0;\n",
       "    display: inline-block;\n",
       "    width: 14px;\n",
       "    height: 14px;\n",
       "    cursor: pointer;\n",
       "}\n",
       "</style><body><div id=\"sk-container-id-2\" class=\"sk-top-container\"><div class=\"sk-text-repr-fallback\"><pre>NearestNeighbors(n_neighbors=1)</pre><b>In a Jupyter environment, please rerun this cell to show the HTML representation or trust the notebook. <br />On GitHub, the HTML representation is unable to render, please try loading this page with nbviewer.org.</b></div><div class=\"sk-container\" hidden><div class=\"sk-item\"><div class=\"sk-estimator fitted sk-toggleable\"><input class=\"sk-toggleable__control sk-hidden--visually\" id=\"sk-estimator-id-2\" type=\"checkbox\" checked><label for=\"sk-estimator-id-2\" class=\"sk-toggleable__label fitted sk-toggleable__label-arrow\"><div><div>NearestNeighbors</div></div><div><a class=\"sk-estimator-doc-link fitted\" rel=\"noreferrer\" target=\"_blank\" href=\"https://scikit-learn.org/1.7/modules/generated/sklearn.neighbors.NearestNeighbors.html\">?<span>Documentation for NearestNeighbors</span></a><span class=\"sk-estimator-doc-link fitted\">i<span>Fitted</span></span></div></label><div class=\"sk-toggleable__content fitted\" data-param-prefix=\"\">\n",
       "        <div class=\"estimator-table\">\n",
       "            <details>\n",
       "                <summary>Parameters</summary>\n",
       "                <table class=\"parameters-table\">\n",
       "                  <tbody>\n",
       "                    \n",
       "        <tr class=\"user-set\">\n",
       "            <td><i class=\"copy-paste-icon\"\n",
       "                 onclick=\"copyToClipboard('n_neighbors',\n",
       "                          this.parentElement.nextElementSibling)\"\n",
       "            ></i></td>\n",
       "            <td class=\"param\">n_neighbors&nbsp;</td>\n",
       "            <td class=\"value\">1</td>\n",
       "        </tr>\n",
       "    \n",
       "\n",
       "        <tr class=\"default\">\n",
       "            <td><i class=\"copy-paste-icon\"\n",
       "                 onclick=\"copyToClipboard('radius',\n",
       "                          this.parentElement.nextElementSibling)\"\n",
       "            ></i></td>\n",
       "            <td class=\"param\">radius&nbsp;</td>\n",
       "            <td class=\"value\">1.0</td>\n",
       "        </tr>\n",
       "    \n",
       "\n",
       "        <tr class=\"default\">\n",
       "            <td><i class=\"copy-paste-icon\"\n",
       "                 onclick=\"copyToClipboard('algorithm',\n",
       "                          this.parentElement.nextElementSibling)\"\n",
       "            ></i></td>\n",
       "            <td class=\"param\">algorithm&nbsp;</td>\n",
       "            <td class=\"value\">&#x27;auto&#x27;</td>\n",
       "        </tr>\n",
       "    \n",
       "\n",
       "        <tr class=\"default\">\n",
       "            <td><i class=\"copy-paste-icon\"\n",
       "                 onclick=\"copyToClipboard('leaf_size',\n",
       "                          this.parentElement.nextElementSibling)\"\n",
       "            ></i></td>\n",
       "            <td class=\"param\">leaf_size&nbsp;</td>\n",
       "            <td class=\"value\">30</td>\n",
       "        </tr>\n",
       "    \n",
       "\n",
       "        <tr class=\"default\">\n",
       "            <td><i class=\"copy-paste-icon\"\n",
       "                 onclick=\"copyToClipboard('metric',\n",
       "                          this.parentElement.nextElementSibling)\"\n",
       "            ></i></td>\n",
       "            <td class=\"param\">metric&nbsp;</td>\n",
       "            <td class=\"value\">&#x27;minkowski&#x27;</td>\n",
       "        </tr>\n",
       "    \n",
       "\n",
       "        <tr class=\"default\">\n",
       "            <td><i class=\"copy-paste-icon\"\n",
       "                 onclick=\"copyToClipboard('p',\n",
       "                          this.parentElement.nextElementSibling)\"\n",
       "            ></i></td>\n",
       "            <td class=\"param\">p&nbsp;</td>\n",
       "            <td class=\"value\">2</td>\n",
       "        </tr>\n",
       "    \n",
       "\n",
       "        <tr class=\"default\">\n",
       "            <td><i class=\"copy-paste-icon\"\n",
       "                 onclick=\"copyToClipboard('metric_params',\n",
       "                          this.parentElement.nextElementSibling)\"\n",
       "            ></i></td>\n",
       "            <td class=\"param\">metric_params&nbsp;</td>\n",
       "            <td class=\"value\">None</td>\n",
       "        </tr>\n",
       "    \n",
       "\n",
       "        <tr class=\"default\">\n",
       "            <td><i class=\"copy-paste-icon\"\n",
       "                 onclick=\"copyToClipboard('n_jobs',\n",
       "                          this.parentElement.nextElementSibling)\"\n",
       "            ></i></td>\n",
       "            <td class=\"param\">n_jobs&nbsp;</td>\n",
       "            <td class=\"value\">None</td>\n",
       "        </tr>\n",
       "    \n",
       "                  </tbody>\n",
       "                </table>\n",
       "            </details>\n",
       "        </div>\n",
       "    </div></div></div></div></div><script>function copyToClipboard(text, element) {\n",
       "    // Get the parameter prefix from the closest toggleable content\n",
       "    const toggleableContent = element.closest('.sk-toggleable__content');\n",
       "    const paramPrefix = toggleableContent ? toggleableContent.dataset.paramPrefix : '';\n",
       "    const fullParamName = paramPrefix ? `${paramPrefix}${text}` : text;\n",
       "\n",
       "    const originalStyle = element.style;\n",
       "    const computedStyle = window.getComputedStyle(element);\n",
       "    const originalWidth = computedStyle.width;\n",
       "    const originalHTML = element.innerHTML.replace('Copied!', '');\n",
       "\n",
       "    navigator.clipboard.writeText(fullParamName)\n",
       "        .then(() => {\n",
       "            element.style.width = originalWidth;\n",
       "            element.style.color = 'green';\n",
       "            element.innerHTML = \"Copied!\";\n",
       "\n",
       "            setTimeout(() => {\n",
       "                element.innerHTML = originalHTML;\n",
       "                element.style = originalStyle;\n",
       "            }, 2000);\n",
       "        })\n",
       "        .catch(err => {\n",
       "            console.error('Failed to copy:', err);\n",
       "            element.style.color = 'red';\n",
       "            element.innerHTML = \"Failed!\";\n",
       "            setTimeout(() => {\n",
       "                element.innerHTML = originalHTML;\n",
       "                element.style = originalStyle;\n",
       "            }, 2000);\n",
       "        });\n",
       "    return false;\n",
       "}\n",
       "\n",
       "document.querySelectorAll('.fa-regular.fa-copy').forEach(function(element) {\n",
       "    const toggleableContent = element.closest('.sk-toggleable__content');\n",
       "    const paramPrefix = toggleableContent ? toggleableContent.dataset.paramPrefix : '';\n",
       "    const paramName = element.parentElement.nextElementSibling.textContent.trim();\n",
       "    const fullParamName = paramPrefix ? `${paramPrefix}${paramName}` : paramName;\n",
       "\n",
       "    element.setAttribute('title', fullParamName);\n",
       "});\n",
       "</script></body>"
      ],
      "text/plain": [
       "NearestNeighbors(n_neighbors=1)"
      ]
     },
     "execution_count": 67,
     "metadata": {},
     "output_type": "execute_result"
    }
   ],
   "source": [
    "# Подготовка данных для k-NN\n",
    "# Обучаю k-NN на лояльных клиентах из ТРЕНИРОВОЧНОЙ выборки\n",
    "X_train_loyal_scaled = X_train[y_train == 0]\n",
    "X_train_loyal_orig = X_train_orig_knn[y_train == 0]\n",
    "\n",
    "knn = NearestNeighbors(n_neighbors=1, algorithm='auto')\n",
    "knn.fit(X_train_loyal_scaled)"
   ]
  },
  {
   "cell_type": "code",
   "execution_count": 68,
   "id": "13822210",
   "metadata": {},
   "outputs": [],
   "source": [
    "# Функция для генерации k-NN рекомендаций\n",
    "def get_knn_recommendation(risky_client_scaled_data, risky_client_orig_data, loyal_train_scaled, loyal_train_orig, knn_model):\n",
    "    \"\"\"Находит ближайшего лояльного соседа и сравнивает услуги.\"\"\"\n",
    "    \n",
    "    _, neighbor_index_pos = knn_model.kneighbors(risky_client_scaled_data.values.reshape(1, -1))\n",
    "    neighbor_id = loyal_train_scaled.index[neighbor_index_pos[0][0]]\n",
    "    neighbor_orig_data = loyal_train_orig.loc[neighbor_id]\n",
    "    \n",
    "    recommendations = []\n",
    "    service_cols_orig = [\n",
    "        'PhoneService', 'MultipleLines', 'OnlineSecurity', 'OnlineBackup', \n",
    "        'DeviceProtection', 'TechSupport', 'StreamingTV', 'StreamingMovies'\n",
    "    ]\n",
    "    \n",
    "    for service in service_cols_orig:\n",
    "        if risky_client_orig_data[service] == 'No' and neighbor_orig_data[service] == 'Yes':\n",
    "            recommendations.append(service)\n",
    "            \n",
    "    return f\"Предложить подключить: {', '.join(recommendations)}\" if recommendations else \"Предложить более выгодный контракт.\""
   ]
  },
  {
   "cell_type": "code",
   "execution_count": 69,
   "id": "30bfc492",
   "metadata": {},
   "outputs": [
    {
     "name": "stdout",
     "output_type": "stream",
     "text": [
      "\n",
      "Найдено 396 клиентов для удержания на основе оптимального порога.\n",
      "\n",
      "Итоговый отчет с персонализированными рекомендациями (топ-10):\n"
     ]
    },
    {
     "data": {
      "application/vnd.microsoft.datawrangler.viewer.v0+json": {
       "columns": [
        {
         "name": "CustomerID",
         "rawType": "int64",
         "type": "integer"
        },
        {
         "name": "Churn_Probability",
         "rawType": "object",
         "type": "string"
        },
        {
         "name": "KNN_Recommendation",
         "rawType": "object",
         "type": "string"
        }
       ],
       "ref": "574dda98-6854-4624-890e-42e6797ae4d0",
       "rows": [
        [
         "3380",
         "91.98%",
         "Предложить более выгодный контракт."
        ],
        [
         "4585",
         "89.85%",
         "Предложить более выгодный контракт."
        ],
        [
         "6240",
         "89.11%",
         "Предложить более выгодный контракт."
        ],
        [
         "642",
         "88.12%",
         "Предложить более выгодный контракт."
        ],
        [
         "2397",
         "87.79%",
         "Предложить более выгодный контракт."
        ],
        [
         "2246",
         "87.49%",
         "Предложить более выгодный контракт."
        ],
        [
         "2464",
         "86.14%",
         "Предложить более выгодный контракт."
        ],
        [
         "6633",
         "85.30%",
         "Предложить более выгодный контракт."
        ],
        [
         "383",
         "84.55%",
         "Предложить более выгодный контракт."
        ],
        [
         "2753",
         "84.36%",
         "Предложить более выгодный контракт."
        ]
       ],
       "shape": {
        "columns": 2,
        "rows": 10
       }
      },
      "text/html": [
       "<div>\n",
       "<style scoped>\n",
       "    .dataframe tbody tr th:only-of-type {\n",
       "        vertical-align: middle;\n",
       "    }\n",
       "\n",
       "    .dataframe tbody tr th {\n",
       "        vertical-align: top;\n",
       "    }\n",
       "\n",
       "    .dataframe thead th {\n",
       "        text-align: right;\n",
       "    }\n",
       "</style>\n",
       "<table border=\"1\" class=\"dataframe\">\n",
       "  <thead>\n",
       "    <tr style=\"text-align: right;\">\n",
       "      <th></th>\n",
       "      <th>Churn_Probability</th>\n",
       "      <th>KNN_Recommendation</th>\n",
       "    </tr>\n",
       "    <tr>\n",
       "      <th>CustomerID</th>\n",
       "      <th></th>\n",
       "      <th></th>\n",
       "    </tr>\n",
       "  </thead>\n",
       "  <tbody>\n",
       "    <tr>\n",
       "      <th>3380</th>\n",
       "      <td>91.98%</td>\n",
       "      <td>Предложить более выгодный контракт.</td>\n",
       "    </tr>\n",
       "    <tr>\n",
       "      <th>4585</th>\n",
       "      <td>89.85%</td>\n",
       "      <td>Предложить более выгодный контракт.</td>\n",
       "    </tr>\n",
       "    <tr>\n",
       "      <th>6240</th>\n",
       "      <td>89.11%</td>\n",
       "      <td>Предложить более выгодный контракт.</td>\n",
       "    </tr>\n",
       "    <tr>\n",
       "      <th>642</th>\n",
       "      <td>88.12%</td>\n",
       "      <td>Предложить более выгодный контракт.</td>\n",
       "    </tr>\n",
       "    <tr>\n",
       "      <th>2397</th>\n",
       "      <td>87.79%</td>\n",
       "      <td>Предложить более выгодный контракт.</td>\n",
       "    </tr>\n",
       "    <tr>\n",
       "      <th>2246</th>\n",
       "      <td>87.49%</td>\n",
       "      <td>Предложить более выгодный контракт.</td>\n",
       "    </tr>\n",
       "    <tr>\n",
       "      <th>2464</th>\n",
       "      <td>86.14%</td>\n",
       "      <td>Предложить более выгодный контракт.</td>\n",
       "    </tr>\n",
       "    <tr>\n",
       "      <th>6633</th>\n",
       "      <td>85.30%</td>\n",
       "      <td>Предложить более выгодный контракт.</td>\n",
       "    </tr>\n",
       "    <tr>\n",
       "      <th>383</th>\n",
       "      <td>84.55%</td>\n",
       "      <td>Предложить более выгодный контракт.</td>\n",
       "    </tr>\n",
       "    <tr>\n",
       "      <th>2753</th>\n",
       "      <td>84.36%</td>\n",
       "      <td>Предложить более выгодный контракт.</td>\n",
       "    </tr>\n",
       "  </tbody>\n",
       "</table>\n",
       "</div>"
      ],
      "text/plain": [
       "           Churn_Probability                   KNN_Recommendation\n",
       "CustomerID                                                       \n",
       "3380                  91.98%  Предложить более выгодный контракт.\n",
       "4585                  89.85%  Предложить более выгодный контракт.\n",
       "6240                  89.11%  Предложить более выгодный контракт.\n",
       "642                   88.12%  Предложить более выгодный контракт.\n",
       "2397                  87.79%  Предложить более выгодный контракт.\n",
       "2246                  87.49%  Предложить более выгодный контракт.\n",
       "2464                  86.14%  Предложить более выгодный контракт.\n",
       "6633                  85.30%  Предложить более выгодный контракт.\n",
       "383                   84.55%  Предложить более выгодный контракт.\n",
       "2753                  84.36%  Предложить более выгодный контракт."
      ]
     },
     "metadata": {},
     "output_type": "display_data"
    }
   ],
   "source": [
    "# Финальный отчет\n",
    "high_risk_indices = eco_analysis_df[eco_analysis_df['Churn_Probability'] >= optimal_threshold].index\n",
    "print(f\"\\nНайдено {len(high_risk_indices)} клиентов для удержания на основе оптимального порога.\")\n",
    "\n",
    "report_data = []\n",
    "for client_id in high_risk_indices:\n",
    "    risky_scaled = X_test.loc[client_id]\n",
    "    risky_orig = X_test_orig_knn.loc[client_id]\n",
    "    \n",
    "    knn_rec = get_knn_recommendation(risky_scaled, risky_orig, X_train_loyal_scaled, X_train_loyal_orig, knn)\n",
    "    \n",
    "    prob = eco_analysis_df.loc[client_id, 'Churn_Probability']\n",
    "    \n",
    "    report_data.append({\n",
    "        'CustomerID': client_id,\n",
    "        'Churn_Probability': f\"{prob:.2%}\",\n",
    "        'KNN_Recommendation': knn_rec\n",
    "    })\n",
    "\n",
    "final_report_df = pd.DataFrame(report_data).sort_values(by='Churn_Probability', ascending=False).set_index('CustomerID')\n",
    "\n",
    "print(\"\\nИтоговый отчет с персонализированными рекомендациями (топ-10):\")\n",
    "display(final_report_df.head(10))"
   ]
  },
  {
   "cell_type": "code",
   "execution_count": 70,
   "id": "c6474eeb",
   "metadata": {},
   "outputs": [
    {
     "data": {
      "text/plain": [
       "array(['Предложить более выгодный контракт.',\n",
       "       'Предложить подключить: MultipleLines',\n",
       "       'Предложить подключить: TechSupport',\n",
       "       'Предложить подключить: StreamingMovies',\n",
       "       'Предложить подключить: OnlineBackup',\n",
       "       'Предложить подключить: OnlineSecurity',\n",
       "       'Предложить подключить: DeviceProtection',\n",
       "       'Предложить подключить: StreamingTV'], dtype=object)"
      ]
     },
     "execution_count": 70,
     "metadata": {},
     "output_type": "execute_result"
    }
   ],
   "source": [
    "final_report_df.KNN_Recommendation.unique()"
   ]
  },
  {
   "cell_type": "markdown",
   "id": "45c9797b",
   "metadata": {},
   "source": [
    "### 6. Интерпретация и итоговый отчет"
   ]
  },
  {
   "cell_type": "markdown",
   "id": "7dc90345",
   "metadata": {},
   "source": [
    "Интерпретация решения для конкретного клиента (LIME).\n",
    "Чтобы лучше понять, почему конкретный клиент попал в группу риска, мы можем использовать LIME. Этот инструмент подсвечивает, какие именно факторы (например, \"помесячный контракт\" или \"отсутствие техподдержки\") внесли наибольший вклад в прогноз модели. Это помогает менеджерам принимать более взвешенные решения."
   ]
  },
  {
   "cell_type": "code",
   "execution_count": 71,
   "id": "f5e1bff7",
   "metadata": {},
   "outputs": [],
   "source": [
    "# Анализ одного клиента с помощью LIME\n",
    "\n",
    "# Выбираю клиента с самой высокой вероятностью оттока для анализа\n",
    "client_to_explain_id = final_report_df.index[0]\n",
    "client_to_explain_data = X_test.loc[client_to_explain_id]\n",
    "\n",
    "# Создаю LIME-интерпретатор\n",
    "explainer = lime.lime_tabular.LimeTabularExplainer(\n",
    "    X_train.values,\n",
    "    feature_names=X_train.columns.tolist(),\n",
    "    class_names=['Не уйдет', 'Уйдет'],\n",
    "    discretize_continuous=True,\n",
    "    verbose=False\n",
    ")\n",
    "\n",
    "# Создаю объяснение\n",
    "explanation = explainer.explain_instance(\n",
    "    client_to_explain_data.values,\n",
    "    best_model.predict_proba,\n",
    "    num_features=5\n",
    ")"
   ]
  },
  {
   "cell_type": "code",
   "execution_count": 72,
   "id": "d1b8a215",
   "metadata": {},
   "outputs": [
    {
     "data": {
      "image/png": "[encoded data removed]",
      "text/plain": [
       "<Figure size 1200x800 with 1 Axes>"
      ]
     },
     "metadata": {},
     "output_type": "display_data"
    }
   ],
   "source": [
    "# Визуализация\n",
    "\n",
    "# 1. Получаю данные из объяснения\n",
    "exp_list = explanation.as_list()\n",
    "exp_list.reverse() # Реверс, чтобы самый важный признак был наверху\n",
    "\n",
    "features = [x[0] for x in exp_list]\n",
    "weights = [x[1] for x in exp_list]\n",
    "\n",
    "# Цвета: красный - отток (положительный вклад), зеленый - удержание (отрицательный)\n",
    "colors = ['green' if w < 0 else '#e06666' for w in weights]\n",
    "\n",
    "# 2. График\n",
    "fig, ax = plt.subplots(figsize=(12, 8))\n",
    "bars = ax.barh(features, weights, color=colors)\n",
    "\n",
    "# 3. Внешний вид\n",
    "ax.set_title(f\"Анализ причин оттока для клиента {client_to_explain_id}\\nВероятность ухода: {final_report_df.iloc[0]['Churn_Probability']}\", fontsize=16, pad=20)\n",
    "ax.set_xlabel(\"Вклад в предсказание\", fontsize=12)\n",
    "ax.axvline(0, color='black', linewidth=0.8, linestyle='--') # Линия нуля для наглядности\n",
    "\n",
    "# Текст на барах\n",
    "for bar in bars:\n",
    "    width = bar.get_width()\n",
    "    # текст справа или слева от бара в зависимости от знака\n",
    "    label_x_pos = width + 0.005 if width > 0 else width - 0.005\n",
    "    ax.text(label_x_pos, bar.get_y() + bar.get_height()/2, f'{width:.3f}',\n",
    "            va='center', ha='left' if width > 0 else 'right',\n",
    "            fontsize=11)\n",
    "\n",
    "# Легенда\n",
    "red_patch = mpatches.Patch(color='#e06666', label='Повышает вероятность оттока')\n",
    "green_patch = mpatches.Patch(color='green', label='Снижает вероятность оттока')\n",
    "ax.legend(handles=[red_patch, green_patch], loc='lower right', fontsize=12)\n",
    "\n",
    "plt.tight_layout()\n",
    "plt.show()"
   ]
  },
  {
   "cell_type": "markdown",
   "id": "b872e482",
   "metadata": {},
   "source": [
    "## Заключение и выводы"
   ]
  },
  {
   "cell_type": "code",
   "execution_count": 73,
   "id": "78e9e443",
   "metadata": {},
   "outputs": [
    {
     "name": "stdout",
     "output_type": "stream",
     "text": [
      "Лучшая модель по итогам оптимизации: Logistic Regression\n",
      "Лучший ROC AUC: 0.8428\n"
     ]
    }
   ],
   "source": [
    "print(f\"Лучшая модель по итогам оптимизации: {best_model_name}\")\n",
    "print(f\"Лучший ROC AUC: {best_model_info['best_score']:.4f}\")"
   ]
  },
  {
   "cell_type": "markdown",
   "id": "e58b1282",
   "metadata": {},
   "source": [
    "В ходе работы была создана комплексная система для прогнозирования и удержания клиентов, которая решает поставленные задачи:\n",
    "\n",
    "1. Построена и оптимизирована модель машинного обучения (CatBoost), которая с высокой точностью (ROC AUC 0.8438) предсказывает вероятность оттока для каждого клиента.\n",
    "\n",
    "2. Разработана методология экономического анализа, позволяющая определить оптимальную стратегию удержания. Вместо того чтобы пытаться удержать всех, система находит порог вероятности, который максимизирует чистую прибыль, обеспечивая положительный ROI. Это ключевое преимущество для бизнеса, позволяющее избежать нерентабельных маркетинговых кампаний.\n",
    "\n",
    "3. Создан механизм формирования персонализированных рекомендаций на основе метода k-NN. Для каждого клиента из группы риска система предлагает конкретные услуги, которые могут повысить его лояльность, основываясь на поведении похожих, но оставшихся с компанией клиентов.\n",
    "\n",
    "4. Сформирован итоговый отчет, который является готовым к использованию инструментом для отдела маркетинга или удержания. Он содержит список клиентов с наивысшим риском оттока, их вероятность ухода и конкретные рекомендации по дальнейшим действиям.\n",
    "\n",
    "Таким образом, разработанное решение не просто является предсказательной моделью, а представляет собой полноценную систему поддержки принятия решений, напрямую связанную с экономическими показателями компании."
   ]
  }
 ],
 "metadata": {
  "kernelspec": {
   "display_name": "diplom_venv",
   "language": "python",
   "name": "python3"
  },
  "language_info": {
   "codemirror_mode": {
    "name": "ipython",
    "version": 3
   },
   "file_extension": ".py",
   "mimetype": "text/x-python",
   "name": "python",
   "nbconvert_exporter": "python",
   "pygments_lexer": "ipython3",
   "version": "3.11.9"
  }
 },
 "nbformat": 4,
 "nbformat_minor": 5
}
